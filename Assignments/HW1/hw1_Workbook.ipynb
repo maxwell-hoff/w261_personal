{
 "cells": [
  {
   "cell_type": "markdown",
   "metadata": {},
   "source": [
    "# HW1 - Intro to the Map Reduce Paradigm  \n",
    "__ `MIDS w261: Machine Learning at Scale | UC Berkeley School of Information | Spring 2018`__\n",
    "\n",
    "Welcome to Machine Learning at Scale! This first homework assignment introduces one of the core strategies in distributed processing: divide and conquer. We'll use the simplest of tasks, word counting, to illustrate the difference between a scalable and non-scalable algorithm. You will be working with the text of _Alice in Wonderland_ to put these ideas into practice using Python and Bash scripting. By the end of this week you should be able to:\n",
    "* ... __describe__ the Bias-Variance tradeoff as it applies to Machine Learning.\n",
    "* ... __explain__ why we consider word counting to be an \"Embarrassingly Parallel\" task.\n",
    "* ... __estimate__ the runtime of embarrassingly parallel tasks using \"back of the envelope\" calculations.\n",
    "* ... __implement__ a Map Reduce algorithm using the Command Line.\n",
    "* ... __set-up__ a Docker container and know why we use them for this course.\n",
    "\n",
    "You will also  become familiar (if you aren't already) with `defaultdict`, `re` and `time` in Python, linux piping and sorting, and Jupyter magic commands `%%writefile` and `%%timeit`. __Please refer to the `README` for detailed submission instructions__.\n",
    "\n",
    "__IMPORTANT:__ If you're not familiar with linux, you should read the following tutorial reagrding **piping** and **redirecting**: https://ryanstutorials.net/linuxtutorial/piping.php You will need to understand the differences to answer some of the later questions.\n"
   ]
  },
  {
   "cell_type": "markdown",
   "metadata": {},
   "source": [
    "# Notebook Set-Up\n",
    "Before starting your homework run the following cells to confirm your setup."
   ]
  },
  {
   "cell_type": "code",
   "execution_count": 11,
   "metadata": {},
   "outputs": [
    {
     "name": "stdout",
     "output_type": "stream",
     "text": [
      "/w261_personal/Assignments/HW1\n"
     ]
    }
   ],
   "source": [
    "# Fix the working directory with the location of your Notebook\n",
    "%cd /w261_personal/Assignments/HW1"
   ]
  },
  {
   "cell_type": "code",
   "execution_count": 2,
   "metadata": {},
   "outputs": [
    {
     "data": {
      "text/plain": [
       "sys.version_info(major=3, minor=8, micro=13, releaselevel='final', serial=0)"
      ]
     },
     "execution_count": 2,
     "metadata": {},
     "output_type": "execute_result"
    }
   ],
   "source": [
    "# confirm you are running Python 3\n",
    "import sys\n",
    "sys.version_info"
   ]
  },
  {
   "cell_type": "code",
   "execution_count": 3,
   "metadata": {},
   "outputs": [],
   "source": [
    "# imports\n",
    "import re\n",
    "import sys"
   ]
  },
  {
   "cell_type": "markdown",
   "metadata": {},
   "source": [
    "Create a folder for any data you download locally."
   ]
  },
  {
   "cell_type": "code",
   "execution_count": 6,
   "metadata": {},
   "outputs": [],
   "source": [
    "# No longer needed\n",
    "# !mkdir -p data\n",
    "# NOTE: the contents of this directory will be ignored by git."
   ]
  },
  {
   "cell_type": "markdown",
   "metadata": {},
   "source": [
    "# Question 1: Introductions\n",
    "\n",
    "`The Caterpillar and Alice looked at each other for some time in silence: at last the Caterpillar took the hookah out of its mouth, and addressed her in a languid, sleepy voice. \"Who are you?\" said the Caterpillar.`   \n",
    "<div style=\"text-align: right\"> -- Lewis Carroll, _Alice's Adventures in Wonderland_, Chapter 4 </div>\n",
    "\n",
    "\n",
    "__Tell us about yourself! Briefly describe where you live, how far along you are in MIDS, what other classes you are taking and what you want to get out of w261.__"
   ]
  },
  {
   "cell_type": "markdown",
   "metadata": {},
   "source": [
    "> Hi my name is Max Hoff and I'm a second year MIDS student and I live in Chicago. This is currently the only class I'm taking and I'm hoping to improve my data engineering skills. At work, I'm constantly faced with computing constraints and would like to learn how to better navigate these challenges."
   ]
  },
  {
   "cell_type": "markdown",
   "metadata": {},
   "source": [
    "# Question 2: Bias - Variance\n",
    "__In 1-2 paragraphs (~200 and _absolutely no more_ than 300 words!), explain the bias-variance trade off. Describe what it means to \"decompose\" sources of error. How is this used in machine learning?__ Please use mathematical equation(s) to support your explanation. (Use `$` signs to take advantage of $\\LaTeX$ formatting, eg. `$f(x)$` will look like: $f(x)$). Please also cite any sources that informed your answer."
   ]
  },
  {
   "cell_type": "markdown",
   "metadata": {},
   "source": [
    "> "
   ]
  },
  {
   "cell_type": "markdown",
   "metadata": {},
   "source": [
    "# Question 3: Tokenizing\n",
    "A number of our assignments this term will involve extracting information from text. A common preprocessing step when working with raw files is to 'tokenize' (i.e. extract words from) the text. Within the field of Natural Language Processing a lot of thought goes into what specific tokenizing makes most sense for a given task. For example, you might choose to remove punctuation or to consider punctuation symbols  'tokens' in their own right. __In this question you'll use the Python `re` module to create a tokenizer to use when you perform WordCount on the _Alice In Wonderland_ text.__\n",
    "\n",
    "### Q3 Tasks:\n",
    "\n",
    "* __a) short response:__ In the Naive Bayes algorithm (which we'll implement next week), we'll estimate the _likelihood_ of a word by counting the number of times it appears and dividing by the size of the vocabulary (total number of unique words). Using the text: *\"Alice had an adventure that took alice to wonderland\"*, give a concrete example of how two different tokenizers could cause us to get two different results on this calculation. [`HINT`: _you should not need to read up on Naive Bayes to answer this question_]  \n",
    "  \n",
    "\n",
    "* __b) short response:__ When tokenizing in this assignment we'll remove punctuation and discard numerical digits by making everything lowercase and then capturing only consecutive letters a to z. Suppose __`tokenize(x)`__ is a Python function that performs the desired tokenization. What would __`tokenize(\"By-the-bye, what became of Alice's 12 hats?!\")`__ output? Type the answer in the space provided below.\n",
    "\n",
    "\n",
    "* __c) code:__  Fill in the regular expression pattern in the cell labeled `part c` so that the subsequent call to `re.findall(RE_PATTERN, ...)` returns the tokenization described above. [`HINT`: _we've taken care of the lowercase part for you. If regex is new to you, check out the [`re`  documentation](https://docs.python.org/3/library/re.html) or [this PyMOTW tutorial](https://pymotw.com/2/re/)._]"
   ]
  },
  {
   "cell_type": "markdown",
   "metadata": {},
   "source": [
    "### Q3 Student Answers:\n",
    "> __a)__ Type your answer here!\n",
    "\n",
    "> __b)__ Type your answer here!"
   ]
  },
  {
   "cell_type": "code",
   "execution_count": 4,
   "metadata": {
    "tags": []
   },
   "outputs": [],
   "source": [
    "# Part C - Fill in the regular expression\n",
    "RE_PATTERN = re.compile(\"[a-z]{2,}\")         "
   ]
  },
  {
   "cell_type": "code",
   "execution_count": 5,
   "metadata": {
    "tags": []
   },
   "outputs": [
    {
     "name": "stdout",
     "output_type": "stream",
     "text": [
      "['by', 'the', 'bye', 'what', 'became', 'of', 'alice', 'hats']\n"
     ]
    }
   ],
   "source": [
    "# Tokenize - DO NOT MODIFY THIS CELL, just run it as is to check your pattern\n",
    "words = re.findall(RE_PATTERN, \"By-the-bye, what became of Alice's 12 hats?!\".lower())\n",
    "print(words)"
   ]
  },
  {
   "cell_type": "markdown",
   "metadata": {},
   "source": [
    "# Load the Data\n",
    "` \"Please would you tell me\", said Alice, a little timidly, for she was not quite sure whether it was good manners for her to speak first, \"why your cat grins like that?\"`  \n",
    "<div style=\"text-align: right\">  -- Lewis Carroll, _Alice's Adventures in Wonderland_, Chapter 4  </div>\n",
    "\n",
    "For the main part of this assignment we'll be working with the free plain text version of _Alice's Adventures in Wonderland_ available from Project Gutenberg. __Use the first two cells below to download this text and preview the first few lines.__ "
   ]
  },
  {
   "cell_type": "code",
   "execution_count": 9,
   "metadata": {
    "tags": []
   },
   "outputs": [],
   "source": [
    "# No longer need to download data\n",
    "# Download Full text \n",
    "# NOTE: feel free to replace 'curl' with 'wget' or equivalent command of your choice.\n",
    "# !curl \"http://www.gutenberg.org/files/11/11-0.txt\" -o data/alice.txt"
   ]
  },
  {
   "cell_type": "code",
   "execution_count": 6,
   "metadata": {},
   "outputs": [
    {
     "name": "stdout",
     "output_type": "stream",
     "text": [
      "﻿The Project Gutenberg eBook of Alice’s Adventures in Wonderland, by Lewis Carroll\n",
      "\n",
      "This eBook is for the use of anyone anywhere in the United States and\n",
      "most other parts of the world at no cost and with almost no restrictions\n",
      "whatsoever. You may copy it, give it away or re-use it under the terms\n",
      "of the Project Gutenberg License included with this eBook or online at\n"
     ]
    }
   ],
   "source": [
    "# Take a peak at the first few lines\n",
    "!head -n 6 data/alice.txt\n",
    "# NOTE: If you are working in JupyterLab on Docker you may not see the output \n",
    "# below due to an encoding issue... in that case, use a terminal on Docker to \n",
    "# execute this head command and confirm that the file has downloaded properly, \n",
    "# this encoding issue should not affect your work on subsequent HW items."
   ]
  },
  {
   "cell_type": "markdown",
   "metadata": {},
   "source": [
    "We'd also like you to develop a habit of creating small files with simulated data for use in developing, debugging and testing your code. The jupyter magic command `%%writefile` is a convenient way to do this. __Run the following cells to create a test data file for use in our word counting task.__"
   ]
  },
  {
   "cell_type": "code",
   "execution_count": 7,
   "metadata": {},
   "outputs": [
    {
     "name": "stdout",
     "output_type": "stream",
     "text": [
      "Overwriting data/alice_test.txt\n"
     ]
    }
   ],
   "source": [
    "%%writefile data/alice_test.txt\n",
    "This is a small test file. This file is for a test.\n",
    "This small test file has two small lines."
   ]
  },
  {
   "cell_type": "code",
   "execution_count": 8,
   "metadata": {},
   "outputs": [
    {
     "name": "stdout",
     "output_type": "stream",
     "text": [
      "alice_test.txt\n"
     ]
    }
   ],
   "source": [
    "# confirm the file was created in the data directory using a grep command:\n",
    "!ls data | grep test"
   ]
  },
  {
   "cell_type": "markdown",
   "metadata": {},
   "source": [
    "# Question 4: Word Count in Python\n",
    "\n",
    "Over the course of this term you will also become very familiar writing Python programs that read from standard input and using Linux piping commands to run these programs and save their output to file. __In this question you will write a short python script to perform the Word Count task and then run your script on the _Alice in Wonderland_ text__. You can think of this like a 'baseline implementation' that we'll later compare to the parallelized version of the same task.\n",
    "\n",
    "### Q4 Tasks:\n",
    "\n",
    "* __a) code:__ Complete the Python script in the file __`wordCount.py`__. Read the docstrings carefully to be sure you understand the expected behavior of this function. Please do not code outside of the marked location.\n",
    "\n",
    "\n",
    "* __b) testing:__ Run the cell marked `part b` to call your script on the test file we created above. Confirm that your script returns the correct counts for each word by visually comparing the output to the test file. \n",
    "\n",
    "\n",
    "* __c) results:__ When you are confident in your implementation, run the cell marked `part c` to count the number of occurrences of each word in _Alice's Adventures in Wonderland_. In the same cell we'll pipe the output to file. Then use the provided `grep` commands to check your answers.\n",
    "\n",
    "\n",
    "* __d) short response:__ Suppose you decide that you'd really like  a word and its plural (e.g. 'hatter' and 'hatters' or 'person' and 'people') to be counted as the same word. After we have run the wordcount would it be more efficient to post-process your output file or discard your output file and start the analysis over with a new tokenizer? Explain your reasoning briefly. "
   ]
  },
  {
   "cell_type": "markdown",
   "metadata": {},
   "source": [
    "### Q4 Student Answers:\n",
    "> __a-c)__ _Complete the coding portions of this question before answering 'd'._\n",
    "\n",
    "> __d)__ Type your answer here!"
   ]
  },
  {
   "cell_type": "code",
   "execution_count": null,
   "metadata": {
    "collapsed": true,
    "jupyter": {
     "outputs_hidden": true
    }
   },
   "outputs": [],
   "source": [
    "# part a - DO YOUR WORK IN wordCount.py"
   ]
  },
  {
   "cell_type": "code",
   "execution_count": 18,
   "metadata": {},
   "outputs": [
    {
     "name": "stdout",
     "output_type": "stream",
     "text": [
      "#!/usr/bin/env python\n",
      "\"\"\"\n",
      "This script reads lines from STDIN and returns a list of\n",
      "all words an the count of how many times they occurred.\n",
      "\n",
      "INPUT:\n",
      "    a text file\n",
      "OUTPUT FORMAT:\n",
      "    word \\t count\n",
      "USAGE:\n",
      "    python wordCount.py < yourTextFile.txt\n",
      "\n",
      "Instructions:\n",
      "    Fill in the missing code below so that the script\n",
      "    prints tab separated word counts to Standard Output.\n",
      "    NOTE: we have performed the tokenizing for you, please\n",
      "    don't modify the provided code or you may fail unittests.\n",
      "\"\"\"\n",
      "\n",
      "# imports\n",
      "import sys\n",
      "import re\n",
      "from collections import defaultdict\n",
      "\n",
      "counts = defaultdict(int)\n",
      "\n",
      "# stream over lines from Standard Input\n",
      "for line in sys.stdin:\n",
      "\n",
      "    # tokenize\n",
      "    line = line.strip()\n",
      "    words = re.findall(r'[a-z]+', line.lower())\n",
      "\n",
      "############ YOUR CODE HERE #########\n",
      "\n",
      "\n",
      "#     for word in words:\n",
      "#         x+=1\n",
      "\n",
      "print(words)\n",
      "\n",
      "\n",
      "############ (END) YOUR CODE #########\n"
     ]
    }
   ],
   "source": [
    "# part a - DO NOT MODIFY THIS CELL - run this cell after you \n",
    "# complete wordCount.py so the graders can view your work\n",
    "!cat wordCount.py"
   ]
  },
  {
   "cell_type": "code",
   "execution_count": 66,
   "metadata": {},
   "outputs": [
    {
     "name": "stdout",
     "output_type": "stream",
     "text": [
      "defaultdict(<class 'int'>, {'this': 3, 'is': 2, 'a': 2, 'small': 3, 'test': 3, 'file': 3, 'for': 1, 'has': 1, 'two': 1, 'lines': 1})\n"
     ]
    }
   ],
   "source": [
    "# part b - DO NOT MODIFY THIS CELL, just run it as is to test your script\n",
    "!python wordCount.py < data/alice_test.txt"
   ]
  },
  {
   "cell_type": "code",
   "execution_count": 62,
   "metadata": {},
   "outputs": [],
   "source": [
    "# part c - DO NOT MODIFY THIS CELL, just run it as is to perform the word count.\n",
    "!python wordCount.py < data/alice.txt > data/alice_counts.txt"
   ]
  },
  {
   "cell_type": "markdown",
   "metadata": {},
   "source": [
    "Take a look at the first 10 words & their counts."
   ]
  },
  {
   "cell_type": "code",
   "execution_count": 63,
   "metadata": {
    "collapsed": true,
    "jupyter": {
     "outputs_hidden": true
    },
    "tags": []
   },
   "outputs": [
    {
     "name": "stdout",
     "output_type": "stream",
     "text": [
      "defaultdict(<class 'int'>, {'the': 1839, 'project': 88, 'gutenberg': 98, 'ebook': 13, 'of': 638, 'alice': 403, 's': 222, 'adventures': 11, 'in': 435, 'wonderland': 7, 'by': 86, 'lewis': 3, 'carroll': 3, 'this': 181, 'is': 131, 'for': 179, 'use': 32, 'anyone': 5, 'anywhere': 3, 'united': 15, 'states': 19, 'and': 942, 'most': 14, 'other': 57, 'parts': 3, 'world': 9, 'at': 225, 'no': 100, 'cost': 4, 'with': 228, 'almost': 8, 'restrictions': 2, 'whatsoever': 2, 'you': 486, 'may': 28, 'copy': 12, 'it': 610, 'give': 16, 'away': 28, 'or': 155, 're': 40, 'under': 22, 'terms': 23, 'license': 18, 'included': 3, 'online': 4, 'www': 10, 'org': 10, 'if': 118, 'are': 77, 'not': 173, 'located': 7, 'will': 42, 'have': 87, 'to': 811, 'check': 4, 'laws': 10, 'country': 5, 'where': 20, 'before': 42, 'using': 8, 'title': 1, 'author': 1, 'release': 1, 'date': 3, 'january': 1, 'recently': 1, 'updated': 2, 'october': 1, 'language': 1, 'english': 7, 'character': 2, 'set': 23, 'encoding': 1, 'utf': 1, 'produced': 3, 'arthur': 1, 'dibianca': 1, 'david': 1, 'widger': 1, 'start': 3, 'illustration': 1, 'millennium': 1, 'fulcrum': 1, 'edition': 2, 'contents': 1, 'chapter': 24, 'i': 546, 'down': 103, 'rabbit': 53, 'hole': 6, 'ii': 2, 'pool': 12, 'tears': 12, 'iii': 2, 'a': 695, 'caucus': 4, 'race': 7, 'long': 34, 'tale': 5, 'iv': 2, 'sends': 2, 'little': 129, 'bill': 18, 'v': 2, 'advice': 3, 'from': 52, 'caterpillar': 29, 'vi': 2, 'pig': 12, 'pepper': 9, 'vii': 2, 'mad': 16, 'tea': 20, 'party': 12, 'viii': 2, 'queen': 76, 'croquet': 10, 'ground': 9, 'ix': 2, 'mock': 57, 'turtle': 60, 'story': 9, 'x': 2, 'lobster': 8, 'quadrille': 5, 'xi': 2, 'who': 67, 'stole': 3, 'tarts': 8, 'xii': 2, 'evidence': 8, 'was': 359, 'beginning': 15, 'get': 46, 'very': 145, 'tired': 7, 'sitting': 10, 'her': 248, 'sister': 9, 'on': 204, 'bank': 3, 'having': 10, 'nothing': 34, 'do': 97, 'once': 34, 'twice': 5, 'she': 553, 'had': 178, 'peeped': 3, 'into': 67, 'book': 11, 'reading': 4, 'but': 174, 'pictures': 4, 'conversations': 2, 'what': 142, 'thought': 74, 'without': 34, 'so': 153, 'considering': 3, 'own': 10, 'mind': 11, 'as': 274, 'well': 63, 'could': 78, 'hot': 7, 'day': 29, 'made': 30, 'feel': 8, 'sleepy': 5, 'stupid': 6, 'whether': 11, 'pleasure': 2, 'making': 8, 'daisy': 1, 'chain': 1, 'would': 83, 'be': 167, 'worth': 4, 'trouble': 6, 'getting': 22, 'up': 103, 'picking': 2, 'daisies': 1, 'when': 80, 'suddenly': 13, 'white': 30, 'pink': 1, 'eyes': 29, 'ran': 16, 'close': 13, 'there': 101, 'remarkable': 2, 'that': 330, 'nor': 3, 'did': 63, 'think': 53, 'much': 52, 'out': 118, 'way': 58, 'hear': 15, 'say': 51, 'itself': 14, 'oh': 45, 'dear': 29, 'shall': 27, 'late': 6, 'over': 40, 'afterwards': 2, 'occurred': 2, 'ought': 14, 'wondered': 1, 'time': 71, 'all': 200, 'seemed': 27, 'quite': 55, 'natural': 4, 'actually': 1, 'took': 24, 'watch': 8, 'its': 60, 'waistcoat': 2, 'pocket': 7, 'looked': 45, 'then': 94, 'hurried': 11, 'started': 2, 'feet': 19, 'flashed': 1, 'across': 5, 'never': 48, 'seen': 15, 'either': 11, 'take': 22, 'burning': 1, 'curiosity': 5, 'field': 1, 'after': 43, 'fortunately': 1, 'just': 52, 'see': 70, 'pop': 1, 'large': 33, 'hedge': 2, 'another': 22, 'moment': 31, 'went': 83, 'how': 72, 'again': 83, 'straight': 2, 'like': 85, 'tunnel': 1, 'some': 52, 'dipped': 2, 'about': 102, 'stopping': 1, 'herself': 83, 'found': 35, 'falling': 2, 'deep': 7, 'fell': 6, 'slowly': 8, 'plenty': 2, 'look': 29, 'wonder': 18, 'going': 27, 'happen': 8, 'next': 30, 'first': 51, 'tried': 19, 'make': 30, 'coming': 9, 'too': 26, 'dark': 3, 'anything': 22, 'sides': 4, 'noticed': 8, 'they': 154, 'were': 85, 'filled': 3, 'cupboards': 2, 'shelves': 2, 'here': 51, 'saw': 14, 'maps': 1, 'hung': 1, 'upon': 28, 'pegs': 1, 'jar': 2, 'one': 106, 'passed': 5, 'labelled': 1, 'orange': 1, 'marmalade': 1, 'great': 39, 'disappointment': 1, 'empty': 1, 'drop': 1, 'fear': 4, 'killing': 1, 'somebody': 7, 'underneath': 2, 'managed': 4, 'put': 31, 'past': 3, 'such': 47, 'fall': 7, 'tumbling': 2, 'stairs': 3, 'brave': 1, 'll': 57, 'me': 68, 'home': 5, 'why': 40, 'wouldn': 13, 't': 218, 'even': 20, 'off': 73, 'top': 8, 'house': 18, 'which': 56, 'likely': 5, 'true': 4, 'come': 47, 'an': 62, 'end': 19, 'many': 14, 'miles': 3, 've': 44, 'fallen': 4, 'said': 462, 'aloud': 5, 'must': 54, 'somewhere': 3, 'near': 15, 'centre': 1, 'earth': 4, 'let': 22, 'four': 8, 'thousand': 2, 'learnt': 2, 'several': 5, 'things': 33, 'sort': 20, 'lessons': 10, 'schoolroom': 1, 'though': 11, 'good': 27, 'opportunity': 9, 'showing': 2, 'knowledge': 3, 'listen': 7, 'still': 13, 'practice': 1, 'yes': 13, 'right': 36, 'distance': 8, 'latitude': 2, 'longitude': 2, 'got': 45, 'idea': 15, 'nice': 6, 'grand': 3, 'words': 21, 'presently': 2, 'began': 58, 'through': 16, 'funny': 3, 'seem': 8, 'among': 12, 'people': 16, 'walk': 5, 'their': 52, 'heads': 10, 'downward': 1, 'antipathies': 1, 'rather': 25, 'glad': 11, 'listening': 3, 'didn': 14, 'sound': 4, 'word': 11, 'ask': 11, 'them': 88, 'name': 11, 'know': 88, 'please': 22, 'ma': 3, 'am': 16, 'new': 8, 'zealand': 1, 'australia': 1, 'curtsey': 1, 'spoke': 17, 'fancy': 7, 'curtseying': 1, 'air': 15, 'manage': 7, 'ignorant': 1, 'girl': 4, 'asking': 5, 'perhaps': 17, 'written': 9, 'else': 12, 'soon': 25, 'talking': 17, 'dinah': 14, 'miss': 4, 'night': 5, 'should': 29, 'cat': 37, 'hope': 4, 'remember': 14, 'saucer': 1, 'milk': 2, 'my': 58, 'wish': 22, 'mice': 4, 'm': 63, 'afraid': 12, 'might': 28, 'catch': 4, 'bat': 3, 'mouse': 44, 'cats': 13, 'eat': 18, 'bats': 4, 'saying': 15, 'dreamy': 1, 'sometimes': 5, 'couldn': 9, 'answer': 9, 'question': 17, 'matter': 9, 'felt': 23, 'dozing': 1, 'begun': 7, 'dream': 7, 'walking': 5, 'hand': 21, 'earnestly': 2, 'now': 60, 'tell': 32, 'truth': 1, 'ever': 22, 'thump': 2, 'came': 40, 'heap': 1, 'sticks': 1, 'dry': 8, 'leaves': 6, 'bit': 16, 'hurt': 3, 'jumped': 6, 'overhead': 1, 'passage': 4, 'sight': 10, 'hurrying': 1, 'lost': 3, 'wind': 2, 'turned': 16, 'corner': 4, 'ears': 5, 'whiskers': 3, 'behind': 13, 'longer': 3, 'low': 15, 'hall': 9, 'lit': 1, 'row': 2, 'lamps': 1, 'hanging': 3, 'roof': 6, 'doors': 2, 'round': 41, 'locked': 1, 'been': 38, 'side': 17, 'trying': 14, 'every': 12, 'door': 30, 'walked': 10, 'sadly': 5, 'middle': 8, 'wondering': 7, 'three': 28, 'legged': 2, 'table': 18, 'solid': 1, 'glass': 10, 'except': 8, 'tiny': 4, 'golden': 7, 'key': 9, 'belong': 1, 'alas': 4, 'locks': 2, 'small': 12, 'any': 76, 'rate': 9, 'open': 7, 'however': 21, 'second': 6, 'curtain': 1, 'fifteen': 1, 'inches': 6, 'high': 16, 'lock': 1, 'delight': 3, 'fitted': 1, 'opened': 10, 'led': 4, 'larger': 7, 'than': 27, 'rat': 1, 'knelt': 1, 'along': 6, 'loveliest': 1, 'garden': 16, 'longed': 2, 'wander': 1, 'those': 11, 'beds': 2, 'bright': 8, 'flowers': 2, 'cool': 2, 'fountains': 2, 'head': 50, 'doorway': 1, 'go': 50, 'poor': 27, 'shoulders': 4, 'shut': 5, 'telescope': 3, 'only': 52, 'knew': 15, 'begin': 13, 'happened': 7, 'lately': 1, 'few': 10, 'indeed': 16, 'really': 13, 'impossible': 3, 'waiting': 9, 'back': 39, 'half': 23, 'hoping': 3, 'find': 21, 'rules': 4, 'shutting': 2, 'telescopes': 1, 'bottle': 10, 'certainly': 14, 'neck': 7, 'paper': 5, 'label': 2, 'drink': 7, 'beautifully': 2, 'printed': 3, 'letters': 1, 'wise': 2, 'hurry': 11, 'marked': 8, 'poison': 3, 'read': 14, 'histories': 1, 'children': 10, 'burnt': 1, 'eaten': 1, 'wild': 2, 'beasts': 2, 'unpleasant': 2, 'because': 16, 'simple': 5, 'friends': 2, 'taught': 4, 'red': 3, 'poker': 1, 'burn': 2, 'hold': 11, 'cut': 5, 'your': 71, 'finger': 5, 'deeply': 4, 'knife': 3, 'usually': 2, 'bleeds': 1, 'forgotten': 6, 'certain': 5, 'disagree': 1, 'sooner': 2, 'later': 3, 'ventured': 4, 'taste': 2, 'finding': 3, 'fact': 8, 'mixed': 2, 'flavour': 1, 'cherry': 1, 'tart': 1, 'custard': 1, 'pine': 1, 'apple': 1, 'roast': 1, 'turkey': 1, 'toffee': 1, 'buttered': 1, 'toast': 1, 'finished': 12, 'curious': 19, 'feeling': 7, 'ten': 6, 'face': 15, 'brightened': 2, 'size': 13, 'lovely': 2, 'waited': 11, 'minutes': 11, 'shrink': 1, 'further': 4, 'nervous': 5, 'altogether': 5, 'candle': 3, 'flame': 1, 'blown': 1, 'thing': 49, 'while': 26, 'more': 50, 'decided': 3, 'possibly': 3, 'reach': 4, 'plainly': 1, 'best': 12, 'climb': 1, 'legs': 3, 'slippery': 1, 'sat': 17, 'cried': 20, 'crying': 2, 'sharply': 4, 'advise': 1, 'leave': 9, 'minute': 21, 'generally': 7, 'gave': 15, 'seldom': 1, 'followed': 8, 'scolded': 1, 'severely': 4, 'bring': 3, 'remembered': 5, 'box': 10, 'cheated': 1, 'game': 13, 'playing': 2, 'against': 10, 'child': 11, 'fond': 4, 'pretending': 1, 'two': 40, 'pretend': 1, 'hardly': 12, 'enough': 18, 'left': 14, 'respectable': 1, 'person': 8, 'eye': 7, 'lying': 8, 'cake': 3, 'currants': 1, 'makes': 12, 'grow': 13, 'can': 73, 'smaller': 3, 'creep': 1, 'don': 61, 'care': 4, 'happens': 5, 'ate': 1, 'anxiously': 14, 'holding': 3, 'growing': 11, 'surprised': 7, 'remained': 3, 'same': 25, 'sure': 24, 'eats': 1, 'expecting': 3, 'dull': 3, 'life': 13, 'common': 1, 'work': 53, 'curiouser': 2, 'forgot': 2, 'speak': 15, 'opening': 3, 'largest': 1, 'bye': 2, 'far': 13, 'shoes': 7, 'stockings': 1, 'dears': 3, 'shan': 6, 'able': 1, 'deal': 12, 'myself': 7, 'kind': 8, 'won': 26, 'want': 9, 'pair': 5, 'boots': 4, 'christmas': 1, 'planning': 1, 'carrier': 1, 'sending': 3, 'presents': 2, 'odd': 1, 'directions': 3, 'foot': 10, 'esq': 1, 'hearthrug': 1, 'fender': 1, 'love': 3, 'nonsense': 7, 'struck': 2, 'nine': 5, 'hopeless': 1, 'cry': 3, 'ashamed': 2, 'yourself': 10, 'stop': 6, 'shedding': 1, 'gallons': 1, 'until': 5, 'reaching': 2, 'heard': 30, 'pattering': 3, 'hastily': 16, 'dried': 1, 'returning': 1, 'splendidly': 1, 'dressed': 1, 'kid': 5, 'gloves': 11, 'fan': 10, 'he': 128, 'trotting': 2, 'muttering': 3, 'himself': 6, 'duchess': 42, 'savage': 4, 'kept': 13, 'desperate': 1, 'ready': 8, 'help': 12, 'timid': 3, 'voice': 48, 'sir': 7, 'violently': 4, 'dropped': 5, 'skurried': 1, 'darkness': 1, 'hard': 8, 'fanning': 1, 'queer': 12, 'everything': 14, 'yesterday': 3, 'usual': 5, 'changed': 8, 'morning': 5, 'different': 10, 'ah': 5, 'puzzle': 1, 'thinking': 11, 'age': 4, 'ada': 1, 'hair': 7, 'goes': 7, 'ringlets': 2, 'mine': 10, 'doesn': 16, 'mabel': 4, 'sorts': 3, 'knows': 2, 'besides': 4, 'puzzling': 4, 'try': 12, 'used': 16, 'times': 6, 'five': 8, 'twelve': 4, 'six': 2, 'thirteen': 1, 'seven': 6, 'twenty': 3, 'multiplication': 1, 'signify': 1, 'geography': 1, 'london': 1, 'capital': 4, 'paris': 2, 'rome': 2, 'wrong': 5, 'doth': 3, 'crossed': 3, 'hands': 12, 'lap': 2, 'repeat': 7, 'sounded': 5, 'hoarse': 3, 'strange': 5, 'crocodile': 1, 'improve': 1, 'his': 96, 'shining': 1, 'tail': 9, 'pour': 1, 'waters': 1, 'nile': 1, 'scale': 1, 'cheerfully': 1, 'seems': 5, 'grin': 6, 'neatly': 2, 'spread': 3, 'claws': 2, 'welcome': 1, 'fishes': 1, 'gently': 3, 'smiling': 2, 'jaws': 2, 'live': 8, 'poky': 1, 'toys': 1, 'play': 8, 'learn': 8, 'stay': 5, 'putting': 3, 'being': 19, 'till': 21, 'sudden': 5, 'burst': 1, 'alone': 5, 'done': 15, 'measure': 1, 'nearly': 13, 'guess': 3, 'shrinking': 4, 'rapidly': 2, 'cause': 5, 'avoid': 1, 'narrow': 2, 'escape': 4, 'frightened': 7, 'change': 15, 'existence': 1, 'speed': 1, 'worse': 3, 'declare': 2, 'bad': 2, 'these': 17, 'slipped': 3, 'splash': 1, 'chin': 7, 'salt': 3, 'water': 5, 'somehow': 1, 'sea': 14, 'case': 5, 'railway': 2, 'seaside': 1, 'general': 6, 'conclusion': 2, 'wherever': 2, 'coast': 1, 'number': 8, 'bathing': 1, 'machines': 1, 'digging': 4, 'sand': 1, 'wooden': 1, 'spades': 1, 'lodging': 1, 'houses': 1, 'station': 1, 'wept': 1, 'hadn': 8, 'swam': 5, 'punished': 1, 'suppose': 14, 'drowned': 1, 'something': 18, 'splashing': 2, 'nearer': 5, 'walrus': 1, 'hippopotamus': 1, 'talk': 14, 'harm': 1, 'o': 7, 'swimming': 2, 'speaking': 5, 'brother': 1, 'latin': 1, 'grammar': 1, 'inquisitively': 1, 'wink': 2, 'understand': 7, 'daresay': 1, 'french': 4, 'william': 8, 'conqueror': 2, 'history': 7, 'clear': 2, 'notion': 3, 'ago': 2, 'est': 1, 'chatte': 1, 'sentence': 8, 'lesson': 3, 'leap': 1, 'quiver': 1, 'fright': 2, 'beg': 8, 'pardon': 6, 'animal': 2, 'feelings': 2, 'shrill': 5, 'passionate': 1, 'soothing': 1, 'tone': 40, 'angry': 5, 'yet': 25, 'show': 3, 'our': 12, 'd': 30, 'quiet': 2, 'lazily': 1, 'sits': 1, 'purring': 2, 'nicely': 2, 'fire': 4, 'licking': 1, 'paws': 4, 'washing': 3, 'soft': 1, 'nurse': 3, 'catching': 2, 'bristling': 1, 'offended': 10, 'we': 43, 'trembling': 6, 'subject': 7, 'family': 1, 'always': 13, 'hated': 1, 'nasty': 1, 'vulgar': 1, 'conversation': 9, 'dogs': 3, 'eagerly': 8, 'dog': 3, 'eyed': 1, 'terrier': 1, 'curly': 1, 'brown': 2, 'fetch': 7, 'throw': 3, 'sit': 8, 'dinner': 2, 'belongs': 2, 'farmer': 1, 'says': 4, 'useful': 2, 'hundred': 1, 'pounds': 1, 'kills': 1, 'rats': 1, 'sorrowful': 2, 'commotion': 1, 'called': 15, 'softly': 1, 'pale': 4, 'passion': 3, 'us': 15, 'shore': 4, 'hate': 2, 'crowded': 5, 'birds': 10, 'animals': 4, 'duck': 4, 'dodo': 13, 'lory': 7, 'eaglet': 3, 'creatures': 10, 'whole': 13, 'looking': 32, 'assembled': 2, 'draggled': 1, 'feathers': 1, 'fur': 3, 'clinging': 1, 'dripping': 1, 'wet': 2, 'cross': 3, 'uncomfortable': 4, 'course': 27, 'consultation': 1, 'familiarly': 1, 'known': 1, 'argument': 4, 'last': 33, 'sulky': 3, 'older': 2, 'better': 14, 'allow': 4, 'knowing': 2, 'old': 21, 'positively': 1, 'refused': 1, 'authority': 2, 'ring': 2, 'fixed': 1, 'cold': 1, 'ahem': 1, 'important': 10, 'driest': 1, 'silence': 14, 'whose': 2, 'favoured': 1, 'pope': 1, 'submitted': 1, 'wanted': 4, 'leaders': 1, 'accustomed': 1, 'usurpation': 1, 'conquest': 1, 'edwin': 2, 'morcar': 2, 'earls': 2, 'mercia': 2, 'northumbria': 2, 'ugh': 2, 'shiver': 1, 'frowning': 4, 'politely': 6, 'proceed': 2, 'declared': 1, 'him': 43, 'stigand': 1, 'patriotic': 1, 'archbishop': 2, 'canterbury': 1, 'advisable': 2, 'replied': 29, 'crossly': 1, 'means': 8, 'frog': 3, 'worm': 1, 'notice': 8, 'hurriedly': 2, 'edgar': 1, 'atheling': 1, 'meet': 3, 'offer': 2, 'crown': 3, 'conduct': 1, 'moderate': 1, 'insolence': 1, 'normans': 1, 'continued': 9, 'turning': 12, 'melancholy': 6, 'solemnly': 4, 'rising': 1, 'move': 3, 'meeting': 1, 'adjourn': 1, 'immediate': 3, 'adoption': 1, 'energetic': 1, 'remedies': 2, 'meaning': 8, 'believe': 9, 'bent': 1, 'hide': 1, 'smile': 2, 'tittered': 1, 'audibly': 1, 'paused': 1, 'inclined': 1, 'explain': 10, 'winter': 1, 'circle': 1, 'exact': 1, 'shape': 1, 'placed': 1, 'running': 8, 'liked': 6, 'easy': 3, 'hour': 2, 'panting': 2, 'has': 9, 'pressed': 3, 'forehead': 2, 'position': 2, 'shakespeare': 1, 'rest': 10, 'everybody': 8, 'prizes': 5, 'chorus': 6, 'voices': 3, 'asked': 17, 'pointing': 4, 'calling': 1, 'confused': 4, 'despair': 1, 'pulled': 1, 'comfits': 2, 'luckily': 2, 'handed': 3, 'exactly': 8, 'piece': 6, 'prize': 1, 'gravely': 3, 'thimble': 4, 'presented': 1, 'acceptance': 1, 'elegant': 1, 'short': 4, 'speech': 3, 'cheered': 3, 'absurd': 2, 'grave': 3, 'dare': 5, 'laugh': 1, 'simply': 3, 'bowed': 4, 'solemn': 3, 'caused': 2, 'noise': 3, 'confusion': 5, 'complained': 1, 'theirs': 1, 'ones': 1, 'choked': 3, 'patted': 1, 'begged': 1, 'promised': 1, 'c': 5, 'added': 23, 'whisper': 3, 'sad': 3, 'sighing': 3, 'call': 9, 'fury': 3, 'met': 4, 'both': 15, 'law': 9, 'prosecute': 1, 'denial': 1, 'trial': 10, 'cur': 1, 'jury': 22, 'judge': 4, 'wasting': 2, 'breath': 4, 'cunning': 1, 'condemn': 1, 'death': 1, 'attending': 3, 'humbly': 2, 'fifth': 1, 'bend': 2, 'angrily': 9, 'knot': 2, 'undo': 1, 'insult': 1, 'mean': 10, 'pleaded': 3, 'easily': 4, 'growled': 1, 'reply': 5, 'finish': 5, 'others': 8, 'joined': 3, 'shook': 9, 'impatiently': 5, 'quicker': 1, 'pity': 3, 'sighed': 5, 'crab': 3, 'daughter': 1, 'lose': 1, 'temper': 5, 'tongue': 4, 'young': 5, 'snappishly': 1, 'patience': 1, 'oyster': 1, 'addressing': 1, 'nobody': 8, 'particular': 6, 'venture': 3, 'pet': 1, 'bird': 2, 'sensation': 2, 'magpie': 1, 'wrapping': 1, 'carefully': 3, 'remarking': 3, 'suit': 3, 'throat': 2, 'canary': 1, 'bed': 1, 'various': 2, 'pretexts': 1, 'moved': 5, 'mentioned': 3, 'lonely': 2, 'spirited': 1, 'footsteps': 2, 'executed': 6, 'ferrets': 2, 'guessed': 3, 'naturedly': 1, 'hunting': 3, 'nowhere': 2, 'since': 4, 'swim': 5, 'vanished': 4, 'completely': 1, 'mary': 4, 'ann': 4, 'doing': 5, 'run': 4, 'quick': 2, 'direction': 5, 'pointed': 1, 'mistake': 3, 'housemaid': 1, 'finds': 1, 'neat': 1, 'brass': 1, 'plate': 3, 'w': 1, 'engraved': 1, 'knocking': 3, 'upstairs': 1, 'lest': 1, 'real': 3, 'messages': 2, 'fancying': 1, 'directly': 3, 'ordering': 2, 'tidy': 1, 'room': 13, 'window': 8, 'hoped': 1, 'pairs': 1, 'stood': 7, 'nevertheless': 1, 'uncorked': 1, 'lips': 1, 'interesting': 5, 'whenever': 2, 'does': 11, 'expected': 1, 'drunk': 2, 'pressing': 1, 'ceiling': 1, 'stoop': 2, 'save': 1, 'broken': 6, 'kneel': 1, 'floor': 3, 'effect': 3, 'elbow': 3, 'arm': 15, 'curled': 2, 'resource': 1, 'chimney': 6, 'whatever': 3, 'become': 5, 'magic': 1, 'full': 19, 'grew': 1, 'chance': 4, 'unhappy': 2, 'pleasanter': 1, 'wasn': 11, 'ordered': 4, 'rabbits': 1, 'gone': 13, 'fairy': 1, 'tales': 1, 'fancied': 2, 'write': 6, 'grown': 7, 'least': 9, 'comfort': 1, 'woman': 2, 'shouldn': 5, 'foolish': 1, 'answered': 4, 'books': 2, 'taking': 5, 'outside': 6, 'stopped': 3, 'trembled': 2, 'forgetting': 3, 'reason': 9, 'inwards': 1, 'attempt': 1, 'proved': 2, 'failure': 1, 'snatch': 2, 'shriek': 5, 'crash': 3, 'concluded': 2, 'possible': 1, 'cucumber': 2, 'frame': 1, 'pat': 3, 'apples': 2, 'yer': 4, 'honour': 4, 'sounds': 4, 'pronounced': 1, 'arrum': 1, 'goose': 2, 'fills': 1, 'business': 8, 'whispers': 1, 'coward': 1, 'shrieks': 1, 'frames': 1, 'pulling': 1, 'hearing': 4, 'rumbling': 1, 'cartwheels': 1, 'together': 9, 'ladder': 1, 'lad': 1, 'em': 3, 'tie': 1, 'rope': 1, 'bear': 2, 'loose': 2, 'slate': 4, 'below': 6, 'loud': 6, 'nay': 1, 'master': 4, 'shy': 1, 'place': 9, 'fireplace': 1, 'kick': 3, 'drew': 5, 'scratching': 1, 'scrambling': 1, 'above': 3, 'sharp': 6, 'brandy': 1, 'choke': 1, 'fellow': 4, 'feeble': 2, 'squeaking': 2, 'thank': 4, 'ye': 1, 'flustered': 1, 'comes': 2, 'jack': 1, 'sky': 5, 'rocket': 1, 'dead': 4, 'instantly': 5, 'sense': 3, 'moving': 3, 'barrowful': 2, 'doubt': 4, 'shower': 2, 'pebbles': 2, 'rattling': 2, 'hit': 2, 'shouted': 9, 'surprise': 5, 'cakes': 3, 'lay': 4, 'swallowed': 1, 'delighted': 2, 'crowd': 4, 'lizard': 6, 'held': 4, 'guinea': 6, 'pigs': 6, 'giving': 2, 'rush': 2, 'appeared': 8, 'safe': 2, 'thick': 1, 'wood': 8, 'wandered': 2, 'plan': 4, 'excellent': 2, 'arranged': 1, 'difficulty': 4, 'smallest': 2, 'peering': 1, 'trees': 7, 'bark': 2, 'enormous': 1, 'puppy': 7, 'feebly': 1, 'stretching': 2, 'paw': 3, 'touch': 1, 'coaxing': 2, 'whistle': 1, 'terribly': 1, 'hungry': 3, 'spite': 1, 'picked': 3, 'stick': 4, 'whereupon': 1, 'yelp': 1, 'rushed': 1, 'worry': 1, 'dodged': 1, 'thistle': 2, 'keep': 13, 'tumbled': 1, 'heels': 1, 'cart': 1, 'horse': 1, 'trampled': 1, 'series': 1, 'charges': 2, 'forwards': 1, 'each': 9, 'barking': 1, 'hoarsely': 1, 'mouth': 10, 'faint': 1, 'leant': 1, 'buttercup': 1, 'fanned': 1, 'teaching': 1, 'tricks': 1, 'blades': 1, 'grass': 4, 'circumstances': 1, 'mushroom': 8, 'height': 5, 'stretched': 2, 'tiptoe': 2, 'edge': 3, 'immediately': 3, 'blue': 1, 'arms': 6, 'folded': 3, 'quietly': 5, 'smoking': 2, 'hookah': 5, 'addressed': 2, 'languid': 1, 'encouraging': 2, 'shyly': 1, 'present': 3, 'sternly': 1, 'clearly': 2, 'sizes': 1, 'confusing': 3, 'isn': 7, 'haven': 8, 'turn': 11, 'chrysalis': 1, 'butterfly': 1, 'contemptuously': 2, 'brought': 3, 'irritated': 1, 'remarks': 3, 'state': 7, 'promising': 1, 'swallowing': 1, 'anger': 2, 'wait': 1, 'puffed': 1, 'unfolded': 2, 'busy': 2, 'bee': 1, 'father': 6, 'man': 5, 'incessantly': 1, 'stand': 6, 'youth': 6, 'son': 1, 'feared': 1, 'injure': 1, 'brain': 1, 'perfectly': 4, 'none': 4, 'uncommonly': 1, 'fat': 1, 'somersault': 2, 'pray': 3, 'sage': 1, 'grey': 1, 'limbs': 1, 'supple': 1, 'ointment': 1, 'shilling': 1, 'sell': 2, 'couple': 1, 'weak': 2, 'tougher': 1, 'suet': 1, 'bones': 1, 'beak': 1, 'argued': 1, 'wife': 1, 'muscular': 1, 'strength': 1, 'jaw': 1, 'lasted': 2, 'steady': 1, 'balanced': 1, 'eel': 2, 'nose': 8, 'awfully': 1, 'clever': 2, 'questions': 4, 'airs': 1, 'stuff': 4, 'timidly': 9, 'altered': 1, 'decidedly': 4, 'changing': 2, 'often': 6, 'contradicted': 1, 'losing': 1, 'content': 1, 'wretched': 2, 'rearing': 1, 'upright': 1, 'piteous': 1, 'patiently': 2, 'chose': 2, 'yawned': 2, 'crawled': 1, 'merely': 2, 'taller': 2, 'shorter': 2, 'thoughtfully': 4, 'difficult': 2, 'broke': 2, 'nibbled': 2, 'violent': 2, 'blow': 2, 'closely': 1, 'swallow': 1, 'morsel': 1, 'lefthand': 2, 'free': 8, 'alarm': 2, 'immense': 1, 'length': 1, 'rise': 1, 'stalk': 1, 'green': 4, 'result': 1, 'follow': 3, 'shaking': 3, 'distant': 2, 'serpent': 9, 'succeeded': 3, 'curving': 1, 'graceful': 1, 'zigzag': 1, 'dive': 1, 'tops': 1, 'wandering': 2, 'hiss': 1, 'draw': 7, 'pigeon': 12, 'flown': 1, 'beating': 2, 'wings': 1, 'screamed': 4, 'indignantly': 4, 'repeated': 10, 'subdued': 1, 'sob': 1, 'roots': 2, 'banks': 1, 'hedges': 1, 'serpents': 3, 'pleasing': 1, 'puzzled': 9, 'hatching': 1, 'eggs': 5, 'sleep': 6, 'weeks': 1, 'sorry': 1, 'annoyed': 1, 'taken': 4, 'highest': 1, 'tree': 9, 'raising': 1, 'needs': 1, 'wriggling': 1, 'invent': 1, 'doubtfully': 2, 'changes': 2, 'deepest': 1, 'contempt': 1, 'girls': 3, 'denying': 1, 'telling': 2, 'tasted': 3, 'egg': 1, 'truthful': 1, 'silent': 7, 'adding': 1, 'matters': 2, 'yours': 3, 'raw': 1, 'settled': 3, 'nest': 1, 'crouched': 1, 'entangled': 2, 'branches': 2, 'untwist': 1, 'pieces': 3, 'nibbling': 3, 'bringing': 3, 'beautiful': 13, 'whoever': 1, 'lives': 4, 'frighten': 1, 'wits': 1, 'righthand': 1, 'footman': 14, 'livery': 3, 'considered': 3, 'otherwise': 4, 'judging': 1, 'fish': 8, 'rapped': 1, 'loudly': 3, 'knuckles': 1, 'footmen': 1, 'powdered': 1, 'crept': 1, 'producing': 1, 'letter': 3, 'invitation': 2, 'order': 3, 'curls': 1, 'laughed': 2, 'staring': 3, 'stupidly': 1, 'knocked': 1, 'reasons': 1, 'secondly': 2, 'inside': 2, 'extraordinary': 2, 'within': 6, 'constant': 3, 'howling': 3, 'sneezing': 6, 'dish': 4, 'kettle': 1, 'between': 6, 'instance': 3, 'knock': 1, 'uncivil': 1, 'remarked': 10, 'tomorrow': 1, 'skimming': 1, 'grazed': 1, 'maybe': 2, 'louder': 1, 'told': 6, 'dreadful': 2, 'muttered': 2, 'argue': 1, 'drive': 2, 'crazy': 1, 'repeating': 3, 'remark': 10, 'variations': 1, 'days': 8, 'whistling': 1, 'desperately': 1, 'idiotic': 1, 'kitchen': 4, 'smoke': 1, 'stool': 1, 'nursing': 3, 'baby': 14, 'cook': 13, 'leaning': 2, 'stirring': 2, 'cauldron': 2, 'soup': 18, 'sneezed': 1, 'occasionally': 1, 'alternately': 1, 'pause': 2, 'sneeze': 2, 'hearth': 1, 'grinning': 1, 'ear': 6, 'manners': 1, 'grins': 1, 'cheshire': 7, 'violence': 1, 'courage': 3, 'grinned': 3, 'pleased': 7, 'introduce': 2, 'fix': 2, 'throwing': 2, 'irons': 1, 'saucepans': 1, 'plates': 2, 'dishes': 2, 'already': 3, 'blows': 1, 'jumping': 4, 'agony': 1, 'terror': 1, 'precious': 1, 'unusually': 1, 'saucepan': 1, 'flew': 1, 'carried': 4, 'minded': 1, 'growl': 3, 'faster': 3, 'advantage': 3, 'takes': 3, 'hours': 4, 'axis': 1, 'axes': 1, 'chop': 1, 'glanced': 1, 'meant': 5, 'hint': 2, 'busily': 4, 'bother': 1, 'abide': 2, 'figures': 1, 'singing': 2, 'lullaby': 1, 'shake': 1, 'line': 2, 'roughly': 1, 'boy': 3, 'beat': 4, 'sneezes': 2, 'annoy': 1, 'teases': 1, 'wow': 6, 'sang': 2, 'verse': 4, 'song': 7, 'tossing': 3, 'howled': 1, 'thoroughly': 2, 'enjoy': 1, 'pleases': 1, 'flinging': 1, 'threw': 2, 'frying': 1, 'pan': 1, 'missed': 2, 'caught': 3, 'shaped': 3, 'creature': 4, 'star': 1, 'snorting': 1, 'steam': 1, 'engine': 1, 'doubling': 1, 'straightening': 1, 'proper': 3, 'twist': 2, 'tight': 1, 'prevent': 2, 'undoing': 1, 'kill': 1, 'murder': 1, 'grunted': 4, 'grunt': 1, 'expressing': 1, 'snout': 1, 'also': 4, 'extremely': 2, 'sobbing': 3, 'seriously': 1, 'sobbed': 1, 'neither': 2, 'less': 4, 'carry': 2, 'relieved': 1, 'trot': 1, 'dreadfully': 6, 'ugly': 2, 'handsome': 1, 'startled': 2, 'seeing': 1, 'bough': 1, 'yards': 1, 'natured': 1, 'teeth': 1, 'treated': 1, 'respect': 1, 'puss': 1, 'wider': 1, 'depends': 2, 'explanation': 4, 'denied': 2, 'waving': 5, 'hatter': 56, 'march': 34, 'hare': 31, 'visit': 3, 'grant': 1, 'growls': 1, 'wags': 1, 'wag': 1, 'therefore': 1, 'growling': 1, 'invited': 2, 'happening': 1, 'became': 2, 'appear': 3, 'hatters': 1, 'raving': 2, 'branch': 1, 'fig': 1, 'appearing': 2, 'vanishing': 1, 'giddy': 2, 'ending': 2, 'farther': 1, 'chimneys': 1, 'thatched': 1, 'raised': 2, 'towards': 1, 'instead': 3, 'front': 2, 'dormouse': 40, 'fast': 4, 'asleep': 8, 'cushion': 2, 'resting': 2, 'elbows': 1, 'chair': 1, 'wine': 2, 'civil': 3, 'laid': 2, 'wants': 2, 'cutting': 1, 'personal': 2, 'severity': 1, 'rude': 2, 'wide': 2, 'raven': 1, 'writing': 9, 'desk': 1, 'fun': 3, 'riddles': 2, 'breathe': 3, 'ravens': 1, 'desks': 1, 'break': 2, 'month': 2, 'uneasily': 2, 'fourth': 1, 'butter': 9, 'works': 33, 'meekly': 2, 'crumbs': 4, 'grumbled': 1, 'bread': 7, 'gloomily': 1, 'cup': 2, 'shoulder': 4, 'tells': 2, 'clock': 5, 'year': 2, 'readily': 1, 'stays': 1, 'poured': 1, 'riddle': 1, 'slightest': 1, 'wearily': 1, 'waste': 1, 'answers': 1, 'cautiously': 3, 'music': 3, 'accounts': 1, 'twinkling': 4, 'mournfully': 1, 'quarrelled': 1, 'spoon': 2, 'concert': 2, 'given': 2, 'hearts': 8, 'sing': 6, 'twinkle': 8, 'fly': 3, 'tray': 1, 'pinch': 2, 'bawled': 1, 'murdering': 1, 'exclaimed': 6, 'mournful': 1, 'sigh': 4, 'wash': 2, 'whiles': 1, 'interrupted': 9, 'yawning': 2, 'vote': 1, 'lady': 3, 'alarmed': 1, 'proposal': 1, 'wake': 2, 'pinched': 2, 'fellows': 1, 'sisters': 2, 'names': 2, 'elsie': 1, 'lacie': 1, 'tillie': 1, 'lived': 3, 'bottom': 4, 'interest': 1, 'eating': 1, 'drinking': 1, 'treacle': 7, 'ill': 2, 'ways': 2, 'living': 2, 'opinion': 1, 'triumphantly': 2, 'helped': 1, 'sh': 2, 'sulkily': 2, 'interrupt': 1, 'consented': 1, 'learning': 2, 'promise': 1, 'clean': 1, 'unwillingly': 1, 'upset': 3, 'jug': 1, 'offend': 1, 'eh': 1, 'choosing': 1, 'interrupting': 2, 'rubbing': 2, 'manner': 2, 'begins': 4, 'closed': 2, 'doze': 1, 'woke': 1, 'traps': 1, 'moon': 1, 'memory': 1, 'muchness': 3, 'drawing': 1, 'rudeness': 1, 'disgust': 1, 'teapot': 1, 'stupidest': 1, 'leading': 1, 'today': 1, 'unlocking': 1, 'flower': 2, 'rose': 5, 'entrance': 1, 'roses': 3, 'gardeners': 8, 'painting': 2, 'paint': 1, 'jogged': 1, 'blame': 1, 'deserved': 1, 'beheaded': 3, 'spoken': 1, 'tulip': 1, 'onions': 1, 'flung': 1, 'brush': 1, 'unjust': 1, 'chanced': 1, 'watching': 3, 'checked': 3, 'afore': 1, 'themselves': 3, 'flat': 2, 'faces': 5, 'eager': 3, 'soldiers': 10, 'carrying': 2, 'clubs': 1, 'oblong': 1, 'corners': 1, 'courtiers': 2, 'ornamented': 2, 'diamonds': 1, 'royal': 2, 'merrily': 1, 'couples': 1, 'guests': 3, 'mostly': 2, 'kings': 1, 'queens': 1, 'recognised': 1, 'noticing': 1, 'knave': 9, 'king': 63, 'crimson': 2, 'velvet': 1, 'procession': 5, 'doubtful': 2, 'lie': 2, 'rule': 5, 'processions': 1, 'opposite': 1, 'smiled': 2, 'idiot': 1, 'majesty': 12, 'pack': 5, 'cards': 3, 'needn': 3, 'pattern': 1, 'backs': 1, 'glaring': 1, 'beast': 1, 'consider': 4, 'bowing': 1, 'humble': 1, 'knee': 5, 'meanwhile': 1, 'examining': 1, 'remaining': 2, 'execute': 1, 'unfortunate': 3, 'protection': 1, 'pot': 1, 'marched': 1, 'evidently': 1, 'roared': 1, 'fine': 2, 'peeping': 1, 'hush': 3, 'whispered': 5, 'execution': 3, 'boxed': 1, 'scream': 2, 'laughter': 1, 'places': 2, 'thunder': 1, 'ridges': 1, 'furrows': 1, 'balls': 1, 'hedgehogs': 3, 'mallets': 1, 'flamingoes': 2, 'double': 1, 'arches': 4, 'chief': 1, 'managing': 1, 'flamingo': 5, 'body': 2, 'tucked': 3, 'comfortably': 1, 'straightened': 1, 'hedgehog': 7, 'expression': 1, 'bursting': 1, 'laughing': 2, 'provoking': 1, 'unrolled': 2, 'act': 1, 'crawling': 1, 'ridge': 1, 'furrow': 1, 'send': 2, 'doubled': 1, 'players': 4, 'played': 1, 'turns': 3, 'quarrelling': 2, 'fighting': 1, 'furious': 1, 'stamping': 2, 'shouting': 2, 'uneasy': 1, 'dispute': 2, 'beheading': 1, 'alive': 3, 'appearance': 1, 'nodded': 1, 'account': 1, 'someone': 1, 'fairly': 1, 'complaining': 1, 'quarrel': 1, 'oneself': 1, 'attends': 1, 'arch': 1, 'croqueted': 1, 'win': 1, 'finishing': 1, 'friend': 3, 'kiss': 1, 'likes': 1, 'impertinent': 1, 'removed': 4, 'passing': 1, 'settling': 1, 'difficulties': 1, 'executioner': 6, 'screaming': 1, 'search': 2, 'engaged': 1, 'fight': 2, 'croqueting': 1, 'helpless': 1, 'collected': 2, 'appealed': 1, 'settle': 1, 'arguments': 1, 'unless': 5, 'weren': 1, 'anxious': 3, 'prison': 1, 'arrow': 1, 'fading': 1, 'entirely': 2, 'disappeared': 2, 'wildly': 2, 'affectionately': 1, 'pleasant': 1, 'hopeful': 1, 'tempered': 2, 'vinegar': 1, 'sour': 1, 'camomile': 1, 'bitter': 1, 'barley': 1, 'sugar': 2, 'sweet': 1, 'stingy': 1, 'forget': 2, 'moral': 8, 'hasn': 2, 'tut': 2, 'squeezed': 1, 'closer': 1, 'keeping': 4, 'uncomfortably': 1, 'bore': 1, 'tis': 5, 'minding': 1, 'morals': 1, 'waist': 1, 'experiment': 2, 'bite': 2, 'mustard': 3, 'feather': 1, 'flock': 1, 'mineral': 1, 'agree': 11, 'attended': 1, 'vegetable': 1, 'imagine': 2, 'cheap': 1, 'birthday': 1, 'dig': 1, 'worried': 1, 'died': 1, 'favourite': 1, 'linked': 2, 'hers': 4, 'tremble': 1, 'thunderstorm': 1, 'fair': 1, 'warning': 1, 'choice': 2, 'absence': 1, 'shade': 1, 'delay': 1, 'whom': 2, 'sentenced': 1, 'custody': 2, 'company': 1, 'pardoned': 1, 'executions': 2, 'gryphon': 55, 'sun': 2, 'picture': 1, 'lazy': 1, 'leaving': 1, 'rubbed': 1, 'watched': 2, 'chuckled': 1, 'executes': 1, 'ledge': 1, 'rock': 1, 'heart': 2, 'pitied': 1, 'sorrow': 2, 'hollow': 1, 'occasional': 1, 'exclamation': 1, 'hjckrrh': 1, 'heavy': 2, 'calmly': 1, 'school': 6, 'tortoise': 3, 'sink': 1, 'mayn': 1, 'educations': 1, 'proud': 2, 'extras': 1, 'learned': 1, 'relief': 2, 'ours': 1, 'extra': 1, 'afford': 1, 'regular': 2, 'inquired': 1, 'reeling': 1, 'writhing': 1, 'arithmetic': 1, 'ambition': 1, 'distraction': 1, 'uglification': 2, 'derision': 1, 'lifted': 1, 'uglifying': 1, 'beautify': 1, 'prettier': 1, 'uglify': 1, 'simpleton': 1, 'encouraged': 1, 'mystery': 2, 'counting': 1, 'subjects': 1, 'flappers': 1, 'ancient': 1, 'modern': 1, 'seaography': 1, 'drawling': 3, 'conger': 1, 'week': 3, 'fainting': 1, 'coils': 1, 'stiff': 1, 'classics': 1, 'grief': 1, 'hid': 1, 'lessen': 1, 'eleventh': 1, 'holiday': 1, 'twelfth': 1, 'games': 1, 'flapper': 1, 'sobs': 4, 'bone': 1, 'punching': 1, 'recovered': 2, 'cheeks': 1, 'introduced': 1, 'delightful': 2, 'dance': 13, 'form': 5, 'lines': 1, 'seals': 1, 'turtles': 2, 'salmon': 1, 'cleared': 1, 'jelly': 1, 'advance': 3, 'partner': 1, 'partners': 1, 'lobsters': 7, 'retire': 1, 'bound': 3, 'capering': 1, 'yelled': 1, 'land': 1, 'figure': 3, 'dropping': 1, 'pretty': 1, 'dancing': 2, 'treading': 2, 'toes': 3, 'forepaws': 1, 'mark': 3, 'whiting': 8, 'snail': 3, 'porpoise': 4, 'shingle': 1, 'join': 9, 'askance': 1, 'thanked': 1, 'kindly': 2, 'scaly': 1, 'england': 1, 'france': 1, 'beloved': 1, 'dinn': 2, 'tails': 3, 'mouths': 4, 'thrown': 1, 'shiny': 1, 'blacking': 1, 'soles': 1, 'eels': 1, 'shrimp': 1, 'thoughts': 2, 'obliged': 3, 'journey': 1, 'purpose': 3, 'impatient': 1, 'explanations': 1, 'gained': 1, 'listeners': 1, 'part': 6, 'sluggard': 1, 'baked': 1, 'eyelids': 1, 'trims': 1, 'belt': 1, 'buttons': 1, 'editions': 6, 'follows': 3, 'sands': 1, 'gay': 1, 'lark': 1, 'contemptuous': 1, 'tones': 2, 'shark': 1, 'tide': 1, 'rises': 1, 'sharks': 1, 'around': 3, 'tremulous': 1, 'uncommon': 1, 'explained': 1, 'persisted': 2, 'disobey': 1, 'owl': 3, 'panther': 3, 'sharing': 2, 'pie': 3, 'crust': 1, 'gravy': 1, 'meat': 1, 'share': 2, 'treat': 1, 'boon': 1, 'permitted': 3, 'received': 6, 'fork': 1, 'banquet': 1, 'hm': 1, 'accounting': 1, 'tastes': 1, 'rich': 1, 'tureen': 1, 'dainties': 1, 'evening': 5, 'beau': 4, 'ootiful': 4, 'soo': 7, 'oop': 7, 'e': 29, 'cares': 2, 'p': 1, 'ennyworth': 1, 'pennyworth': 1, 'beauti': 1, 'ful': 1, 'panted': 1, 'faintly': 1, 'breeze': 1, 'seated': 1, 'throne': 1, 'arrived': 1, 'standing': 1, 'chains': 1, 'soldier': 1, 'guard': 1, 'trumpet': 3, 'scroll': 2, 'parchment': 2, 'court': 18, 'refreshments': 1, 'pass': 1, 'justice': 1, 'wig': 2, 'wore': 1, 'frontispiece': 1, 'comfortable': 1, 'becoming': 1, 'jurors': 4, 'rightly': 1, 'men': 1, 'slates': 8, 'indignant': 1, 'spectacles': 3, 'spell': 1, 'neighbour': 1, 'muddle': 1, 'pencil': 2, 'squeaked': 1, 'quickly': 2, 'juror': 1, 'herald': 1, 'accusation': 1, 'blew': 2, 'blasts': 2, 'summer': 2, 'verdict': 4, 'witness': 10, 'teacup': 3, 'sent': 3, 'fourteenth': 1, 'fifteenth': 1, 'sixteenth': 1, 'wrote': 3, 'dates': 1, 'reduced': 1, 'shillings': 1, 'pence': 1, 'hat': 1, 'stolen': 1, 'memorandum': 1, 'fidgeted': 1, 'spot': 1, 'encourage': 1, 'shifting': 1, 'remain': 2, 'squeeze': 1, 'boldly': 1, 'reasonable': 2, 'pace': 1, 'ridiculous': 1, 'fashion': 2, 'officers': 4, 'list': 3, 'singers': 2, 'thin': 1, 'dunce': 1, 'twinkled': 1, 'deny': 2, 'denies': 1, 'miserable': 2, 'speaker': 1, 'suppressed': 4, 'canvas': 1, 'bag': 1, 'tied': 1, 'strings': 1, 'newspapers': 1, 'trials': 1, 'attempts': 1, 'applause': 1, 'understood': 1, 'lower': 1, 'officer': 1, 'examine': 2, 'folding': 1, 'collar': 1, 'shrieked': 1, 'behead': 1, 'suppress': 1, 'undertone': 2, 'ache': 1, 'fumbled': 1, 'flurry': 1, 'tipped': 1, 'skirt': 1, 'upsetting': 1, 'jurymen': 4, 'sprawling': 1, 'reminding': 1, 'globe': 1, 'goldfish': 2, 'accidentally': 1, 'dismay': 1, 'accident': 2, 'vague': 1, 'die': 1, 'cannot': 5, 'emphasis': 1, 'haste': 1, 'downwards': 1, 'unable': 1, 'signifies': 1, 'shock': 1, 'pencils': 1, 'diligently': 1, 'overcome': 1, 'gazing': 1, 'un': 2, 'respectful': 1, 'unimportant': 3, 'note': 2, 'cackled': 1, 'forty': 2, 'persons': 1, 'mile': 2, 'invented': 1, 'oldest': 1, 'prisoner': 2, 'directed': 2, 'verses': 4, 'handwriting': 1, 'queerest': 1, 'imitated': 1, 'prove': 1, 'signed': 2, 'sign': 1, 'mischief': 1, 'honest': 1, 'clapping': 1, 'proves': 2, 'guilt': 1, 'push': 1, 'returned': 2, 'involved': 1, 'affair': 1, 'trusts': 1, 'fit': 3, 'obstacle': 1, 'ourselves': 1, 'secret': 1, 'sixpence': 1, 'atom': 2, 'attempted': 1, 'saves': 1, 'spreading': 1, 'cardboard': 1, 'clearer': 1, 'fits': 1, 'furiously': 1, 'inkstand': 1, 'ink': 1, 'trickling': 1, 'pun': 1, 'twentieth': 1, 'purple': 1, 'flying': 1, 'brushing': 1, 'fluttered': 1, 'kissed': 1, 'wonderful': 2, 'setting': 1, 'dreaming': 1, 'dreamed': 1, 'clasped': 1, 'toss': 1, 'listened': 1, 'rustled': 1, 'splashed': 1, 'neighbouring': 1, 'rattle': 1, 'teacups': 2, 'shared': 2, 'meal': 1, 'crashed': 1, 'choking': 1, 'believed': 1, 'reality': 1, 'rustling': 1, 'rippling': 1, 'reeds': 1, 'tinkling': 1, 'sheep': 1, 'bells': 1, 'cries': 1, 'shepherd': 1, 'noises': 1, 'clamour': 1, 'farm': 1, 'yard': 1, 'lowing': 1, 'cattle': 1, 'lastly': 1, 'pictured': 1, 'riper': 1, 'years': 2, 'loving': 1, 'childhood': 1, 'gather': 1, 'sorrows': 1, 'joys': 1, 'remembering': 1, 'happy': 1, 'file': 2, 'named': 1, 'txt': 1, 'zip': 1, 'associated': 8, 'files': 2, 'formats': 2, 'https': 1, 'replace': 1, 'previous': 1, 'renamed': 1, 'creating': 4, 'print': 1, 'protected': 5, 'u': 7, 'copyright': 20, 'owns': 2, 'foundation': 25, 'distribute': 6, 'permission': 6, 'paying': 3, 'royalties': 3, 'special': 1, 'forth': 8, 'apply': 1, 'copying': 4, 'distributing': 7, 'tm': 57, 'electronic': 27, 'protect': 2, 'concept': 2, 'trademark': 14, 'registered': 2, 'charge': 6, 'following': 4, 'including': 9, 'copies': 7, 'complying': 3, 'creation': 1, 'derivative': 3, 'reports': 1, 'performances': 1, 'research': 2, 'ebooks': 7, 'modified': 1, 'practically': 1, 'redistribution': 2, 'especially': 1, 'commercial': 1, 'mission': 4, 'promoting': 2, 'distribution': 6, 'phrase': 4, 'comply': 6, 'available': 2, 'section': 7, 'redistributing': 2, 'indicate': 1, 'accept': 1, 'intellectual': 2, 'property': 2, 'agreement': 18, 'cease': 1, 'return': 3, 'destroy': 2, 'possession': 1, 'paid': 6, 'fee': 8, 'obtaining': 2, 'access': 10, 'obtain': 3, 'refund': 10, 'entity': 3, 'paragraph': 11, 'b': 2, 'lot': 1, 'preserve': 1, 'future': 3, 'literary': 13, 'archive': 13, 'pglaf': 1, 'compilation': 1, 'collection': 4, 'individual': 4, 'public': 3, 'domain': 2, 'unprotected': 1, 'claim': 1, 'performing': 3, 'displaying': 4, 'based': 2, 'references': 2, 'support': 4, 'freely': 4, 'compliance': 5, 'format': 4, 'attached': 1, 'govern': 1, 'countries': 1, 'addition': 1, 'downloading': 1, 'representations': 1, 'concerning': 2, 'status': 4, 'active': 2, 'links': 3, 'prominently': 2, 'appears': 1, 'accessed': 1, 'displayed': 1, 'performed': 1, 'viewed': 1, 'copied': 2, 'distributed': 4, 'derived': 1, 'texts': 1, 'contain': 2, 'indicating': 1, 'posted': 4, 'holder': 4, 'fees': 4, 'providing': 4, 'requirements': 4, 'paragraphs': 3, 'additional': 3, 'imposed': 1, 'unlink': 1, 'detach': 1, 'remove': 1, 'containing': 1, 'display': 1, 'perform': 1, 'redistribute': 1, 'convert': 1, 'binary': 1, 'compressed': 1, 'nonproprietary': 1, 'proprietary': 1, 'processing': 1, 'hypertext': 1, 'provide': 7, 'plain': 2, 'vanilla': 2, 'ascii': 2, 'official': 3, 'version': 1, 'website': 4, 'expense': 1, 'user': 3, 'exporting': 1, 'request': 1, 'original': 1, 'alternate': 1, 'include': 1, 'specified': 2, 'viewing': 1, 'provided': 4, 'pay': 1, 'royalty': 3, 'gross': 1, 'profits': 1, 'derive': 1, 'calculated': 1, 'method': 1, 'calculate': 1, 'applicable': 3, 'taxes': 1, 'owed': 1, 'owner': 4, 'agreed': 1, 'donate': 5, 'payments': 3, 'prepare': 2, 'legally': 1, 'required': 1, 'periodic': 1, 'tax': 6, 'returns': 1, 'address': 1, 'information': 8, 'donations': 15, 'money': 3, 'notifies': 1, 'mail': 1, 'receipt': 2, 'require': 1, 'possessed': 1, 'physical': 2, 'medium': 5, 'discontinue': 1, 'accordance': 2, 'f': 11, 'replacement': 5, 'defect': 3, 'discovered': 1, 'reported': 1, 'group': 1, 'manager': 1, 'contact': 4, 'volunteers': 5, 'employees': 1, 'expend': 1, 'considerable': 2, 'effort': 2, 'identify': 1, 'transcribe': 1, 'proofread': 1, 'despite': 1, 'efforts': 3, 'stored': 1, 'defects': 1, 'limited': 5, 'incomplete': 1, 'inaccurate': 1, 'corrupt': 1, 'data': 1, 'transcription': 1, 'errors': 1, 'infringement': 1, 'defective': 3, 'damaged': 1, 'disk': 1, 'computer': 2, 'virus': 1, 'codes': 1, 'damage': 2, 'equipment': 3, 'warranty': 2, 'disclaimer': 3, 'damages': 4, 'described': 1, 'disclaim': 1, 'liability': 3, 'costs': 2, 'expenses': 2, 'legal': 2, 'negligence': 1, 'strict': 1, 'breach': 2, 'contract': 1, 'distributor': 1, 'liable': 1, 'actual': 1, 'direct': 1, 'indirect': 1, 'consequential': 1, 'punitive': 1, 'incidental': 1, 'possibility': 1, 'discover': 1, 'receiving': 1, 'receive': 2, 'elect': 1, 'lieu': 2, 'electronically': 2, 'choose': 1, 'demand': 1, 'opportunities': 1, 'problem': 1, 'warranties': 3, 'express': 1, 'implied': 2, 'merchantability': 1, 'fitness': 1, 'disclaimers': 1, 'exclusion': 1, 'limitation': 3, 'types': 1, 'violates': 1, 'interpreted': 1, 'maximum': 1, 'invalidity': 1, 'unenforceability': 1, 'provision': 1, 'void': 1, 'provisions': 1, 'indemnity': 1, 'indemnify': 1, 'agent': 1, 'employee': 1, 'production': 1, 'promotion': 1, 'harmless': 1, 'arise': 1, 'indirectly': 1, 'occur': 1, 'alteration': 1, 'modification': 1, 'additions': 1, 'deletions': 1, 'synonymous': 1, 'readable': 2, 'widest': 2, 'variety': 1, 'computers': 2, 'obsolete': 1, 'aged': 1, 'exists': 1, 'hundreds': 1, 'walks': 1, 'financial': 1, 'assistance': 1, 'need': 1, 'critical': 1, 'goals': 1, 'ensuring': 1, 'generations': 2, 'created': 2, 'secure': 1, 'permanent': 1, 'sections': 1, 'page': 2, 'non': 1, 'profit': 1, 'educational': 1, 'corporation': 1, 'organized': 1, 'mississippi': 1, 'granted': 1, 'exempt': 2, 'internal': 1, 'revenue': 1, 'service': 1, 'ein': 1, 'federal': 2, 'identification': 1, 'contributions': 2, 'deductible': 1, 'extent': 1, 'office': 1, 'north': 1, 'west': 1, 'lake': 1, 'city': 1, 'ut': 1, 'email': 2, 'survive': 1, 'widespread': 1, 'increasing': 1, 'licensed': 1, 'machine': 1, 'accessible': 1, 'array': 1, 'outdated': 1, 'particularly': 1, 'maintaining': 1, 'irs': 1, 'committed': 1, 'regulating': 1, 'charities': 1, 'charitable': 1, 'uniform': 1, 'paperwork': 1, 'solicit': 2, 'locations': 1, 'confirmation': 1, 'determine': 1, 'solicitation': 1, 'prohibition': 1, 'accepting': 1, 'unsolicited': 1, 'donors': 1, 'approach': 1, 'offers': 1, 'international': 1, 'gratefully': 1, 'accepted': 2, 'statements': 1, 'treatment': 1, 'swamp': 1, 'staff': 1, 'web': 1, 'pages': 1, 'current': 1, 'donation': 1, 'methods': 1, 'addresses': 1, 'checks': 1, 'credit': 1, 'card': 1, 'professor': 1, 'michael': 1, 'hart': 1, 'originator': 1, 'library': 1, 'network': 1, 'volunteer': 1, 'confirmed': 1, 'thus': 1, 'necessarily': 1, 'main': 1, 'pg': 1, 'facility': 1, 'includes': 1, 'produce': 1, 'subscribe': 1, 'newsletter': 1})\n"
     ]
    }
   ],
   "source": [
    "!head data/alice_counts.txt"
   ]
  },
  {
   "cell_type": "markdown",
   "metadata": {},
   "source": [
    "__Check your results:__ How many times does the word \"alice\" appear in the book? "
   ]
  },
  {
   "cell_type": "code",
   "execution_count": 36,
   "metadata": {},
   "outputs": [
    {
     "name": "stdout",
     "output_type": "stream",
     "text": [
      "'alice': 44, \n"
     ]
    }
   ],
   "source": [
    "!echo \"'alice': 44, \\n 'greg': 5}\" > test.txt\n",
    "# !cat test.txt\n",
    "!grep alice test.txt"
   ]
  },
  {
   "cell_type": "code",
   "execution_count": null,
   "metadata": {},
   "outputs": [],
   "source": []
  },
  {
   "cell_type": "code",
   "execution_count": 15,
   "metadata": {},
   "outputs": [],
   "source": [
    "# EXPECTED OUTPUT: 404\n",
    "!grep alice data/alice_counts.txt"
   ]
  },
  {
   "cell_type": "markdown",
   "metadata": {},
   "source": [
    "__Check your results:__ How many times does the word \"hatter\" appear in the book? "
   ]
  },
  {
   "cell_type": "code",
   "execution_count": null,
   "metadata": {},
   "outputs": [],
   "source": [
    "# EXPECTED OUTPUT: 56\n",
    "!grep hatter data/alice_counts.txt"
   ]
  },
  {
   "cell_type": "markdown",
   "metadata": {},
   "source": [
    "__Check your results:__ How many times does the word \"queen\" appear in the book? "
   ]
  },
  {
   "cell_type": "code",
   "execution_count": null,
   "metadata": {},
   "outputs": [],
   "source": [
    "# EXPECTED OUTPUT: 76\n",
    "!grep queen data/alice_counts.txt"
   ]
  },
  {
   "cell_type": "markdown",
   "metadata": {},
   "source": [
    "# Question 5: Unix Sorting Practice\n",
    "Another common task in this course's assignments will be to make strategic use of sorting.     \n",
    "\n",
    "### Q5 Tasks:\n",
    "* __a) short response:__ What is the Big O complexity of the fastest comparison based sorting algorithms? [*HINT: If you need a Big O notation refresher, here's_ a [blog post](https://rob-bell.net/2009/06/a-beginners-guide-to-big-o-notation/), a [cheatsheet](http://bigocheatsheet.com), and a [thorough explanation](http://pages.cs.wisc.edu/~vernon/cs367/notes/3.COMPLEXITY.html).*]\n",
    "\n",
    "* __b) short response:__ What is the default sorting algorithm in MapReduce? What is the Big O complexity of this algorithm? Why do you think this algorithm was chosen? [*HINT: Julius Ceasar! (week 1 slides)*]\n",
    "\n",
    "* __c) code:__ write a unix command to check how many records are in your word count file.\n",
    "\n",
    "* __d) code:__ Write a unix command to sort your word count file alphabetically. Save (i.e. [redirect](https://superuser.com/questions/277324/pipes-vs-redirects)) the results to `data/alice_counts_A-Z.txt`. [*HINT: if Unix sort commands are new to you, start with [this biowize blogpost](https://biowize.wordpress.com/2015/03/13/unix-sort-sorting-with-both-numeric-and-non-numeric-keys/) or [this unixschool tutorial](http://www.theunixschool.com/2012/08/linux-sort-command-examples.html)*]\n",
    "\n",
    "* __e) code:__ Write a unix command to sort your word count file from highest to lowest count. Save (i.e. [redirect](https://superuser.com/questions/277324/pipes-vs-redirects)) your results to `data/alice_counts_sorted.txt`; then run the provided cell to print the top ten words. Compare your output to the expected output we provide."
   ]
  },
  {
   "cell_type": "markdown",
   "metadata": {},
   "source": [
    "### Q5 Student Answers:\n",
    "> __a)__ Type your answer here!\n",
    "\n",
    "> __b)__ Type your answer here!\n",
    "\n"
   ]
  },
  {
   "cell_type": "code",
   "execution_count": null,
   "metadata": {},
   "outputs": [],
   "source": [
    "# part c - write a unix command to check how many records are in your word count file\n"
   ]
  },
  {
   "cell_type": "code",
   "execution_count": null,
   "metadata": {},
   "outputs": [],
   "source": [
    "# part d - unix command to sort your word counts alphabetically \n"
   ]
  },
  {
   "cell_type": "code",
   "execution_count": null,
   "metadata": {},
   "outputs": [],
   "source": [
    "# part d - DO NOT MODIFY THIS CELL, run it as is to confirm your sort worked\n",
    "!head data/alice_counts_A-Z.txt   "
   ]
  },
  {
   "cell_type": "code",
   "execution_count": null,
   "metadata": {},
   "outputs": [],
   "source": [
    "# part e - unix command to sort your word counts from highest to lowest count\n"
   ]
  },
  {
   "cell_type": "code",
   "execution_count": null,
   "metadata": {},
   "outputs": [],
   "source": [
    "# part e - DO NOT MODIFY THIS CELL, run it as is to confirm your sort worked\n",
    "!head data/alice_counts_sorted.txt  "
   ]
  },
  {
   "cell_type": "markdown",
   "metadata": {},
   "source": [
    "<table>\n",
    "<th>expected output for (d):</th>\n",
    "<th>expected output for (e):</th>\n",
    "<tr><td><pre>\n",
    "a\t695\n",
    "abide\t2\n",
    "able\t1\n",
    "about\t102\n",
    "above\t3\n",
    "absence\t1\n",
    "absurd\t2\n",
    "accept\t1\n",
    "acceptance\t1\n",
    "accepted\t2\n",
    "</pre></td>\n",
    "<td><pre>\n",
    "the\t1837\n",
    "and\t946\n",
    "to\t811\n",
    "a\t695\n",
    "of\t637\n",
    "it\t610\n",
    "she\t553\n",
    "i\t546\n",
    "you\t487\n",
    "said\t462\n",
    "</pre></td></tr>\n",
    "</table>"
   ]
  },
  {
   "cell_type": "markdown",
   "metadata": {},
   "source": [
    "# Question 6: Parallel Word Count (part 1)\n",
    "What would happen if we tried to run our script on a much larger dataset? For one thing, it would take longer to run. However there is a second concern. The Python object that aggregates our counts (`defaultdict`) exists in memory on the machine running this notebook. If the vocabulary is too large for the memory space available we would crash the notebook. The solution? Divide and Conquer! Instead of running the script on the whole dataset at once, we could split our text up in to smaller 'chunks' and process them independently of each other. __In this question you'll use a bash script to \"parallelize\" your Word Count.__\n",
    "\n",
    "\n",
    "### Q6 Tasks:\n",
    "* __a) read provided code:__ The bash script `pWordCount_v1.sh` takes an input file, splits it into a specified number of 'chunks', and then applies an executable of your choice to each chunk. Read through this code and make sure you understand each line before you proceed. [`HINT:` _For now, ignore the 'student code' section -- you'll use that in part c._]\n",
    "\n",
    "\n",
    "* __b) short response:__ Below we've provided the command to use this script to apply your analysis (`wordCount.py`) to the _Alice_ text in 4 parallel processes. We'll redirect the results into a file called `alice_pCounts.txt.` Run this analysis and compare the count for the word 'alice' to your answer from Question 4. Explain what went wrong and describe what we have to add to `pWordCount_v1.sh` to fix the problem.\n",
    "\n",
    "\n",
    "* __c) code:__ We've provided a python script, `aggregateCounts_v1.py`, which reads word counts from standard input and combines any duplicates it encounters. Read through this script to be sure you understand how it is written. Then follow the instructions in `pWordCount_v1.sh` to make a one-line modification so that it accepts `aggregateCounts_v1.py` as a 4th argument and uses this script to combine the chunk-ed word counts. Run the cell below to confirm that you now get the correct results for your 'alice' count."
   ]
  },
  {
   "cell_type": "markdown",
   "metadata": {},
   "source": [
    "### Q6 Student Answers:\n",
    "> __b)__ Type your answer here!"
   ]
  },
  {
   "cell_type": "code",
   "execution_count": null,
   "metadata": {},
   "outputs": [],
   "source": [
    "# part b - make sure your scripts are executable (RUN THIS CELL AS IS)\n",
    "!chmod a+x pWordCount_v1.sh\n",
    "!chmod a+x wordCount.py"
   ]
  },
  {
   "cell_type": "code",
   "execution_count": null,
   "metadata": {},
   "outputs": [],
   "source": [
    "# part b - parallel word count on Alice text (RUN THIS CELL AS IS)\n",
    "!./pWordCount_v1.sh 4 'data/alice.txt' 'wordCount.py' > 'data/alice_pCounts.txt'"
   ]
  },
  {
   "cell_type": "code",
   "execution_count": null,
   "metadata": {},
   "outputs": [],
   "source": [
    "# part b - check alice count (RUN THIS CELL AS IS)\n",
    "!grep alice data/alice_pCounts.txt"
   ]
  },
  {
   "cell_type": "code",
   "execution_count": null,
   "metadata": {},
   "outputs": [],
   "source": [
    "# part c - make sure the aggregateCounts script is executable (RUN THIS CELL AS IS)\n",
    "!chmod a+x aggregateCounts_v1.py"
   ]
  },
  {
   "cell_type": "code",
   "execution_count": null,
   "metadata": {},
   "outputs": [],
   "source": [
    "# part c - DO NOT MODIFY THIS CELL - run this cell after you \n",
    "# complete pWordCount_v1.sh so the graders can view your work\n",
    "!cat pWordCount_v1.sh"
   ]
  },
  {
   "cell_type": "code",
   "execution_count": null,
   "metadata": {},
   "outputs": [],
   "source": [
    "# part c - parallel word count on Alice text (RUN THIS CELL AS IS)\n",
    "!./pWordCount_v1.sh 4 'data/alice.txt' \\\n",
    "                   'wordCount.py' \\\n",
    "                   'aggregateCounts_v1.py' \\\n",
    "                   > 'data/alice_pCounts.txt'"
   ]
  },
  {
   "cell_type": "code",
   "execution_count": null,
   "metadata": {},
   "outputs": [],
   "source": [
    "# part c - check alice count (RUN THIS CELL AS IS)\n",
    "!grep alice data/alice_pCounts.txt"
   ]
  },
  {
   "cell_type": "code",
   "execution_count": null,
   "metadata": {
    "collapsed": true,
    "jupyter": {
     "outputs_hidden": true
    }
   },
   "outputs": [],
   "source": [
    "!man sort"
   ]
  },
  {
   "cell_type": "markdown",
   "metadata": {},
   "source": [
    "# Question 7: Parallel Word Count (part 2)\n",
    "Congratulations, you've just implemented a Map-Reduce algorithm! From here on out, we'll refer to the two python scripts you passed to `pWordCount_v1.sh` as '_mapper_' and '_reducer_'. The bash script itself served as our '_framework_' -- it split up the original input, then ___mapped___ our word counting script on to each chunk, then ___aggregated (a.k.a. reduced)___ the resulting files by piping them into our collation script.  Unfortunately, as you may have realized already, there is a major scalability concern with this particular implementation. __In this question you'll fix our implementation of parallel word count so that it will be scalable.__\n",
    "\n",
    "__HINT:__ MapReduce uses the Merge-Sort algorithm under the hood. Linux `sort` command has a merge option which you can use to simiulate the MapReduce framework. Use the `man sort` command to find more information on this option. \n",
    "\n",
    "### Q7 Tasks:\n",
    "\n",
    "* __a) short response:__ What is the potential scalability problem with the provided implementation of `aggregateCounts_v1.py`? Explain why this supposedly 'parallelized' Word Count wouldn't work on a really large input corpus.  [`HINT:` _see the intro to Q6_]\n",
    "\n",
    "\n",
    "* __b) code:__ Fortunately, a 'strategic sort' can solve this problem. Read the instructions at the top of `pWordCount_v2.sh` carefully then make your changes that alphabetically sort the output from the mappers (`countfiles`) before piping them into the reducer script.\n",
    "\n",
    "\n",
    "* __c) code:__ Write the main part of `aggregateCounts_v2.py` so that it takes advantage of the sorted input to add duplicate counts without storing the whole vocabulary in memory. Refer to the file docstring for more detailed instructions. Confirm that your implementation works by running it on both the test and true data files.\n",
    "\n",
    "\n",
    "* __d) short response:__ If you are paying close attention, this rewritten reducer sets us up for a truly scalable solution, but doesn't get us all the way there. In particular, while we chunked our data so it can be processed by multiple mappers, we're still streaming the entire dataset through one reduce script. If the vocabulary is too large to fit on a single computer, we might split the word counts in half after sorting them, then perform the reducing on two separate machines. Explain what could go wrong with this approach. (For now, ignore the question of how we'd sort a dataset that is too large to fit on a single machine and just focus on what might be wrong about the result of this split-in-half reducing).\n",
    "\n",
    "\n",
    "* __e) short response:__ Can you come up with a different way of splitting up the data that would allow us to perform the reducing on separate machines without needing any postprocessing? This is a theoretical question -- don't worry if you don't know how to implement your idea in a bash script, just describe how you'd want to split the sorted counts into different files to be reduced separately."
   ]
  },
  {
   "cell_type": "markdown",
   "metadata": {},
   "source": [
    "### Q7 Student Answers:\n",
    "\n",
    "> __a)__ Type your answer here!\n",
    "\n",
    "> __b-c)__ _complete the coding portions of this question before answering d and e._\n",
    "\n",
    "> __d)__ Type your answer here!\n",
    "\n",
    "> __e)__ Type your answer here!"
   ]
  },
  {
   "cell_type": "code",
   "execution_count": null,
   "metadata": {},
   "outputs": [],
   "source": [
    "# Add permissions to your new files (RUN THIS CELL AS IS)\n",
    "!chmod a+x pWordCount_v2.sh\n",
    "!chmod a+x aggregateCounts_v2.py"
   ]
  },
  {
   "cell_type": "code",
   "execution_count": null,
   "metadata": {},
   "outputs": [],
   "source": [
    "# part b - DO NOT MODIFY THIS CELL - run this cell after you \n",
    "# complete pWordCount_v2.sh so the graders can view your work\n",
    "!cat pWordCount_v2.sh"
   ]
  },
  {
   "cell_type": "code",
   "execution_count": null,
   "metadata": {},
   "outputs": [],
   "source": [
    "# part c - DO NOT MODIFY THIS CELL - run this cell after you \n",
    "# complete aggregateCounts_v2.py so the graders can view your work\n",
    "!cat aggregateCounts_v2.py"
   ]
  },
  {
   "cell_type": "code",
   "execution_count": null,
   "metadata": {},
   "outputs": [],
   "source": [
    "# part c - test your code on the test file (RUN THIS CELL AS IS)\n",
    "!./pWordCount_v2.sh 4 'data/alice_test.txt' \\\n",
    "                   'wordCount.py' \\\n",
    "                   'aggregateCounts_v2.py'"
   ]
  },
  {
   "cell_type": "code",
   "execution_count": null,
   "metadata": {},
   "outputs": [],
   "source": [
    "# part c - run your code on the Alice file (RUN THIS CELL AS IS)\n",
    "!./pWordCount_v2.sh 4 'data/alice.txt' \\\n",
    "                   'wordCount.py' \\\n",
    "                   'aggregateCounts_v2.py' \\\n",
    "                   > 'data/alice_pCounts.txt'"
   ]
  },
  {
   "cell_type": "code",
   "execution_count": null,
   "metadata": {},
   "outputs": [],
   "source": [
    "# part c - confirm that your 'alice' count is correct (RUN THIS CELL AS IS)\n",
    "!grep alice data/alice_pCounts.txt"
   ]
  },
  {
   "cell_type": "markdown",
   "metadata": {},
   "source": [
    "# Question 8: Scalability Considerations\n",
    "In your reading for Week 2's live session, [Chapter1, section 2](https://lintool.github.io/MapReduceAlgorithms/MapReduce-book-final.pdf) of _Data Intensive Text Processing with MapReduce_, Lin and Dyer discuss a number of \"Big Ideas\" that underlie large scale processing: __scale \"out,\" not \"up\"; assume failures are common; move processing to the data; process data sequentially and avoid random access; hide system-level details from the application developer; and seamless scalability.__ Part of our work this semester will be to interact with these ideas in a practical way, not just a conceptual one.\n",
    "\n",
    "### Q8 Tasks:\n",
    "* __a) short response:__ What do Lin and Dyer consider the two features of an \"ideal algorithm\" from a scalability perspective?\n",
    "\n",
    "\n",
    "* __b) short response:__ The mapper script below (created on the fly using a little Jupyter magic) will help us illustrate the concept of scalability. Run the provided code which passes this mapper script to our parallel computation 'framework' and runs the 'analysis' on the _Alice_ text file. Note that we've omitted a reducer for simplicity. What do you observe about the time it takes to run this \"algorithm\" when we use 1, 2 and 4 partitions? Does it meet Lin and Dyer's criteria?\n",
    "\n",
    "\n",
    "* __c) short response:__ Let's try something similar with your Word Count analysis. Run the provided code to time your implementation with 1, 2, 4 and 8 partitions. What do you observe about the runtimes? Does this match your expectation? Speculate about why we might be seeing these times. What conclusions should we draw about the scalability of our implementation? [`HINT:` _consider the limitations of both your machine and our implementation... there are some competing forces at work, what are they?_]\n",
    "\n",
    "\n",
    "* __d) OPTIONAL:__ Which components of your Map-Reduce algorithm are affected by a change in the number of partitions? Does increasing the number of partitions increase or decrease the total time spent on each of these portions of the task? What tradeoff does this cause?"
   ]
  },
  {
   "cell_type": "markdown",
   "metadata": {},
   "source": [
    "### Q8 Student Answers:\n",
    "\n",
    "> __a)__ Type your answer here!\n",
    "\n",
    "> __b)__ Type your answer here!\n",
    "\n",
    "> __c)__ Type your answer here!\n",
    "\n",
    "> __d)__ Type your (OPTIONAL) answer here!"
   ]
  },
  {
   "cell_type": "markdown",
   "metadata": {},
   "source": [
    "__Run the following cells to create the mapper referenced in `part b`__"
   ]
  },
  {
   "cell_type": "code",
   "execution_count": null,
   "metadata": {},
   "outputs": [],
   "source": [
    "!mkdir demo"
   ]
  },
  {
   "cell_type": "code",
   "execution_count": null,
   "metadata": {},
   "outputs": [],
   "source": [
    "%%writefile demo/mapper.py\n",
    "#!/usr/bin/env python\n",
    "\"\"\"\n",
    "This mapper reads from STDIN and waits 0.001 seconds per line.\n",
    "Its only purpose is to demonstrate one of the scalability ideas.\n",
    "\"\"\"\n",
    "import sys\n",
    "import time\n",
    "for line in sys.stdin:\n",
    "    time.sleep(0.001)"
   ]
  },
  {
   "cell_type": "code",
   "execution_count": null,
   "metadata": {},
   "outputs": [],
   "source": [
    "# Make sure the mapper is executable\n",
    "!chmod a+x demo/mapper.py"
   ]
  },
  {
   "cell_type": "markdown",
   "metadata": {},
   "source": [
    "__Run the next three cells to apply our demo mapper with 1, 2 and 4 partitions.__"
   ]
  },
  {
   "cell_type": "code",
   "execution_count": null,
   "metadata": {},
   "outputs": [],
   "source": [
    "%%timeit\n",
    "!./pWordCount_v2.sh 1 'data/alice.txt' 'demo/mapper.py'"
   ]
  },
  {
   "cell_type": "code",
   "execution_count": null,
   "metadata": {},
   "outputs": [],
   "source": [
    "%%timeit\n",
    "!./pWordCount_v2.sh 2 'data/alice.txt' 'demo/mapper.py'"
   ]
  },
  {
   "cell_type": "code",
   "execution_count": null,
   "metadata": {},
   "outputs": [],
   "source": [
    "%%timeit\n",
    "!./pWordCount_v2.sh 4 'data/alice.txt' 'demo/mapper.py'"
   ]
  },
  {
   "cell_type": "markdown",
   "metadata": {},
   "source": [
    "__Run the following cells to repeat this process with your word count algorithm.__"
   ]
  },
  {
   "cell_type": "code",
   "execution_count": null,
   "metadata": {},
   "outputs": [],
   "source": [
    "%%timeit\n",
    "!./pWordCount_v2.sh 1 'data/alice.txt' 'wordCount.py' 'aggregateCounts_v2.py' > 'data/tmp'"
   ]
  },
  {
   "cell_type": "code",
   "execution_count": null,
   "metadata": {},
   "outputs": [],
   "source": [
    "%%timeit\n",
    "!./pWordCount_v2.sh 2 'data/alice.txt' 'wordCount.py' 'aggregateCounts_v2.py' > 'data/tmp'"
   ]
  },
  {
   "cell_type": "code",
   "execution_count": null,
   "metadata": {},
   "outputs": [],
   "source": [
    "%%timeit\n",
    "!./pWordCount_v2.sh 4 'data/alice.txt' 'wordCount.py' 'aggregateCounts_v2.py' > 'data/tmp'"
   ]
  },
  {
   "cell_type": "code",
   "execution_count": null,
   "metadata": {},
   "outputs": [],
   "source": [
    "%%timeit\n",
    "!./pWordCount_v2.sh 8 'data/alice.txt' 'wordCount.py' 'aggregateCounts_v2.py' > 'data/tmp'"
   ]
  },
  {
   "cell_type": "code",
   "execution_count": null,
   "metadata": {},
   "outputs": [],
   "source": [
    "%%timeit\n",
    "!./pWordCount_v2.sh 16 'data/alice.txt' 'wordCount.py' 'aggregateCounts_v2.py' > 'data/tmp'"
   ]
  },
  {
   "cell_type": "code",
   "execution_count": null,
   "metadata": {},
   "outputs": [],
   "source": [
    "%%timeit\n",
    "!./pWordCount_v2.sh 32 'data/alice.txt' 'wordCount.py' 'aggregateCounts_v2.py' > 'data/tmp'"
   ]
  },
  {
   "cell_type": "markdown",
   "metadata": {},
   "source": [
    "# Question 9: Embarrassingly Parallel\n",
    "`\"If any one of them can explain it,\" said Alice, (she had grown so large in the last few minutes that she wasn’t a bit afraid of interrupting him,) \"I’ll give him sixpence. I don’t believe there’s an atom of meaning in it.\"`\n",
    "<div style=\"text-align: right\">  -- Lewis Carroll, _Alice's Adventures in Wonderland_, Chapter 12  </div>\n",
    "\n",
    "### Q9 Tasks:\n",
    "\n",
    "* __a) short response:__ Describe what we mean by 'Embarrassingly Parallel' in terms of word counting. Does this term describe a 'task'? an 'implementation of a task'? \n",
    "\n",
    "* __b) OPTIONAL__: Define this concept in terms of 'associative' and 'commutative' operations. [`HINT:` _Refer to Chapter 2 in DITP_ ]"
   ]
  },
  {
   "cell_type": "markdown",
   "metadata": {},
   "source": [
    "### Q9 Student Answers:\n",
    "\n",
    "> __a)__ Type your answer here!\n",
    "\n",
    "> __b)__ Type your (OPTIONAL) answer here!"
   ]
  },
  {
   "cell_type": "markdown",
   "metadata": {},
   "source": [
    "### Congratulations, you have completed HW1! Please refer to the readme for submission instructions.\n",
    "\n",
    "If you would like to provide feedback regarding this homework, please use the survey at: https://docs.google.com/forms/d/e/1FAIpQLSce9feiQeSkdP43A0ZYui1tMGIBfLfzb0rmgToQeZD9bXXX8Q/viewform"
   ]
  },
  {
   "cell_type": "code",
   "execution_count": null,
   "metadata": {},
   "outputs": [],
   "source": []
  }
 ],
 "metadata": {
  "anaconda-cloud": {},
  "kernelspec": {
   "display_name": "Python 3",
   "language": "python",
   "name": "python3"
  },
  "language_info": {
   "codemirror_mode": {
    "name": "ipython",
    "version": 3
   },
   "file_extension": ".py",
   "mimetype": "text/x-python",
   "name": "python",
   "nbconvert_exporter": "python",
   "pygments_lexer": "ipython3",
   "version": "3.8.13"
  },
  "toc": {
   "colors": {
    "hover_highlight": "#DAA520",
    "navigate_num": "#000000",
    "navigate_text": "#333333",
    "running_highlight": "#FF0000",
    "selected_highlight": "#FFD700",
    "sidebar_border": "#EEEEEE",
    "wrapper_background": "#FFFFFF"
   },
   "moveMenuLeft": true,
   "nav_menu": {
    "height": "297px",
    "width": "252px"
   },
   "navigate_menu": true,
   "number_sections": false,
   "sideBar": true,
   "threshold": 4,
   "toc_cell": false,
   "toc_position": {
    "height": "951px",
    "left": "0px",
    "right": "1561px",
    "top": "106px",
    "width": "600px"
   },
   "toc_section_display": "block",
   "toc_window_display": true,
   "widenNotebook": false
  }
 },
 "nbformat": 4,
 "nbformat_minor": 4
}
