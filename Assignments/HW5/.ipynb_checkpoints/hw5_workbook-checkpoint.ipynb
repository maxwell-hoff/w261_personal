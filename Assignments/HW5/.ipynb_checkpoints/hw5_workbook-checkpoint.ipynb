{
 "cells": [
  {
   "cell_type": "markdown",
   "metadata": {
    "application/vnd.databricks.v1+cell": {
     "inputWidgets": {},
     "nuid": "9b25213b-47db-495f-9d82-0271f06ad1a7",
     "showTitle": false,
     "title": ""
    }
   },
   "source": [
    "## HW 5 - Page Rank\n",
    "__`MIDS w261: Machine Learning at Scale | UC Berkeley School of Information | Summer 2022`__\n",
    "\n",
    "In Weeks 9 and 10 you discussed key concepts related to graph based algorithms and implemented SSSP.   \n",
    "In this final homework assignment you'll implement distributed PageRank using some data from Wikipedia.\n",
    "By the end of this homework you should be able to:  \n",
    "* ... __compare/contrast__ adjacency matrices and lists as representations of graphs for parallel computation.\n",
    "* ... __explain__ the goal of the PageRank algorithm using the concept of an infinite Random Walk.\n",
    "* ... __define__ a Markov chain including the conditions underwhich it will converge.\n",
    "* ... __identify__ what modifications must be made to the web graph inorder to leverage Markov Chains.\n",
    "* ... __implement__ distributed PageRank in Spark.\n",
    "\n",
    "__Please refer to the `README` for homework submission instructions and additional resources.__"
   ]
  },
  {
   "cell_type": "markdown",
   "metadata": {
    "application/vnd.databricks.v1+cell": {
     "inputWidgets": {},
     "nuid": "7e89eb06-bbe7-486f-a060-170c6c0fd81e",
     "showTitle": false,
     "title": ""
    }
   },
   "source": [
    "### Notebook Set-Up\n",
    "Before starting your homework run the following cells to confirm your setup."
   ]
  },
  {
   "cell_type": "code",
   "execution_count": 1,
   "metadata": {
    "application/vnd.databricks.v1+cell": {
     "inputWidgets": {},
     "nuid": "e4ebf232-974c-41e9-82d7-a1e5cb2a73f2",
     "showTitle": false,
     "title": ""
    }
   },
   "outputs": [],
   "source": [
    "# imports\n",
    "import re\n",
    "import ast\n",
    "import time\n",
    "import numpy as np\n",
    "import pandas as pd\n",
    "import seaborn as sns\n",
    "import networkx as nx\n",
    "import matplotlib.pyplot as plt"
   ]
  },
  {
   "cell_type": "code",
   "execution_count": 2,
   "metadata": {},
   "outputs": [],
   "source": [
    "# store path to notebook\n",
    "PWD = !pwd\n",
    "PWD = PWD[0]"
   ]
  },
  {
   "cell_type": "markdown",
   "metadata": {},
   "source": [
    "### Start Spark and the Spark UI"
   ]
  },
  {
   "cell_type": "code",
   "execution_count": 3,
   "metadata": {},
   "outputs": [
    {
     "name": "stdout",
     "output_type": "stream",
     "text": [
      "starting Spark\n",
      ":: loading settings :: url = jar:file:/usr/lib/spark/jars/ivy-2.4.0.jar!/org/apache/ivy/core/settings/ivysettings.xml\n"
     ]
    },
    {
     "name": "stderr",
     "output_type": "stream",
     "text": [
      "Ivy Default Cache set to: /root/.ivy2/cache\n",
      "The jars for the packages stored in: /root/.ivy2/jars\n",
      "graphframes#graphframes added as a dependency\n",
      "org.apache.spark#spark-avro_2.12 added as a dependency\n",
      ":: resolving dependencies :: org.apache.spark#spark-submit-parent-21a65dcd-33f0-4fa5-a250-af954019a068;1.0\n",
      "\tconfs: [default]\n",
      "\tfound graphframes#graphframes;0.8.2-spark3.1-s_2.12 in spark-packages\n",
      "\tfound org.slf4j#slf4j-api;1.7.16 in central\n",
      "\tfound org.apache.spark#spark-avro_2.12;3.1.3 in central\n",
      "\tfound org.spark-project.spark#unused;1.0.0 in central\n",
      "downloading https://repos.spark-packages.org/graphframes/graphframes/0.8.2-spark3.1-s_2.12/graphframes-0.8.2-spark3.1-s_2.12.jar ...\n",
      "\t[SUCCESSFUL ] graphframes#graphframes;0.8.2-spark3.1-s_2.12!graphframes.jar (59ms)\n",
      "downloading https://repo1.maven.org/maven2/org/apache/spark/spark-avro_2.12/3.1.3/spark-avro_2.12-3.1.3.jar ...\n",
      "\t[SUCCESSFUL ] org.apache.spark#spark-avro_2.12;3.1.3!spark-avro_2.12.jar (22ms)\n",
      "downloading https://repo1.maven.org/maven2/org/slf4j/slf4j-api/1.7.16/slf4j-api-1.7.16.jar ...\n",
      "\t[SUCCESSFUL ] org.slf4j#slf4j-api;1.7.16!slf4j-api.jar (13ms)\n",
      "downloading https://repo1.maven.org/maven2/org/spark-project/spark/unused/1.0.0/unused-1.0.0.jar ...\n",
      "\t[SUCCESSFUL ] org.spark-project.spark#unused;1.0.0!unused.jar (12ms)\n",
      ":: resolution report :: resolve 2267ms :: artifacts dl 112ms\n",
      "\t:: modules in use:\n",
      "\tgraphframes#graphframes;0.8.2-spark3.1-s_2.12 from spark-packages in [default]\n",
      "\torg.apache.spark#spark-avro_2.12;3.1.3 from central in [default]\n",
      "\torg.slf4j#slf4j-api;1.7.16 from central in [default]\n",
      "\torg.spark-project.spark#unused;1.0.0 from central in [default]\n",
      "\t---------------------------------------------------------------------\n",
      "\t|                  |            modules            ||   artifacts   |\n",
      "\t|       conf       | number| search|dwnlded|evicted|| number|dwnlded|\n",
      "\t---------------------------------------------------------------------\n",
      "\t|      default     |   4   |   4   |   4   |   0   ||   4   |   4   |\n",
      "\t---------------------------------------------------------------------\n",
      ":: retrieving :: org.apache.spark#spark-submit-parent-21a65dcd-33f0-4fa5-a250-af954019a068\n",
      "\tconfs: [default]\n",
      "\t4 artifacts copied, 0 already retrieved (455kB/8ms)\n",
      "Setting default log level to \"WARN\".\n",
      "To adjust logging level use sc.setLogLevel(newLevel). For SparkR, use setLogLevel(newLevel).\n",
      "22/07/25 02:34:51 INFO org.apache.spark.SparkEnv: Registering MapOutputTracker\n",
      "22/07/25 02:34:51 INFO org.apache.spark.SparkEnv: Registering BlockManagerMaster\n",
      "22/07/25 02:34:51 INFO org.apache.spark.SparkEnv: Registering BlockManagerMasterHeartbeat\n",
      "22/07/25 02:34:51 INFO org.apache.spark.SparkEnv: Registering OutputCommitCoordinator\n"
     ]
    },
    {
     "name": "stdout",
     "output_type": "stream",
     "text": [
      "\n",
      "To start the SPARK UI\n",
      "\n",
      "Copy the following command  to cloud shell and run as shown in the screenshot below. \n",
      "And click on the PREVIEW ON PORT 8080 menu option .\n",
      "Run the following command to establish the SSH Tunnel:\n",
      "\n",
      "gcloud compute ssh w261-m --zone us-central1-a --ssh-flag \"-L 8080:localhost:4040\" \n"
     ]
    }
   ],
   "source": [
    "import numpy as np\n",
    "import pandas as pd\n",
    "from pyspark.sql import SparkSession\n",
    "import os\n",
    "\n",
    "try:\n",
    "    spark\n",
    "except NameError:\n",
    "    print('starting Spark')\n",
    "    app_name = 'Lab6_notebook'\n",
    "    master = \"local[*]\"\n",
    "    spark = SparkSession\\\n",
    "            .builder\\\n",
    "            .appName(app_name)\\\n",
    "            .master(master)\\\n",
    "            .getOrCreate()\n",
    "sc = spark.sparkContext\n",
    "\n",
    "ZONE = os.getenv(\"ZONE\") #new as of June 17, 2022 4:45PM PST; restart cluster to see thus env variable\n",
    "spark_UI_info = f'''\n",
    "To start the SPARK UI\n",
    "\n",
    "Copy the following command  to cloud shell and run as shown in the screenshot below. \n",
    "And click on the PREVIEW ON PORT 8080 menu option .\n",
    "Run the following command to establish the SSH Tunnel:\n",
    "\n",
    "gcloud compute ssh w261-m --zone {ZONE} --ssh-flag \"-L 8080:localhost:4040\" '''\n",
    "\n",
    "print(spark_UI_info)"
   ]
  },
  {
   "cell_type": "markdown",
   "metadata": {},
   "source": [
    "<img src='https://www.dropbox.com/s/tlb4uiakj2bx7qg/Three_steps_launch_SparkUI.png?raw=true' style='width:100%'>"
   ]
  },
  {
   "cell_type": "markdown",
   "metadata": {},
   "source": [
    "## Set up global variables for cloud buckets (both Data, Staging) and for Zone "
   ]
  },
  {
   "cell_type": "code",
   "execution_count": 4,
   "metadata": {},
   "outputs": [
    {
     "name": "stdout",
     "output_type": "stream",
     "text": [
      "Personal Data bucket:  gs://hw_data_bucket\n",
      "     167 B  2022-06-29T01:33:11Z  gs://hw_data_bucket/main/Assignments/HW5/docker/student/data/test_graph.txt\n",
      "                                 gs://hw_data_bucket/main/Assignments/HW5/docker/student/data/all-pages-indexed-in/\n",
      "                                 gs://hw_data_bucket/main/Assignments/HW5/docker/student/data/all-pages-indexed-out/\n",
      "                                 gs://hw_data_bucket/main/Assignments/HW5/docker/student/data/indices/\n",
      "TOTAL: 1 objects, 167 bytes (167 B)\n",
      "STAGING_BUCKET location: gs://dataproc-staging-us-central1-275377091776-oiu4zcrv/\n",
      "       0 B  2022-05-07T20:15:35Z  gs://dataproc-staging-us-central1-275377091776-oiu4zcrv/notebooks/jupyter/\n",
      "                                 gs://dataproc-staging-us-central1-275377091776-oiu4zcrv/notebooks/jupyter/snapshots/\n",
      "                                 gs://dataproc-staging-us-central1-275377091776-oiu4zcrv/notebooks/jupyter/student-workspace/\n",
      "                                 gs://dataproc-staging-us-central1-275377091776-oiu4zcrv/notebooks/jupyter/ucb-w261-master/\n",
      "TOTAL: 1 objects, 0 bytes (0 B)\n"
     ]
    }
   ],
   "source": [
    "# Access your personal data bucket and see whats there\n",
    "# (RUN THIS CELL AS IS)\n",
    "import os\n",
    "DATA_BUCKET = os.getenv('DATA_BUCKET','')[:-1] # our private storage bucket location\n",
    "HW5_FOLDER = f\"{DATA_BUCKET}/main/Assignments/HW5/docker/student/data/\"\n",
    "print(f\"Personal Data bucket:  {DATA_BUCKET}\")\n",
    "!gsutil ls -lh  {HW5_FOLDER}  #lets have a look the HW folder on our private storage bucket\n",
    "print(f\"STAGING_BUCKET location: {os.getenv('STAGING_BUCKET')}\")\n",
    "!gsutil ls -lh {os.getenv(\"STAGING_BUCKET\")}notebooks/jupyter"
   ]
  },
  {
   "cell_type": "code",
   "execution_count": 5,
   "metadata": {
    "application/vnd.databricks.v1+cell": {
     "inputWidgets": {},
     "nuid": "86b59361-3412-4481-b6b5-4f247f0fec43",
     "showTitle": false,
     "title": ""
    }
   },
   "outputs": [
    {
     "data": {
      "text/html": [
       "\n",
       "            <div>\n",
       "                <p><b>SparkSession - hive</b></p>\n",
       "                \n",
       "        <div>\n",
       "            <p><b>SparkContext</b></p>\n",
       "\n",
       "            <p><a href=\"http://w261-m.us-central1-a.c.w261-student-349520.internal:4040\">Spark UI</a></p>\n",
       "\n",
       "            <dl>\n",
       "              <dt>Version</dt>\n",
       "                <dd><code>v3.1.3</code></dd>\n",
       "              <dt>Master</dt>\n",
       "                <dd><code>local[*]</code></dd>\n",
       "              <dt>AppName</dt>\n",
       "                <dd><code>Lab6_notebook</code></dd>\n",
       "            </dl>\n",
       "        </div>\n",
       "        \n",
       "            </div>\n",
       "        "
      ],
      "text/plain": [
       "<pyspark.sql.session.SparkSession at 0x7f61a0775c70>"
      ]
     },
     "execution_count": 5,
     "metadata": {},
     "output_type": "execute_result"
    }
   ],
   "source": [
    "sc = spark.sparkContext\n",
    "spark"
   ]
  },
  {
   "cell_type": "markdown",
   "metadata": {
    "application/vnd.databricks.v1+cell": {
     "inputWidgets": {},
     "nuid": "572c9067-af5d-49f1-b9da-b9b713680a4f",
     "showTitle": false,
     "title": ""
    }
   },
   "source": [
    "# Question 1: Distributed Graph Processing\n",
    "Chapter 5 from Lin & Dyer gave you a high level introduction to graph algorithms and concernts that come up when trying to perform distributed computations over them. The questions below are designed to make sure you captured the key points from this reading and your async lectures. \n",
    "\n",
    "### Q1 Tasks:\n",
    "\n",
    "* __a) short response:__ Give an example of a dataset that would be appropriate to represent as a graph. What are the nodes/edges in this dataset? Is the graph you describe 'directed' or 'undirected'? What would the average \"in-degree\" of a node mean in the context of your example? \n",
    "\n",
    "* __b) Canvas MC:__ Other than their size/scale, what makes graphs uniquely challenging to work with in the map-reduce paradigm? *(__HINT__: Do not respond in terms of any specific algorithm. Think in terms of the nature of the graph datastructure itself).*\n",
    "\n",
    "* __c) Canvas Fill In Blank:__ What specific design component in Dijkstra's algorithm makes this approach hard to parallelize?\n",
    "\n",
    "* __d) short response:__ How does parallel breadth-first-search get around the problem that you identified in part `c`? At what expense?"
   ]
  },
  {
   "cell_type": "markdown",
   "metadata": {
    "application/vnd.databricks.v1+cell": {
     "inputWidgets": {},
     "nuid": "4354a257-a47f-4f28-a294-b978e90b557f",
     "showTitle": false,
     "title": ""
    }
   },
   "source": [
    "### Q1 Student Answers:\n",
    "> __a)__ A dataset that can be represented as a graph is social network data, since graphs are characterized by relationships between many records, and social networks are defined by their connections.\n",
    "\n",
    "> __b)__ Graphs contain nodes and edges, which cannot easily be converted into key-value pairs.\n",
    "\n",
    "> __c)__ Global priority queue which can't be separated across nodes\n",
    "\n",
    "> __d)__ Parallel breadth-first-search gets around the parallelization problem by iterating through the dataset many times but parallelizing those iterations. The key-value pairs in these iterations are connections between nodes which are then reduced. The expense of this change is that many more iterations are much more computationally expensive, and are why it's called a \"brute force\" approach. "
   ]
  },
  {
   "cell_type": "markdown",
   "metadata": {
    "application/vnd.databricks.v1+cell": {
     "inputWidgets": {},
     "nuid": "16dac439-e38a-4b9e-bc9c-ab101204767b",
     "showTitle": false,
     "title": ""
    }
   },
   "source": [
    "### <--- SOLUTION --->\n"
   ]
  },
  {
   "cell_type": "markdown",
   "metadata": {
    "application/vnd.databricks.v1+cell": {
     "inputWidgets": {},
     "nuid": "aa76ac18-9606-4814-a27e-e018d9114e67",
     "showTitle": false,
     "title": ""
    }
   },
   "source": [
    "# Question 2: Representing Graphs \n",
    "\n",
    "In class you saw examples of adjacency matrix and adjacency list representations of graphs. These data structures were probably familiar from HW3, though we hadn't before talked about them in the context of graphs. In this question we'll discuss some of the tradeoffs associated with these representations. __`NOTE:`__ We'll use the graph from Figure 5.1 in Lin & Dyer as a toy example. For convenience in the code below we'll label the nodes `A`, `B`, `C`, `D`, and `E` instead of $n_1$, $n_2$, etc but otherwise you should be able to follow along & check our answers against those in the text.\n",
    "\n",
    "\n",
    "<img src=\"https://github.com/kyleiwaniec/w261_assets/blob/master/images/HW5/Lin-Dyer-graph-Q1.png?raw=true\" width=50%>\n",
    "\n",
    "### Q2 Tasks:\n",
    "\n",
    "* __a) short response:__ Relatively speaking, is the graph you described in Figure 5.1 in Lin & Dyer \"sparse\" or \"dense\"?  Explain how sparsity/density impacts the adjacency matrix and adjacency list representations of a graph.\n",
    "\n",
    "* __b) short response:__ Run the provided code to create and plot our toy graph. Is this graph directed or undirected? Explain how the adjacency matrices for directed graphs will differ from those of undirected graphs.\n",
    "\n",
    "* __c) code:__ Fill in the missing code to complete the function `get_adj_matr()`.\n",
    "\n",
    "* __d) code:__ Fill in the missing code to complete the function `get_adj_list()`."
   ]
  },
  {
   "cell_type": "markdown",
   "metadata": {
    "application/vnd.databricks.v1+cell": {
     "inputWidgets": {},
     "nuid": "e9d890f3-c672-4ec4-9bff-d1b8ea7071cd",
     "showTitle": false,
     "title": ""
    }
   },
   "source": [
    "### Q2 Student Answers:\n",
    "> __a)__ The graph in figure 5.1 is relatively dense compared to most graphs, like social networks, since there are many connections between the nodes. Density increases the number of connections between nodes, thus you would see more 1s in the adjacency matrix, and more nodes for each node in adjacency lists.\n",
    "\n",
    "> __b)__ The graph is undirected. Adjacency matrices will differ for undirected graphs compared to directed graphs in that directed graphs will have ordered pairs, will undirected graphs will not. An example of an ordered pair is when connections seem to go in a certain direction, while connections for undirected graphs will look more chaotic."
   ]
  },
  {
   "cell_type": "markdown",
   "metadata": {
    "application/vnd.databricks.v1+cell": {
     "inputWidgets": {},
     "nuid": "7f924b0b-4e44-4bbc-ad8b-9b4e7bcaf1b8",
     "showTitle": false,
     "title": ""
    }
   },
   "source": [
    "### <--- SOLUTION --->\n"
   ]
  },
  {
   "cell_type": "code",
   "execution_count": 6,
   "metadata": {
    "application/vnd.databricks.v1+cell": {
     "inputWidgets": {},
     "nuid": "46856c77-76f7-48c5-b8ba-4e9b77c701ba",
     "showTitle": false,
     "title": ""
    }
   },
   "outputs": [],
   "source": [
    "# part a - a graph is just a list of nodes and edges (RUN THIS CELL AS IS)\n",
    "TOY_GRAPH = {'nodes':['A', 'B', 'C', 'D', 'E'],\n",
    "             'edges':[('A', 'B'), ('A', 'D'), ('B', 'C'), ('B', 'E'), ('C', 'D'), \n",
    "                      ('D', 'E'), ('E', 'A'),('E', 'B'), ('E', 'C')]}"
   ]
  },
  {
   "cell_type": "code",
   "execution_count": 7,
   "metadata": {
    "application/vnd.databricks.v1+cell": {
     "inputWidgets": {},
     "nuid": "b417fa64-a875-472e-9ec1-421cc3a42311",
     "showTitle": false,
     "title": ""
    }
   },
   "outputs": [
    {
     "data": {
      "text/plain": [
       "None"
      ]
     },
     "metadata": {},
     "output_type": "display_data"
    },
    {
     "data": {
      "image/png": "[encoded data removed]",
      "text/plain": [
       "<Figure size 432x288 with 1 Axes>"
      ]
     },
     "metadata": {},
     "output_type": "display_data"
    }
   ],
   "source": [
    "# part a - simple visualization of our toy graph using nx (RUN THIS CELL AS IS)\n",
    "G = nx.DiGraph()\n",
    "G.add_nodes_from(TOY_GRAPH['nodes'])\n",
    "G.add_edges_from(TOY_GRAPH['edges'])\n",
    "display(nx.draw(G, pos=nx.circular_layout(G), with_labels=True, alpha = 0.5))"
   ]
  },
  {
   "cell_type": "code",
   "execution_count": null,
   "metadata": {},
   "outputs": [],
   "source": []
  },
  {
   "cell_type": "code",
   "execution_count": 8,
   "metadata": {
    "application/vnd.databricks.v1+cell": {
     "inputWidgets": {},
     "nuid": "5f7318d4-2935-488b-bdeb-10a70e8971fa",
     "showTitle": false,
     "title": ""
    }
   },
   "outputs": [],
   "source": [
    "# part c - adjacency matrix function\n",
    "def get_adj_matr(graph):\n",
    "    \"\"\"\n",
    "    Function to create an adjacency matrix representation of a graph.\n",
    "    arg:\n",
    "        graph - (dict) of 'nodes' : [], 'edges' : []\n",
    "    returns:\n",
    "        pd.DataFrame with entry i,j representing an edge from node i to node j\n",
    "    \"\"\"\n",
    "    n = len(graph['nodes'])\n",
    "    adj_matr = pd.DataFrame(0, columns = graph['nodes'], index = graph['nodes'])\n",
    "    ############### YOUR CODE HERE ##################\n",
    "    for edge in graph['edges']:\n",
    "        adj_matr.loc[edge[0],edge[1]] = 1\n",
    "    \n",
    "    ############### (END) YOUR CODE #################\n",
    "    return adj_matr"
   ]
  },
  {
   "cell_type": "code",
   "execution_count": 9,
   "metadata": {
    "application/vnd.databricks.v1+cell": {
     "inputWidgets": {},
     "nuid": "6a52b176-0d72-4f67-b4e5-3a390cd7573f",
     "showTitle": false,
     "title": ""
    }
   },
   "outputs": [
    {
     "name": "stdout",
     "output_type": "stream",
     "text": [
      "   A  B  C  D  E\n",
      "A  0  1  0  1  0\n",
      "B  0  0  1  0  1\n",
      "C  0  0  0  1  0\n",
      "D  0  0  0  0  1\n",
      "E  1  1  1  0  0\n"
     ]
    }
   ],
   "source": [
    "# part c - take a look (RUN THIS CELL AS IS)\n",
    "TOY_ADJ_MATR = get_adj_matr(TOY_GRAPH)\n",
    "print(TOY_ADJ_MATR)"
   ]
  },
  {
   "cell_type": "code",
   "execution_count": 10,
   "metadata": {
    "application/vnd.databricks.v1+cell": {
     "inputWidgets": {},
     "nuid": "05099c54-3a4c-4c1e-92eb-382fdd713851",
     "showTitle": false,
     "title": ""
    }
   },
   "outputs": [],
   "source": [
    "# part d - adjacency list function\n",
    "def get_adj_list(graph):\n",
    "    \"\"\"\n",
    "    Function to create an adjacency list representation of a graph.\n",
    "    arg:\n",
    "        graph - (dict) of 'nodes' : [], 'edges' : []\n",
    "    returns:\n",
    "        dictionary of the form {node : [list of edges]}\n",
    "    \"\"\"\n",
    "    adj_list = {node: [] for node in graph['nodes']}\n",
    "    ############### YOUR CODE HERE ##################\n",
    "    for edge in graph['edges']:\n",
    "        adj_list[edge[0]].append(edge[1])\n",
    "    \n",
    "    ############### (END) YOUR CODE #################\n",
    "    return adj_list"
   ]
  },
  {
   "cell_type": "code",
   "execution_count": 11,
   "metadata": {
    "application/vnd.databricks.v1+cell": {
     "inputWidgets": {},
     "nuid": "2cac0efa-176d-4bc4-811b-24d6a2f242fb",
     "showTitle": false,
     "title": ""
    }
   },
   "outputs": [
    {
     "name": "stdout",
     "output_type": "stream",
     "text": [
      "{'A': ['B', 'D'], 'B': ['C', 'E'], 'C': ['D'], 'D': ['E'], 'E': ['A', 'B', 'C']}\n"
     ]
    }
   ],
   "source": [
    "# part d - take a look (RUN THIS CELL AS IS)\n",
    "TOY_ADJ_LIST = get_adj_list(TOY_GRAPH)\n",
    "print(TOY_ADJ_LIST)"
   ]
  },
  {
   "cell_type": "markdown",
   "metadata": {
    "application/vnd.databricks.v1+cell": {
     "inputWidgets": {},
     "nuid": "4ab1715e-4323-4946-b950-a05b879d1c83",
     "showTitle": false,
     "title": ""
    }
   },
   "source": [
    "# Question 3: Markov Chains and Random Walks\n",
    "\n",
    "As you know from your readings and in class discussions, the PageRank algorithm takes advantage of the machinery of Markov Chains to compute the relative importance of a webpage using the hyperlink structure of the web (we'll refer to this as the 'web-graph'). A Markov Chain is a discrete-time stochastic process. The stochastic matrix has a principal left eigen vector corresponding to its largest eigen value which is one. A Markov chain's probability distribution over its states may be viewed as a probability vector. This steady state probability for a state is the PageRank of the corresponding webpage. In this question we'll briefly discuss a few concepts that are key to understanding the math behind PageRank. \n",
    "\n",
    "### Q3 Tasks:\n",
    "\n",
    "* __a) short response:__ It is common to explain PageRank using the analogy of a web surfer who clicks on links at random ad infinitum. In the context of this hypothetical infinite random walk, what does the PageRank metric measure/represent?\n",
    "\n",
    "* __b) Canvas Multiple Drowpdowns:__ What is the \"Markov Property\" and what does it mean in the context of PageRank?\n",
    "\n",
    "* __c) Canvas Multiple Fill In Blank:__ A Markov chain consists of $n$ states plus an $n\\times n$ transition probability matrix. In the context of PageRank & a random walk over the WebGraph what are the $n$ states? what implications does this have about the size of the transition matrix?\n",
    "\n",
    "* __d) Canvas MC:__ What is a \"right stochastic matrix\"?\n",
    "\n",
    "* __e) code:__ Fill in the code below to compute the transition matrix for the toy graph from question 2. [__`HINT:`__ _It should be right stochastic. Using numpy this calculation can be done in one line of code._]\n",
    "\n",
    "* __f) code:__ To compute the stable state distribution (i.e. PageRank) of a \"nice\" graph we can apply the power iteration method - repeatedly multiplying the transition matrix by itself, until the values no longer change. Apply this strategy to your transition matrix from `part d` to find the PageRank for each of the pages in your toy graph. Your code should print the results of each iteration. \n",
    "    * __`NOTE 1:`__ _this is a naive approach, we'll unpack what it means to be \"nice\" in the next question_.\n",
    "    * __`NOTE 2:`__ _no need to implement a stopping criteria, visual inspection should suffice_.\n",
    "\n",
    "* __g) Numerical Answer:__ How many iterations does it take to converge? \n",
    "\n",
    "* __h) Canvas Multiple Choice:__ Which node is most 'central' (i.e. highest ranked)?\n"
   ]
  },
  {
   "cell_type": "markdown",
   "metadata": {
    "application/vnd.databricks.v1+cell": {
     "inputWidgets": {},
     "nuid": "4dfecb1f-c455-4bbf-b49a-231864a2e6cf",
     "showTitle": false,
     "title": ""
    }
   },
   "source": [
    "### Q3 Student Answers:"
   ]
  },
  {
   "cell_type": "markdown",
   "metadata": {},
   "source": [
    "a) The PageRank metric represents the likelihood to come across a link during this random walk, given it's connections to other links.\n",
    "\n",
    "b) meorylessness / stable\n",
    "\n",
    "c) webpage / large\n",
    "\n",
    "d) real square matrix with each row summing to 1\n",
    "\n",
    "g) 4\n",
    "\n",
    "h) E"
   ]
  },
  {
   "cell_type": "markdown",
   "metadata": {
    "application/vnd.databricks.v1+cell": {
     "inputWidgets": {},
     "nuid": "7d88a586-48ee-40f4-8b76-f376461a7bd3",
     "showTitle": false,
     "title": ""
    }
   },
   "source": [
    "### <--- SOLUTION --->\n"
   ]
  },
  {
   "cell_type": "code",
   "execution_count": 12,
   "metadata": {
    "application/vnd.databricks.v1+cell": {
     "inputWidgets": {},
     "nuid": "395d0663-da14-44f6-a335-e2a13611249c",
     "showTitle": false,
     "title": ""
    }
   },
   "outputs": [
    {
     "data": {
      "text/html": [
       "<div>\n",
       "<style scoped>\n",
       "    .dataframe tbody tr th:only-of-type {\n",
       "        vertical-align: middle;\n",
       "    }\n",
       "\n",
       "    .dataframe tbody tr th {\n",
       "        vertical-align: top;\n",
       "    }\n",
       "\n",
       "    .dataframe thead th {\n",
       "        text-align: right;\n",
       "    }\n",
       "</style>\n",
       "<table border=\"1\" class=\"dataframe\">\n",
       "  <thead>\n",
       "    <tr style=\"text-align: right;\">\n",
       "      <th></th>\n",
       "      <th>A</th>\n",
       "      <th>B</th>\n",
       "      <th>C</th>\n",
       "      <th>D</th>\n",
       "      <th>E</th>\n",
       "    </tr>\n",
       "  </thead>\n",
       "  <tbody>\n",
       "    <tr>\n",
       "      <th>A</th>\n",
       "      <td>0</td>\n",
       "      <td>1</td>\n",
       "      <td>0</td>\n",
       "      <td>1</td>\n",
       "      <td>0</td>\n",
       "    </tr>\n",
       "    <tr>\n",
       "      <th>B</th>\n",
       "      <td>0</td>\n",
       "      <td>0</td>\n",
       "      <td>1</td>\n",
       "      <td>0</td>\n",
       "      <td>1</td>\n",
       "    </tr>\n",
       "    <tr>\n",
       "      <th>C</th>\n",
       "      <td>0</td>\n",
       "      <td>0</td>\n",
       "      <td>0</td>\n",
       "      <td>1</td>\n",
       "      <td>0</td>\n",
       "    </tr>\n",
       "    <tr>\n",
       "      <th>D</th>\n",
       "      <td>0</td>\n",
       "      <td>0</td>\n",
       "      <td>0</td>\n",
       "      <td>0</td>\n",
       "      <td>1</td>\n",
       "    </tr>\n",
       "    <tr>\n",
       "      <th>E</th>\n",
       "      <td>1</td>\n",
       "      <td>1</td>\n",
       "      <td>1</td>\n",
       "      <td>0</td>\n",
       "      <td>0</td>\n",
       "    </tr>\n",
       "  </tbody>\n",
       "</table>\n",
       "</div>"
      ],
      "text/plain": [
       "   A  B  C  D  E\n",
       "A  0  1  0  1  0\n",
       "B  0  0  1  0  1\n",
       "C  0  0  0  1  0\n",
       "D  0  0  0  0  1\n",
       "E  1  1  1  0  0"
      ]
     },
     "execution_count": 12,
     "metadata": {},
     "output_type": "execute_result"
    }
   ],
   "source": [
    "# part e - recall what the adjacency matrix looked like (RUN THIS CELL AS IS)\n",
    "TOY_ADJ_MATR"
   ]
  },
  {
   "cell_type": "code",
   "execution_count": 64,
   "metadata": {
    "application/vnd.databricks.v1+cell": {
     "inputWidgets": {},
     "nuid": "c271a169-6581-479c-8733-80d644bfd9d1",
     "showTitle": false,
     "title": ""
    }
   },
   "outputs": [
    {
     "name": "stdout",
     "output_type": "stream",
     "text": [
      "          A         B         C    D    E\n",
      "A  0.000000  0.500000  0.000000  0.5  0.0\n",
      "B  0.000000  0.000000  0.500000  0.0  0.5\n",
      "C  0.000000  0.000000  0.000000  1.0  0.0\n",
      "D  0.000000  0.000000  0.000000  0.0  1.0\n",
      "E  0.333333  0.333333  0.333333  0.0  0.0\n"
     ]
    }
   ],
   "source": [
    "# part e - use TOY_ADJ_MATR to create a right stochastic transition matrix for this graph\n",
    "################ YOUR CODE HERE #################\n",
    "transition_matrix = (TOY_ADJ_MATR.T / TOY_ADJ_MATR.sum(axis=1)).T\n",
    "\n",
    "################ (END) YOUR CODE #################\n",
    "print(transition_matrix)"
   ]
  },
  {
   "cell_type": "code",
   "execution_count": 65,
   "metadata": {
    "application/vnd.databricks.v1+cell": {
     "inputWidgets": {},
     "nuid": "eff2c165-6a3b-413b-9497-3d0dd6c1c98f",
     "showTitle": false,
     "title": ""
    }
   },
   "outputs": [],
   "source": [
    "# part f - compute the steady state using the transition matrix \n",
    "def power_iteration(xInit, tMatrix, nIter, verbose = True):\n",
    "    \"\"\"\n",
    "    Function to perform the specified number of power iteration steps to \n",
    "    compute the steady state probability distribution for the given\n",
    "    transition matrix.\n",
    "    \n",
    "    Args:\n",
    "        xInit     - (n x 1 array) representing inial state\n",
    "        tMatrix  - (n x n array) transition probabilities\n",
    "        nIter     - (int) number of iterations\n",
    "    Returns:\n",
    "        state_vector - (n x 1 array) representing probability \n",
    "                        distribution over states after nSteps.\n",
    "    \n",
    "    NOTE: if the 'verbose' flag is on, your function should print the step\n",
    "    number and the current matrix at each iteration.\n",
    "    \"\"\"\n",
    "    state_vector = None\n",
    "    ################ YOUR CODE HERE #################\n",
    "\n",
    "    state_vector = xInit\n",
    "    for i in range(nIter):\n",
    "        state_vector = state_vector@tMatrix\n",
    "        if verbose:\n",
    "            print(f'Step {i}: {state_vector}')\n",
    "        tMatrix = tMatrix@tMatrix\n",
    "    ################ (END) YOUR CODE #################\n",
    "    return state_vector"
   ]
  },
  {
   "cell_type": "code",
   "execution_count": 66,
   "metadata": {
    "application/vnd.databricks.v1+cell": {
     "inputWidgets": {},
     "nuid": "2000ad16-0adb-4607-b1fa-7529993f1f51",
     "showTitle": false,
     "title": ""
    }
   },
   "outputs": [
    {
     "name": "stdout",
     "output_type": "stream",
     "text": [
      "Step 0: A    0.0\n",
      "B    0.5\n",
      "C    0.0\n",
      "D    0.5\n",
      "E    0.0\n",
      "dtype: float64\n",
      "Step 1: A    0.25\n",
      "B    0.25\n",
      "C    0.25\n",
      "D    0.25\n",
      "E    0.00\n",
      "dtype: float64\n",
      "Step 2: A    0.062500\n",
      "B    0.135417\n",
      "C    0.166667\n",
      "D    0.281250\n",
      "E    0.354167\n",
      "dtype: float64\n",
      "Step 3: A    0.105754\n",
      "B    0.159485\n",
      "C    0.184659\n",
      "D    0.238510\n",
      "E    0.311592\n",
      "dtype: float64\n",
      "Step 4: A    0.105261\n",
      "B    0.157891\n",
      "C    0.184209\n",
      "D    0.236839\n",
      "E    0.315800\n",
      "dtype: float64\n",
      "Step 5: A    0.105263\n",
      "B    0.157895\n",
      "C    0.184211\n",
      "D    0.236842\n",
      "E    0.315789\n",
      "dtype: float64\n",
      "Step 6: A    0.105263\n",
      "B    0.157895\n",
      "C    0.184211\n",
      "D    0.236842\n",
      "E    0.315789\n",
      "dtype: float64\n",
      "Step 7: A    0.105263\n",
      "B    0.157895\n",
      "C    0.184211\n",
      "D    0.236842\n",
      "E    0.315789\n",
      "dtype: float64\n",
      "Step 8: A    0.105263\n",
      "B    0.157895\n",
      "C    0.184211\n",
      "D    0.236842\n",
      "E    0.315789\n",
      "dtype: float64\n",
      "Step 9: A    0.105263\n",
      "B    0.157895\n",
      "C    0.184211\n",
      "D    0.236842\n",
      "E    0.315789\n",
      "dtype: float64\n"
     ]
    }
   ],
   "source": [
    "# part f - run 10 steps of the power_iteration (RUN THIS CELL AS IS)\n",
    "xInit = np.array([1.0, 0, 0, 0, 0]) # note that this initial state will not affect the convergence states\n",
    "states = power_iteration(xInit, transition_matrix, 10, verbose = True)"
   ]
  },
  {
   "cell_type": "markdown",
   "metadata": {
    "application/vnd.databricks.v1+cell": {
     "inputWidgets": {},
     "nuid": "a4391eaa-5068-4a23-ac08-121ca1add4e7",
     "showTitle": false,
     "title": ""
    }
   },
   "source": [
    "__`Expected Output for part e:`__  \n",
    ">Steady State Probabilities:\n",
    "```\n",
    "Node A: 0.10526316  \n",
    "Node B: 0.15789474  \n",
    "Node C: 0.18421053  \n",
    "Node D: 0.23684211  \n",
    "Node E: 0.31578947  \n",
    "```"
   ]
  },
  {
   "cell_type": "markdown",
   "metadata": {
    "application/vnd.databricks.v1+cell": {
     "inputWidgets": {},
     "nuid": "d257366f-f8c2-4f48-beae-0fde2595ddea",
     "showTitle": false,
     "title": ""
    }
   },
   "source": [
    "# Question 4: Page Rank Theory\n",
    "\n",
    "Seems easy right? Unfortunately applying this power iteration method directly to the web-graph actually runs into a few problems. In this question we'll tease apart what we meant by a 'nice graph' in Question 3 and highlight key modifications we'll have to make to the web-graph when performing PageRank. To start, we'll look at what goes wrong when we try to repeat our strategy from question 3 on a 'not nice' graph.\n",
    "\n",
    "__`Additional References:`__ http://pi.math.cornell.edu/~mec/Winter2009/RalucaRemus/Lecture3/lecture3.html\n",
    "\n",
    "### Q4 Tasks:\n",
    "\n",
    "* __a) code:__ Run the provided code to create and plot our 'not nice' graph. Fill in the missing code to compute its transition matrix & run the power iteration method from question 3.\n",
    "\n",
    "* __b) Canvas MCQ:__ What is wrong with what you see in part a? [__`HINT:`__ _there is a visible underlying reason that it isn't converging... try adding up the probabilities in the state vector after each iteration._]\n",
    "\n",
    "* __c) Canvas MCQ:__  Identify the dangling node in this 'not nice' graph and explain how this node causes the problem in 'a'. How could we modify the transition matrix after each iteration to prevent this problem?\n",
    "\n",
    "* __d) Canvas MCQ:__ What does it mean for a graph to be irreducible? Is the webgraph naturally irreducible? Choose your reasoning.\n",
    "\n",
    "* __e) Canvas MCQ:__ What does it mean for a graph to be aperiodic? Is the webgraph naturally aperiodic? Choose your reasoning.\n",
    "\n",
    "* __f) short response:__ What modification to the webgraph does PageRank make in order to guarantee aperiodicity and irreducibility? Interpret this modification in terms of our random surfer analogy."
   ]
  },
  {
   "cell_type": "markdown",
   "metadata": {
    "application/vnd.databricks.v1+cell": {
     "inputWidgets": {},
     "nuid": "02186cdf-0134-403c-9783-73137d829b29",
     "showTitle": false,
     "title": ""
    }
   },
   "source": [
    "### Q4 Student Answers:\n",
    "> a) 0,0,0\n",
    "\n",
    "> __b)__ Lower\n",
    "\n",
    "> __c)__ inlinks but no outlinks\n",
    "\n",
    "> __d)__ No, not irreducable\n",
    "\n",
    "> __e)__ No, not aperiodic\n",
    "\n",
    "> __f)__ PageRank makes the modification of 'teleporting' to a distant node to guarentee aperiodicity and irreducibility. In terms of the randome surfer analogy, the algorithm will surf and 'teleport' to a new node when it arrives at a node with no outlink."
   ]
  },
  {
   "cell_type": "markdown",
   "metadata": {
    "application/vnd.databricks.v1+cell": {
     "inputWidgets": {},
     "nuid": "7b632fca-251f-4af4-aa0a-126b0814fbeb",
     "showTitle": false,
     "title": ""
    }
   },
   "source": [
    "### <--- SOLUTION --->\n"
   ]
  },
  {
   "cell_type": "code",
   "execution_count": 16,
   "metadata": {
    "application/vnd.databricks.v1+cell": {
     "inputWidgets": {},
     "nuid": "5b955938-299e-4145-be86-695d55b45e47",
     "showTitle": false,
     "title": ""
    }
   },
   "outputs": [],
   "source": [
    "# part a - run this code to create a second toy graph (RUN THIS CELL AS IS)\n",
    "TOY2_GRAPH = {'nodes':['A', 'B', 'C', 'D', 'E'],\n",
    "              'edges':[('A', 'B'), ('A', 'C'), ('A', 'D'), ('B', 'D'), \n",
    "                       ('B', 'E'), ('C', 'A'), ('C', 'E'), ('D', 'B')]}"
   ]
  },
  {
   "cell_type": "code",
   "execution_count": 17,
   "metadata": {
    "application/vnd.databricks.v1+cell": {
     "inputWidgets": {},
     "nuid": "c954c14c-faa3-4791-bf58-316faf086586",
     "showTitle": false,
     "title": ""
    }
   },
   "outputs": [
    {
     "data": {
      "text/plain": [
       "None"
      ]
     },
     "metadata": {},
     "output_type": "display_data"
    },
    {
     "data": {
      "image/png": "[encoded data removed]",
      "text/plain": [
       "<Figure size 432x288 with 1 Axes>"
      ]
     },
     "metadata": {},
     "output_type": "display_data"
    }
   ],
   "source": [
    "# part a - simple visualization of our test graph using nx (RUN THIS CELL AS IS)\n",
    "G = nx.DiGraph()\n",
    "G.add_nodes_from(TOY2_GRAPH['nodes'])\n",
    "G.add_edges_from(TOY2_GRAPH['edges'])\n",
    "display(nx.draw(G, pos=nx.circular_layout(G), with_labels=True, alpha = 0.5))"
   ]
  },
  {
   "cell_type": "code",
   "execution_count": 18,
   "metadata": {
    "application/vnd.databricks.v1+cell": {
     "inputWidgets": {},
     "nuid": "214fe212-37a7-42ad-9123-8d18ac7916cf",
     "showTitle": false,
     "title": ""
    }
   },
   "outputs": [
    {
     "name": "stdout",
     "output_type": "stream",
     "text": [
      "Step 0: A    0.000000\n",
      "B    0.333333\n",
      "C    0.333333\n",
      "D    0.333333\n",
      "E    0.000000\n",
      "dtype: float64\n",
      "Step 1: A    0.000000\n",
      "B    0.222222\n",
      "C    0.055556\n",
      "D    0.222222\n",
      "E    0.166667\n",
      "dtype: float64\n",
      "Step 2: A    0.000000\n",
      "B    0.061728\n",
      "C    0.001543\n",
      "D    0.061728\n",
      "E    0.060185\n",
      "dtype: float64\n",
      "Step 3: A    0.000000\n",
      "B    0.003906\n",
      "C    0.000001\n",
      "D    0.003906\n",
      "E    0.003904\n",
      "dtype: float64\n",
      "Step 4: A    0.000000e+00\n",
      "B    1.525879e-05\n",
      "C    7.089408e-13\n",
      "D    1.525879e-05\n",
      "E    1.525879e-05\n",
      "dtype: float64\n",
      "Step 5: A    0.000000e+00\n",
      "B    2.328306e-10\n",
      "C    2.512986e-25\n",
      "D    2.328306e-10\n",
      "E    2.328306e-10\n",
      "dtype: float64\n",
      "Step 6: A    0.000000e+00\n",
      "B    5.421011e-20\n",
      "C    3.157548e-50\n",
      "D    5.421011e-20\n",
      "E    5.421011e-20\n",
      "dtype: float64\n",
      "Step 7: A     0.000000e+00\n",
      "B     2.938736e-39\n",
      "C    4.985055e-100\n",
      "D     2.938736e-39\n",
      "E     2.938736e-39\n",
      "dtype: float64\n",
      "Step 8: A     0.000000e+00\n",
      "B     8.636169e-78\n",
      "C    1.242539e-199\n",
      "D     8.636169e-78\n",
      "E     8.636169e-78\n",
      "dtype: float64\n",
      "Step 9: A     0.000000e+00\n",
      "B    7.458341e-155\n",
      "C     0.000000e+00\n",
      "D    7.458341e-155\n",
      "E    7.458341e-155\n",
      "dtype: float64\n"
     ]
    },
    {
     "data": {
      "text/plain": [
       "A     0.000000e+00\n",
       "B    7.458341e-155\n",
       "C     0.000000e+00\n",
       "D    7.458341e-155\n",
       "E    7.458341e-155\n",
       "dtype: float64"
      ]
     },
     "execution_count": 18,
     "metadata": {},
     "output_type": "execute_result"
    }
   ],
   "source": [
    "# part a - run 10 steps of the power iteration method here\n",
    "# HINT: feel free to use the functions get_adj_matr() and power_iteration() you wrote above\n",
    "################ YOUR CODE HERE #################\n",
    "TOY2_ADJ_MATR = get_adj_matr(TOY2_GRAPH)\n",
    "transition_matrix = ((TOY2_ADJ_MATR.T / TOY2_ADJ_MATR.sum(axis=1)).T).fillna(0)\n",
    "power_iteration(xInit, transition_matrix, 10, verbose = True)\n",
    "\n",
    "\n",
    "################ (END) YOUR CODE #################"
   ]
  },
  {
   "cell_type": "markdown",
   "metadata": {
    "application/vnd.databricks.v1+cell": {
     "inputWidgets": {},
     "nuid": "e5a50474-f7a3-4ab0-b2cd-d34c19b56d67",
     "showTitle": false,
     "title": ""
    }
   },
   "source": [
    "# About the Data\n",
    "The main dataset for this data consists of a subset of a 500GB dataset released by AWS in 2009. The data includes the source and metadata for all of the Wikimedia wikis. You can read more here: \n",
    "> https://aws.amazon.com/blogs/aws/new-public-data-set-wikipedia-xml-data. \n",
    "\n",
    "Use the cells below to download the wikipedia data and a test file for use in developing your PageRank implementation(note that we'll use the 'indexed out' version of the graph) and to take a look at the files."
   ]
  },
  {
   "cell_type": "code",
   "execution_count": 19,
   "metadata": {},
   "outputs": [
    {
     "data": {
      "text/plain": [
       "'gs://hw_data_bucket/main/Assignments/HW5/docker/student/data/'"
      ]
     },
     "execution_count": 19,
     "metadata": {},
     "output_type": "execute_result"
    }
   ],
   "source": [
    "HW5_FOLDER"
   ]
  },
  {
   "cell_type": "code",
   "execution_count": 20,
   "metadata": {},
   "outputs": [
    {
     "name": "stdout",
     "output_type": "stream",
     "text": [
      "       167  2022-06-29T01:33:11Z  gs://hw_data_bucket/main/Assignments/HW5/docker/student/data/test_graph.txt\n",
      "                                 gs://hw_data_bucket/main/Assignments/HW5/docker/student/data/all-pages-indexed-in/\n",
      "                                 gs://hw_data_bucket/main/Assignments/HW5/docker/student/data/all-pages-indexed-out/\n",
      "                                 gs://hw_data_bucket/main/Assignments/HW5/docker/student/data/indices/\n",
      "TOTAL: 1 objects, 167 bytes (167 B)\n"
     ]
    }
   ],
   "source": [
    "!gsutil ls -l {HW5_FOLDER}"
   ]
  },
  {
   "cell_type": "code",
   "execution_count": 21,
   "metadata": {
    "application/vnd.databricks.v1+cell": {
     "inputWidgets": {},
     "nuid": "221607ca-4cc1-4559-af28-6fd16297ec28",
     "showTitle": false,
     "title": ""
    }
   },
   "outputs": [],
   "source": [
    "# load the data into Spark RDDs for convenience of use later (RUN THIS CELL AS IS)\n",
    "testRDD = sc.textFile(HW5_FOLDER +'test_graph.txt')\n",
    "indexRDD = sc.textFile(HW5_FOLDER + '/indices/')\n",
    "wikiRDD = sc.textFile(HW5_FOLDER + '/all-pages-indexed-out/')"
   ]
  },
  {
   "cell_type": "code",
   "execution_count": 22,
   "metadata": {
    "application/vnd.databricks.v1+cell": {
     "inputWidgets": {},
     "nuid": "ab53dc55-a862-4c17-8ffb-7b56b9b2a3ad",
     "showTitle": false,
     "title": ""
    }
   },
   "outputs": [
    {
     "name": "stderr",
     "output_type": "stream",
     "text": [
      "                                                                                \r"
     ]
    },
    {
     "data": {
      "text/plain": [
       "[\"2\\t{'3': 1}\",\n",
       " \"3\\t{'2': 2}\",\n",
       " \"4\\t{'1': 1, '2': 1}\",\n",
       " \"5\\t{'4': 3, '2': 1, '6': 1}\",\n",
       " \"6\\t{'2': 1, '5': 2}\",\n",
       " \"7\\t{'2': 1, '5': 1}\",\n",
       " \"8\\t{'2': 1, '5': 1}\",\n",
       " \"9\\t{'2': 1, '5': 1}\",\n",
       " \"10\\t{'5': 1}\",\n",
       " \"11\\t{'5': 2}\"]"
      ]
     },
     "execution_count": 22,
     "metadata": {},
     "output_type": "execute_result"
    }
   ],
   "source": [
    "# display testRDD (RUN THIS CELL AS IS)\n",
    "testRDD.take(10)"
   ]
  },
  {
   "cell_type": "code",
   "execution_count": 23,
   "metadata": {
    "application/vnd.databricks.v1+cell": {
     "inputWidgets": {},
     "nuid": "bdeec119-bac4-430b-b862-bbf8b8068f54",
     "showTitle": false,
     "title": ""
    }
   },
   "outputs": [
    {
     "data": {
      "text/plain": [
       "['! $var = &quot;&quot;\\t1\\t1\\t0',\n",
       " '! (CONFIG.SYS directive)\\t2\\t1\\t1',\n",
       " '! (album)\\t3\\t12\\t17',\n",
       " '! (disambiguation)\\t4\\t1\\t20',\n",
       " '! -attention-\\t5\\t1\\t0',\n",
       " '! Time Zone\\t6\\t1\\t0',\n",
       " '!! (chess)\\t7\\t0\\t1',\n",
       " '!! (disambiguation)\\t8\\t3\\t0',\n",
       " '!!! (Chk Chk Chk)\\t9\\t1\\t0',\n",
       " '!!! (album)\\t10\\t5\\t15']"
      ]
     },
     "execution_count": 23,
     "metadata": {},
     "output_type": "execute_result"
    }
   ],
   "source": [
    "# display indexRDD (RUN THIS CELL AS IS)\n",
    "indexRDD.take(10)"
   ]
  },
  {
   "cell_type": "code",
   "execution_count": 24,
   "metadata": {
    "application/vnd.databricks.v1+cell": {
     "inputWidgets": {},
     "nuid": "f0833912-6f83-4191-9550-39c2d9b8fbf2",
     "showTitle": false,
     "title": ""
    }
   },
   "outputs": [
    {
     "data": {
      "text/plain": [
       "[\"73\\t{'14417532': 1}\",\n",
       " \"299\\t{'4214575': 1}\",\n",
       " \"2552\\t{'15043376': 1, '13430968': 1, '13451035': 1, '7263397': 1, '13001625': 1, '13443575': 1, '13451269': 1, '13432316': 1, '11623371': 1, '15028971': 1, '13425865': 1, '15042703': 1, '5051368': 1, '9854998': 2, '13442976': 1, '13315025': 1, '2992307': 1, '1054486': 1, '1322325': 1, '13450983': 1}\",\n",
       " \"2570\\t{'983991': 1}\",\n",
       " \"2616\\t{'9045350': 1}\",\n",
       " \"2711\\t{'752887': 1}\",\n",
       " \"2818\\t{'3534183': 1}\",\n",
       " \"2847\\t{'3797918': 1}\",\n",
       " \"2892\\t{'2893': 1}\",\n",
       " \"2921\\t{'5158607': 1, '6007184': 1, '14773825': 1, '11777840': 2, '9285165': 1, '6420484': 1, '14670682': 1, '7316613': 1, '7125893': 1, '14965920': 1, '14229952': 1, '9447742': 2, '1425342': 1, '11390944': 2, '5141': 1, '14928135': 2, '13636570': 3, '14687433': 1, '15105458': 1, '11656072': 1, '6420027': 1, '10898196': 1, '6416278': 1, '11497740': 2}\"]"
      ]
     },
     "execution_count": 24,
     "metadata": {},
     "output_type": "execute_result"
    }
   ],
   "source": [
    "# display wikiRDD (RUN THIS CELL AS IS)\n",
    "wikiRDD.take(10)"
   ]
  },
  {
   "cell_type": "markdown",
   "metadata": {
    "application/vnd.databricks.v1+cell": {
     "inputWidgets": {},
     "nuid": "abeb909c-43b7-4c77-abd9-95a1cdf5365b",
     "showTitle": false,
     "title": ""
    }
   },
   "source": [
    "# Question 5: EDA part 1 (number of nodes)\n",
    "\n",
    "As usual, before we dive in to the main analysis, we'll peform some exploratory data anlysis to understand our dataset. Please use the test graph that you downloaded to test all your code before running the full dataset.\n",
    "\n",
    "### Q5 Tasks:\n",
    "* __a) Canvas Matching:__ In what format is the raw data? What does the first value represent? What does the second part of each line represent? [__`HINT:`__ _no need to go digging here, just visually inspect the outputs of the head commands that we ran after loading the data above._]\n",
    "\n",
    "* __b) Canvas MC:__ Run the provided bash command to count the number of records in the raw dataset. Explain why this is _not_ the same as the number of total nodes in the graph.\n",
    "\n",
    "* __c) code:__ In the space provided below write a Spark job to count the _total number_ of nodes in this graph. \n",
    "\n",
    "* __d) Numerical Answer:__ How many dangling nodes are there in this wikipedia graph? [__`HINT:`__ _you should not need any code to answer this question._]"
   ]
  },
  {
   "cell_type": "markdown",
   "metadata": {
    "application/vnd.databricks.v1+cell": {
     "inputWidgets": {},
     "nuid": "b8a372b3-1d7e-4538-b546-b24c53d97772",
     "showTitle": false,
     "title": ""
    }
   },
   "source": [
    "### Q5 Student Answers:"
   ]
  },
  {
   "cell_type": "markdown",
   "metadata": {},
   "source": [
    "a) raw data -> adjacency lists, first value -> node id, second part -> dictionary of linked pages\n",
    "\n",
    "b) don't have any hyperlinks\n",
    "c) 15,192,277\n",
    "d) 9,410,987"
   ]
  },
  {
   "cell_type": "markdown",
   "metadata": {
    "application/vnd.databricks.v1+cell": {
     "inputWidgets": {},
     "nuid": "0f9c85dc-62fe-4cc8-9966-c6f8bba672c5",
     "showTitle": false,
     "title": ""
    }
   },
   "source": [
    "### <--- SOLUTION --->\n",
    "__SOLUTION__\n"
   ]
  },
  {
   "cell_type": "code",
   "execution_count": 25,
   "metadata": {
    "application/vnd.databricks.v1+cell": {
     "inputWidgets": {},
     "nuid": "f03cc8a6-c2f9-4ef5-bf04-6f391f8fc130",
     "showTitle": false,
     "title": ""
    }
   },
   "outputs": [
    {
     "name": "stderr",
     "output_type": "stream",
     "text": [
      "[Stage 4:=====================================================>   (15 + 1) / 16]\r"
     ]
    },
    {
     "name": "stdout",
     "output_type": "stream",
     "text": [
      "5781290\n"
     ]
    },
    {
     "name": "stderr",
     "output_type": "stream",
     "text": [
      "                                                                                \r"
     ]
    }
   ],
   "source": [
    "# part b - count the number of records in the raw data (RUN THIS CELL AS IS)\n",
    "# 5781290\n",
    "print(wikiRDD.count())"
   ]
  },
  {
   "cell_type": "code",
   "execution_count": 26,
   "metadata": {
    "application/vnd.databricks.v1+cell": {
     "inputWidgets": {},
     "nuid": "02a52d86-b9bd-440b-a5c5-1fe7cca822d5",
     "showTitle": false,
     "title": ""
    }
   },
   "outputs": [],
   "source": [
    "# part c - write your Spark job here (compute total number of nodes)\n",
    "def count_nodes(dataRDD):\n",
    "    \"\"\"\n",
    "    Spark job to count the total number of nodes.\n",
    "    Returns: integer count \n",
    "    \"\"\"    \n",
    "    ############## YOUR CODE HERE ###############\n",
    "    def splitText(line):\n",
    "        key, value = line.split(\"\\t\")\n",
    "        new_dict = ast.literal_eval(value)\n",
    "        new_dict[key] = 1\n",
    "        for k, v in new_dict.items():\n",
    "            yield (k, v)\n",
    "    totalCount = dataRDD.map(splitText).flatMap(lambda x: x).reduceByKey(lambda x,y: x+y).count()\n",
    "    \n",
    "    \n",
    "    \n",
    "    ############## (END) YOUR CODE ###############   \n",
    "    return totalCount"
   ]
  },
  {
   "cell_type": "code",
   "execution_count": 27,
   "metadata": {
    "application/vnd.databricks.v1+cell": {
     "inputWidgets": {},
     "nuid": "3778d2a6-13c3-4c84-8eaf-c9a8a3f6a112",
     "showTitle": false,
     "title": ""
    }
   },
   "outputs": [
    {
     "name": "stdout",
     "output_type": "stream",
     "text": [
      "... completed job in 0.6073980331420898 seconds.\n",
      "Total Nodes: 11\n"
     ]
    }
   ],
   "source": [
    "# part c - run your counting job on the test file (RUN THIS CELL AS IS)\n",
    "start = time.time()\n",
    "tot = count_nodes(testRDD)\n",
    "print(f'... completed job in {time.time() - start} seconds.')\n",
    "print(f'Total Nodes: {tot}')"
   ]
  },
  {
   "cell_type": "code",
   "execution_count": 28,
   "metadata": {
    "application/vnd.databricks.v1+cell": {
     "inputWidgets": {},
     "nuid": "1cad9491-9628-4629-ac57-9f035b8971c9",
     "showTitle": false,
     "title": ""
    }
   },
   "outputs": [
    {
     "name": "stderr",
     "output_type": "stream",
     "text": [
      "[Stage 8:==============================================>          (13 + 3) / 16]\r"
     ]
    },
    {
     "name": "stdout",
     "output_type": "stream",
     "text": [
      "... completed job in 87.09503507614136 seconds.\n",
      "Total Nodes: 15192277\n"
     ]
    },
    {
     "name": "stderr",
     "output_type": "stream",
     "text": [
      "                                                                                \r"
     ]
    }
   ],
   "source": [
    "# part c - run your counting job on the full file (RUN THIS CELL AS IS)\n",
    "start = time.time()\n",
    "tot = count_nodes(wikiRDD)\n",
    "print(f'... completed job in {time.time() - start} seconds.')\n",
    "print(f'Total Nodes: {tot}')"
   ]
  },
  {
   "cell_type": "code",
   "execution_count": 29,
   "metadata": {
    "application/vnd.databricks.v1+cell": {
     "inputWidgets": {},
     "nuid": "6262439c-b9e1-4123-a9cf-a35602fbbf34",
     "showTitle": false,
     "title": ""
    }
   },
   "outputs": [],
   "source": [
    "# <--- SOLUTION --->\n",
    "# part d - number of dangling nodes\n"
   ]
  },
  {
   "cell_type": "code",
   "execution_count": 30,
   "metadata": {
    "application/vnd.databricks.v1+cell": {
     "inputWidgets": {},
     "nuid": "c3c818c1-f164-47d9-bfcd-373a9d761a6e",
     "showTitle": false,
     "title": ""
    }
   },
   "outputs": [],
   "source": [
    "# <--- SOLUTION --->\n",
    "# part d - number of dangling nodes\n"
   ]
  },
  {
   "cell_type": "markdown",
   "metadata": {
    "application/vnd.databricks.v1+cell": {
     "inputWidgets": {},
     "nuid": "8e5cd038-e3e4-45cc-9f80-14e0a1184820",
     "showTitle": false,
     "title": ""
    }
   },
   "source": [
    "# Question 6 - EDA part 2 (out-degree distribution)\n",
    "\n",
    "As you've seen in previous homeworks the computational complexity of an implementation depends not only on the number of records in the original dataset but also on the number of records we create and shuffle in our intermediate representation of the data. The number of intermediate records required to update PageRank is related to the number of edges in the graph. In this question you'll compute the average number of hyperlinks on each page in this data and visualize a distribution for these counts (the out-degree of the nodes). \n",
    "\n",
    "### Q6 Tasks:\n",
    "* __a) code:__ In the space provided below write a Spark job to stream over the data and compute all of the following information:\n",
    "  * count the out-degree of each non-dangling node and return the names of the top 10 pages with the most hyperlinks\n",
    "  * find the average out-degree for all non-dangling nodes in the graph\n",
    "  * take a 1000 point sample of these out-degree counts and plot a histogram of the result. \n",
    " \n",
    " \n",
    "* __b) short response:__ In the context of the PageRank algorithm, how is information about a node's out degree used?\n",
    "\n",
    "* __c) short response:__ What does it mean if a node's out-degree is 0? In PageRank how will we handle these nodes differently than others?\n",
    " \n",
    "__`NOTE:`__ Please observe scalability best practices in the design of your code & comment your work clearly. You will be graded on both the clarity and the design."
   ]
  },
  {
   "cell_type": "markdown",
   "metadata": {
    "application/vnd.databricks.v1+cell": {
     "inputWidgets": {},
     "nuid": "df6b426c-4bee-4e65-9596-21be8f3cf8cc",
     "showTitle": false,
     "title": ""
    }
   },
   "source": [
    "### Q6 Student Answers:\n",
    "\n",
    "a) 2.2\n",
    "a) 7804599\n",
    "\n",
    "> __b)__ In the context of PageRank, information about a node's out degree is used to see which pages are linked to others and are used to 'surf' between links \n",
    "\n",
    "> __c)__ If a node's out degree is zero, that means it's not connected to an other pages. PageRank will handle these by 'teleporting' to other nodes."
   ]
  },
  {
   "cell_type": "markdown",
   "metadata": {
    "application/vnd.databricks.v1+cell": {
     "inputWidgets": {},
     "nuid": "f90fb875-4f65-42b4-bf2e-0ba2d3387271",
     "showTitle": false,
     "title": ""
    }
   },
   "source": [
    "### <--- SOLUTION --->\n",
    "__SOLUTION__\n"
   ]
  },
  {
   "cell_type": "code",
   "execution_count": null,
   "metadata": {
    "application/vnd.databricks.v1+cell": {
     "inputWidgets": {},
     "nuid": "3733e4c5-5f90-4c11-b3a1-7f3bb0e5872a",
     "showTitle": false,
     "title": ""
    }
   },
   "outputs": [],
   "source": [
    "# part a - write your Spark job here (compute average in-degree, etc)\n",
    "def count_degree(dataRDD, n):\n",
    "    \"\"\"\n",
    "    Function to analyze out-degree of nodes in a a graph.\n",
    "    Returns: \n",
    "        top  - (list of 10 tuples) nodes with most edges\n",
    "        avgDegree - (float) average out-degree for non-dangling nodes\n",
    "        sampledCounts - (list of integers) out-degree for n randomly sampled non-dangling nodes\n",
    "    \"\"\"\n",
    "    # helper func\n",
    "    def parse(line):\n",
    "        node, edges = line.split('\\t')\n",
    "        return (node, ast.literal_eval(edges))\n",
    "    \n",
    "    ############## YOUR CODE HERE ###############\n",
    "    # Count edges\n",
    "    edge_counts = dataRDD.map(parse).map(lambda x: [(x[0], sum(x[1].values()))]).flatMap(lambda x: x).reduceByKey(lambda x,y: x+y)\n",
    "    \n",
    "    # Sort counts\n",
    "    sorted_counts = edge_counts.sortBy(lambda x: x[1]).collect()\n",
    "    \n",
    "    # Select n nodes with most out edges\n",
    "    top = list(reversed(sorted_counts[-10:]))\n",
    "    \n",
    "    # Select average out-degree for non-dangling nodes\n",
    "    avgDegree = edge_counts.flatMap(lambda x: [x[1]]).mean()\n",
    "    \n",
    "    # Select out degree for n randomly sampled non-dangling nodes\n",
    "    sampledCounts = edge_counts.flatMap(lambda x: [x[1]]).sample(False, 1, 81).take(n)\n",
    "    \n",
    "    \n",
    "    \n",
    "    ############## (END) YOUR CODE ###############\n",
    "    \n",
    "    return top, avgDegree, sampledCounts"
   ]
  },
  {
   "cell_type": "code",
   "execution_count": null,
   "metadata": {
    "application/vnd.databricks.v1+cell": {
     "inputWidgets": {},
     "nuid": "e280f486-8536-44c1-9d73-e0ab09f62046",
     "showTitle": false,
     "title": ""
    }
   },
   "outputs": [],
   "source": [
    "# part a - run your job on the test file (RUN THIS CELL AS IS)\n",
    "start = time.time()\n",
    "test_results = count_degree(testRDD,10)\n",
    "print(f\"... completed job in {time.time() - start} seconds\")\n",
    "print(\"Average out-degree: \", test_results[1])\n",
    "print(\"Top 10 nodes (by out-degree:)\\n\", test_results[0])"
   ]
  },
  {
   "cell_type": "code",
   "execution_count": null,
   "metadata": {
    "application/vnd.databricks.v1+cell": {
     "inputWidgets": {},
     "nuid": "073bb923-bf6c-4c7b-9a04-c9ccf33fd58b",
     "showTitle": false,
     "title": ""
    }
   },
   "outputs": [],
   "source": [
    "# part a - plot results from test file (RUN THIS CELL AS IS)\n",
    "plt.hist(test_results[2], bins=10)\n",
    "plt.title(\"Distribution of Out-Degree\")\n",
    "display(plt.show())"
   ]
  },
  {
   "cell_type": "code",
   "execution_count": null,
   "metadata": {
    "application/vnd.databricks.v1+cell": {
     "inputWidgets": {},
     "nuid": "911b66e0-01ce-483e-b471-292f3b86001a",
     "showTitle": false,
     "title": ""
    }
   },
   "outputs": [],
   "source": [
    "# part a - run your job on the full file (RUN THIS CELL AS IS)\n",
    "start = time.time()\n",
    "full_results = count_degree(wikiRDD,1000)\n",
    "\n",
    "print(f\"... completed job in {time.time() - start} seconds\")\n",
    "print(\"Average out-degree: \", full_results[1])\n",
    "print(\"Top 10 nodes (by out-degree:)\\n\", full_results[0])"
   ]
  },
  {
   "cell_type": "code",
   "execution_count": null,
   "metadata": {
    "application/vnd.databricks.v1+cell": {
     "inputWidgets": {},
     "nuid": "ace6cf84-9e29-4cc7-9ce7-f6d8d8ee5f26",
     "showTitle": false,
     "title": ""
    }
   },
   "outputs": [],
   "source": [
    "# part a - plot results from full file (RUN THIS CELL AS IS)\n",
    "plt.hist(full_results[2], bins=50)\n",
    "plt.title(\"Distribution of Out-Degree\")\n",
    "display(plt.show())"
   ]
  },
  {
   "cell_type": "markdown",
   "metadata": {
    "application/vnd.databricks.v1+cell": {
     "inputWidgets": {},
     "nuid": "2335011b-57ae-417b-a682-b3f7f8ce0a01",
     "showTitle": false,
     "title": ""
    }
   },
   "source": [
    "# Question 7 - PageRank part 1 (Initialize the Graph)\n",
    "\n",
    "One of the challenges of performing distributed graph computation is that you must pass the entire graph structure through each iteration of your algorithm. As usual, we seek to design our computation so that as much work as possible can be done using the contents of a single record. In the case of PageRank, we'll need each record to include a node, its list of neighbors and its (current) rank. In this question you'll initialize the graph by creating a record for each dangling node and by setting the initial rank to 1/N for all nodes. \n",
    "\n",
    "__`NOTE:`__ Your solution should _not_ hard code $N$.\n",
    "\n",
    "### Q7 Tasks:\n",
    "* __a) Canvas MC:__ What is $N$? \n",
    "\n",
    "* __b) Canvas Multiple Selection MC:__ Using the analogy of the infinite random web-surfer, how do we use $\\frac{1}{N}$?\n",
    "\n",
    "* __c) Canvas Multiple Dropdown:__ Will it be more efficient to compute \\\\(N\\\\) before initializing records for each dangling node or after? (T/F).\n",
    "\n",
    "* __d) code:__ Fill in the missing code below to create a Spark job that:\n",
    "  * parses each input record\n",
    "  * creates a new record for any dangling nodes and sets it list of neighbors to be an empty set\n",
    "  * initializes a rank of 1/N for each node\n",
    "  * returns a pair RDD with records in the format specified by the docstring\n",
    "\n",
    "\n",
    "* __e) code + short answer:__ Run the provided code to confirm that your job in `part d` has a record for each node and that your should records match the format specified in the docstring and the count should match what you computed in question 5. Copy and paste this output into Canvas. [__`TIP:`__ _you might want to take a moment to write out what the expected output should be fore the test graph, this will help you know your code works as expected_]\n",
    " \n",
    "__`NOTE:`__ Please observe scalability best practices in the design of your code & comment your work clearly. You will be graded on both the clarity and the design."
   ]
  },
  {
   "cell_type": "markdown",
   "metadata": {
    "application/vnd.databricks.v1+cell": {
     "inputWidgets": {},
     "nuid": "ab638b99-08ce-4570-92ad-a4fb6cb4d2ac",
     "showTitle": false,
     "title": ""
    }
   },
   "source": [
    "### Q7 Student Answers:"
   ]
  },
  {
   "cell_type": "markdown",
   "metadata": {},
   "source": [
    "a) total nodes in the graph\n",
    "\n",
    "b) to initialize each node's rank / to suggest that the random sufer is equally\n",
    "\n",
    "c) to wait -> true, cannot use distinct() -> false, more effecient -> False"
   ]
  },
  {
   "cell_type": "markdown",
   "metadata": {
    "application/vnd.databricks.v1+cell": {
     "inputWidgets": {},
     "nuid": "5f339d21-7827-4ce1-8c28-cf54493fcee1",
     "showTitle": false,
     "title": ""
    }
   },
   "source": [
    "### <--- SOLUTION --->\n"
   ]
  },
  {
   "cell_type": "code",
   "execution_count": 42,
   "metadata": {
    "application/vnd.databricks.v1+cell": {
     "inputWidgets": {},
     "nuid": "785e5640-4910-4e18-b7fc-09dc7d8dc69e",
     "showTitle": false,
     "title": ""
    }
   },
   "outputs": [],
   "source": [
    "# part d - job to initialize the graph (RUN THIS CELL AS IS)\n",
    "def initGraph(dataRDD):\n",
    "    \"\"\"\n",
    "    Spark job to read in the raw data and initialize an \n",
    "    adjacency list representation with a record for each\n",
    "    node (including dangling nodes).\n",
    "    \n",
    "    Returns: \n",
    "        graphRDD -  a pair RDD of (node_id , (score, edges))\n",
    "        \n",
    "    NOTE: The score should be a float, but you may want to be \n",
    "    strategic about how format the edges... there are a few \n",
    "    options that can work. Make sure that whatever you choose\n",
    "    is sufficient for Question 8 where you'll run PageRank.\n",
    "    \"\"\"\n",
    "    ############## YOUR CODE HERE ###############\n",
    "\n",
    "    # write any helper functions here\n",
    "    def parse(line):\n",
    "        node, edges = line.split('\\t')\n",
    "        edges = ast.literal_eval(edges)\n",
    "        yield (node, edges)\n",
    "        for n in edges.keys():\n",
    "            yield (n, {})\n",
    "        return\n",
    "    \n",
    "    nodeRDD = dataRDD.flatMap(parse).groupByKey().map(lambda x: (x[0], list(filter(None, x[1]))))\n",
    "    counts = nodeRDD.count()\n",
    "    graphRDD = nodeRDD.map(lambda x: (x[0], 1/counts, x[1]))\n",
    "    \n",
    "    \n",
    "    \n",
    "    ############## (END) YOUR CODE ##############\n",
    "    \n",
    "    return graphRDD\n"
   ]
  },
  {
   "cell_type": "code",
   "execution_count": 43,
   "metadata": {
    "application/vnd.databricks.v1+cell": {
     "inputWidgets": {},
     "nuid": "defa9d85-90e7-4888-9d8d-b55fea07b625",
     "showTitle": false,
     "title": ""
    }
   },
   "outputs": [
    {
     "name": "stdout",
     "output_type": "stream",
     "text": [
      "... test graph initialized in 0.1391129493713379 seconds.\n"
     ]
    },
    {
     "data": {
      "text/plain": [
       "[('4', 0.09090909090909091, [{'1': 1, '2': 1}]),\n",
       " ('1', 0.09090909090909091, []),\n",
       " ('8', 0.09090909090909091, [{'2': 1, '5': 1}]),\n",
       " ('9', 0.09090909090909091, [{'2': 1, '5': 1}]),\n",
       " ('10', 0.09090909090909091, [{'5': 1}]),\n",
       " ('2', 0.09090909090909091, [{'3': 1}]),\n",
       " ('3', 0.09090909090909091, [{'2': 2}]),\n",
       " ('5', 0.09090909090909091, [{'4': 3, '2': 1, '6': 1}]),\n",
       " ('6', 0.09090909090909091, [{'2': 1, '5': 2}]),\n",
       " ('7', 0.09090909090909091, [{'2': 1, '5': 1}]),\n",
       " ('11', 0.09090909090909091, [{'5': 2}])]"
      ]
     },
     "execution_count": 43,
     "metadata": {},
     "output_type": "execute_result"
    }
   ],
   "source": [
    "# part e - run your Spark job on the test graph (RUN THIS CELL AS IS)\n",
    "start = time.time()\n",
    "testGraph = initGraph(testRDD).collect()\n",
    "print(f'... test graph initialized in {time.time() - start} seconds.')\n",
    "testGraph"
   ]
  },
  {
   "cell_type": "code",
   "execution_count": 44,
   "metadata": {
    "application/vnd.databricks.v1+cell": {
     "inputWidgets": {},
     "nuid": "87b373f0-605a-4aa9-a938-ae43b9b22ca2",
     "showTitle": false,
     "title": ""
    }
   },
   "outputs": [
    {
     "name": "stderr",
     "output_type": "stream",
     "text": [
      "[Stage 44:====================================================>   (15 + 1) / 16]\r"
     ]
    },
    {
     "name": "stdout",
     "output_type": "stream",
     "text": [
      "... full graph initialized in 253.26548194885254 seconds\n"
     ]
    },
    {
     "name": "stderr",
     "output_type": "stream",
     "text": [
      "                                                                                \r"
     ]
    }
   ],
   "source": [
    "# part e - run your code on the main graph (RUN THIS CELL AS IS)\n",
    "start = time.time()\n",
    "wikiGraphRDD = initGraph(wikiRDD)\n",
    "print(f'... full graph initialized in {time.time() - start} seconds')"
   ]
  },
  {
   "cell_type": "code",
   "execution_count": 45,
   "metadata": {
    "application/vnd.databricks.v1+cell": {
     "inputWidgets": {},
     "nuid": "13e1392b-448f-478f-9dd3-aa37e905b334",
     "showTitle": false,
     "title": ""
    }
   },
   "outputs": [
    {
     "name": "stderr",
     "output_type": "stream",
     "text": [
      "                                                                                \r"
     ]
    },
    {
     "name": "stdout",
     "output_type": "stream",
     "text": [
      "Total number of records: 15192277\n"
     ]
    },
    {
     "name": "stderr",
     "output_type": "stream",
     "text": [
      "[Stage 48:>                                                         (0 + 1) / 1]\r"
     ]
    },
    {
     "name": "stdout",
     "output_type": "stream",
     "text": [
      "First record: [('5746733', 6.582291778908455e-08, [])]\n",
      "... initialization continued: 93.63503336906433 seconds\n"
     ]
    },
    {
     "name": "stderr",
     "output_type": "stream",
     "text": [
      "                                                                                \r"
     ]
    }
   ],
   "source": [
    "# part e - confirm record format and count (RUN THIS CELL AS IS)\n",
    "start = time.time()\n",
    "print(f'Total number of records: {wikiGraphRDD.count()}')\n",
    "print(f'First record: {wikiGraphRDD.take(1)}')\n",
    "print(f'... initialization continued: {time.time() - start} seconds')"
   ]
  },
  {
   "cell_type": "markdown",
   "metadata": {
    "application/vnd.databricks.v1+cell": {
     "inputWidgets": {},
     "nuid": "8767c84f-b5de-4e99-8089-79c303d54d64",
     "showTitle": false,
     "title": ""
    }
   },
   "source": [
    "# Question 8 - PageRank part 2 (Iterate until convergence)\n",
    "\n",
    "Finally we're ready to compute the page rank. In this last question you'll write a Spark job that iterates over the initialized graph updating each nodes score until it reaches a convergence threshold. The diagram below gives a visual overview of the process using a 5 node toy graph. Pay particular attention to what happens to the dangling mass at each iteration.\n",
    "\n",
    "<img src='https://github.com/kyleiwaniec/w261_assets/blob/master/images/HW5/PR-illustrated.png?raw=true' width=80%>\n",
    "\n",
    "\n",
    "\n",
    "__`A Note about Notation:`__ The formula above describes how to compute the updated page rank for a node in the graph. The $P$ on the left hand side of the equation is the new score, and the $P$ on the right hand side of the equation represents the accumulated mass that was re-distributed from all of that node's in-links. Finally, $|G|$ is the number of nodes in the graph (which we've elsewhere refered to as $N$).\n",
    "\n",
    "### Q8 Tasks:\n",
    "* __a) Canvas MCQ:__ In terms of the infinite random walk analogy, interpret the meaning of the first term in the PageRank calculation: $\\alpha * \\frac{1}{|G|}$\n",
    "\n",
    "* __b) Canvas MCQ:__ In the equation for the PageRank calculation above what does $m$ represent and why do we divide it by $|G|$?\n",
    "\n",
    "* __c) Numeric answer:__ Keeping track of the total probability mass after each update is a good way to confirm that your algorithm is on track. How much should the total mass be after each iteration?\n",
    "\n",
    "* __d) code:__ Fill in the missing code below to create a Spark job that take the initialized graph as its input then iterates over the graph and for each pass:\n",
    "  * reads in each record and redistributes the node's current score to each of its neighbors\n",
    "  * uses an accumulator to add up the dangling node mass and redistribute it among all the nodes. (_Don't forget to reset this accumulator after each iteration!_)\n",
    "  * uses an accumulator to keep track of the total mass being redistributed.( _This is just for your own check, its not part of the PageRank calculation. Don't forget to reset this accumulator after each iteration._)\n",
    "  * aggregates these partial scores for each node\n",
    "  * applies telportation and damping factors as described in the formula above.\n",
    "  * combine all of the above to compute the PageRank as described by the formula above.\n",
    "  \n",
    "   __WARNING:__ Some pages contain multiple hyperlinks to the same destination, please take this into account when redistributing the mass.\n",
    "\n",
    " \n",
    "__`NOTE:`__ Please observe scalability best practices in the design of your code & comment your work clearly. You will be graded on both the clarity and the design."
   ]
  },
  {
   "cell_type": "markdown",
   "metadata": {
    "application/vnd.databricks.v1+cell": {
     "inputWidgets": {},
     "nuid": "42c759e9-1234-4ba2-81e0-b01e45b2c4c0",
     "showTitle": false,
     "title": ""
    }
   },
   "source": [
    "### Q8 Student Answers:\n",
    "\n",
    "> __a)__ alpha is teleportation, g is number of nodes\n",
    "\n",
    "> __b)__ m is dangling mass\n",
    "\n",
    "> __c)__ 1"
   ]
  },
  {
   "cell_type": "markdown",
   "metadata": {
    "application/vnd.databricks.v1+cell": {
     "inputWidgets": {},
     "nuid": "caa7cc08-44e2-4ba4-b7f8-ae9b5d3322d0",
     "showTitle": false,
     "title": ""
    }
   },
   "source": [
    "### <--- SOLUTION --->\n",
    "__SOLUTION__\n",
    "\n"
   ]
  },
  {
   "cell_type": "code",
   "execution_count": 48,
   "metadata": {
    "application/vnd.databricks.v1+cell": {
     "inputWidgets": {},
     "nuid": "2b1b408d-a497-49ce-bc7f-0f3b6731330f",
     "showTitle": false,
     "title": ""
    }
   },
   "outputs": [],
   "source": [
    "# part d - provided FloatAccumulator class (RUN THIS CELL AS IS)\n",
    "\n",
    "from pyspark.accumulators import AccumulatorParam\n",
    "\n",
    "class FloatAccumulatorParam(AccumulatorParam):\n",
    "    \"\"\"\n",
    "    Custom accumulator for use in page rank to keep track of various masses.\n",
    "    \n",
    "    IMPORTANT: accumulators should only be called inside actions to avoid duplication.\n",
    "    We stringly recommend you use the 'foreach' action in your implementation below.\n",
    "    \"\"\"\n",
    "    def zero(self, value):\n",
    "        return value\n",
    "    def addInPlace(self, val1, val2):\n",
    "        return val1 + val2"
   ]
  },
  {
   "cell_type": "code",
   "execution_count": 90,
   "metadata": {
    "application/vnd.databricks.v1+cell": {
     "inputWidgets": {},
     "nuid": "0106d82e-5638-4a9c-b35a-96a730589792",
     "showTitle": false,
     "title": ""
    }
   },
   "outputs": [],
   "source": [
    "# part d - job to run PageRank (RUN THIS CELL AS IS)\n",
    "def runPageRank(graphInitRDD, alpha = 0.15, maxIter = 10, verbose = True):\n",
    "    \"\"\"\n",
    "    Spark job to implement page rank\n",
    "    Args: \n",
    "        graphInitRDD  - pair RDD of (node_id , (score, edges))\n",
    "        alpha         - (float) teleportation factor\n",
    "        maxIter       - (int) stopping criteria (number of iterations)\n",
    "        verbose       - (bool) option to print logging info after each iteration\n",
    "    Returns:\n",
    "        steadyStateRDD - pair RDD of (node_id, pageRank)\n",
    "    \"\"\"\n",
    "    # teleportation:\n",
    "    a = sc.broadcast(alpha)\n",
    "    \n",
    "    # damping factor:\n",
    "    d = sc.broadcast(1-a.value)\n",
    "    \n",
    "    # initialize accumulators for dangling mass & total mass\n",
    "    mmAccum = sc.accumulator(0.0, FloatAccumulatorParam())\n",
    "    totAccum = sc.accumulator(0.0, FloatAccumulatorParam())\n",
    "    \n",
    "    ############## YOUR CODE HERE ###############\n",
    "    \n",
    "    # write your helper functions here, \n",
    "    # please document the purpose of each clearly \n",
    "    # for reference, the master solution has 5 helper functions.\n",
    "\n",
    "    def step1(x):\n",
    "        global mmAccum\n",
    "        node = x[0]\n",
    "        scores = x[1][0]\n",
    "        edges =  x[1][1]\n",
    "        num_edge = len(edges)\n",
    "        temp_node = (node,(0,edges))\n",
    "        if num_edge != 0:\n",
    "            next_scores = scores/num_edge\n",
    "            next_rdd = [(y,(next_scores,[])) for y in edges]\n",
    "            next_rdd.append(temp_node)\n",
    "            return next_rdd\n",
    "        else:\n",
    "            mmAccum.add(scores)\n",
    "            return [(node,(0,[]))]\n",
    "    steadyStateRDD =  graphInitRDD.map(step1)\n",
    "    def func_reduce(x,y):\n",
    "        return (x[0]+y[0],x[1]+y[1])\n",
    "    def structured_init(x,mm):\n",
    "        global  totAccum\n",
    "        node = x[0]\n",
    "        scores = x[1][0]\n",
    "        edges =  x[1][1]\n",
    "        final_scores = alpha*(1/node_num) + (1-alpha) * (mm/node_num + scores)\n",
    "        totAccum.add(final_scores)\n",
    "        return (node,(final_scores,edges))\n",
    "    node_num = graphInitRDD.count()\n",
    "    for i in range(maxIter) :\n",
    "        graphInitRDD = graphInitRDD.flatMap(lambda x : step1(x)).reduceByKey(lambda x,y:func_reduce(x,y))\n",
    "        graphInitRDD.cache()\n",
    "        graphInitRDD.count()\n",
    "        accum = float(mmAccum.value)\n",
    "        graphInitRDD = graphInitRDD.map(lambda x : structured_init(x,accum))\n",
    "        graphInitRDD.cache()\n",
    "        graphInitRDD.count()\n",
    "        mmAccum.value = 0\n",
    "        totAccum.value = 0\n",
    "           \n",
    "    \n",
    "\n",
    "        \n",
    "    # write your main Spark Job here (including the for loop to iterate)\n",
    "    # for reference, the master solution is 21 lines including comments & whitespace\n",
    "\n",
    "\n",
    "    \n",
    "    \n",
    "    ############## (END) YOUR CODE ###############\n",
    "    \n",
    "    return steadyStateRDD"
   ]
  },
  {
   "cell_type": "code",
   "execution_count": 94,
   "metadata": {},
   "outputs": [
    {
     "data": {
      "text/plain": [
       "[('4', 0.09090909090909091, [{'1': 1, '2': 1}])]"
      ]
     },
     "execution_count": 94,
     "metadata": {},
     "output_type": "execute_result"
    }
   ],
   "source": [
    "runPageRank(testRDD)"
   ]
  },
  {
   "cell_type": "code",
   "execution_count": null,
   "metadata": {
    "application/vnd.databricks.v1+cell": {
     "inputWidgets": {},
     "nuid": "713ce01a-9fd6-4c03-9e90-33809f13853e",
     "showTitle": false,
     "title": ""
    }
   },
   "outputs": [],
   "source": [
    "# part d - run PageRank on the test graph (RUN THIS CELL AS IS)\n",
    "# NOTE: while developing your code you may want turn on the verbose option\n",
    "nIter = 20\n",
    "testGraphRDD = initGraph(testRDD)\n",
    "start = time.time()\n",
    "test_results = runPageRank(testGraphRDD, alpha = 0.15, maxIter = nIter, verbose = False)\n",
    "print(f'...trained {nIter} iterations in {time.time() - start} seconds.')\n",
    "print(f'Top 20 ranked nodes:')\n",
    "test_results.takeOrdered(20, key=lambda x: - x[1])"
   ]
  },
  {
   "cell_type": "markdown",
   "metadata": {
    "application/vnd.databricks.v1+cell": {
     "inputWidgets": {},
     "nuid": "d67f45f2-6aa2-4d11-82c6-ac75aedce484",
     "showTitle": false,
     "title": ""
    }
   },
   "source": [
    "__`expected results for the test graph:`__\n",
    "```\n",
    "[(2, 0.3620640495978871),\n",
    " (3, 0.333992700474142),\n",
    " (5, 0.08506399429624555),\n",
    " (4, 0.06030963508473455),\n",
    " (1, 0.04255740809817991),\n",
    " (6, 0.03138662354831139),\n",
    " (8, 0.01692511778009981),\n",
    " (10, 0.01692511778009981),\n",
    " (7, 0.01692511778009981),\n",
    " (9, 0.01692511778009981),\n",
    " (11, 0.01692511778009981)]\n",
    "```"
   ]
  },
  {
   "cell_type": "code",
   "execution_count": null,
   "metadata": {
    "application/vnd.databricks.v1+cell": {
     "inputWidgets": {},
     "nuid": "b18601a6-727e-4229-af9d-40019e092fd7",
     "showTitle": false,
     "title": ""
    }
   },
   "outputs": [],
   "source": [
    "# part d - run PageRank on the full graph (RUN THIS CELL AS IS)\n",
    "# NOTE: wikiGraphRDD should have been computed & cached above!\n",
    "nIter = 10\n",
    "start = time.time()\n",
    "full_results = runPageRank(wikiGraphRDD, alpha = 0.15, maxIter = nIter, verbose = True)\n",
    "print(f'...trained {nIter} iterations in {time.time() - start} seconds.')\n",
    "print(f'Top 20 ranked nodes:')\n",
    "full_results.takeOrdered(20, key=lambda x: - x[1])"
   ]
  },
  {
   "cell_type": "code",
   "execution_count": null,
   "metadata": {
    "application/vnd.databricks.v1+cell": {
     "inputWidgets": {},
     "nuid": "3fa84e8e-61fb-4799-9611-f4d7da67c9c3",
     "showTitle": false,
     "title": ""
    }
   },
   "outputs": [],
   "source": [
    "top_20 = full_results.takeOrdered(20, key=lambda x: - x[1])"
   ]
  },
  {
   "cell_type": "code",
   "execution_count": 60,
   "metadata": {
    "application/vnd.databricks.v1+cell": {
     "inputWidgets": {},
     "nuid": "354f3a73-d425-4ee6-9e60-31e78af24e1e",
     "showTitle": false,
     "title": ""
    }
   },
   "outputs": [
    {
     "data": {
      "text/plain": [
       "['! $var = &quot;&quot;\\t1\\t1\\t0',\n",
       " '! (CONFIG.SYS directive)\\t2\\t1\\t1',\n",
       " '! (album)\\t3\\t12\\t17',\n",
       " '! (disambiguation)\\t4\\t1\\t20',\n",
       " '! -attention-\\t5\\t1\\t0',\n",
       " '! Time Zone\\t6\\t1\\t0',\n",
       " '!! (chess)\\t7\\t0\\t1',\n",
       " '!! (disambiguation)\\t8\\t3\\t0',\n",
       " '!!! (Chk Chk Chk)\\t9\\t1\\t0',\n",
       " '!!! (album)\\t10\\t5\\t15',\n",
       " '!!! Chk Chk Chk\\t11\\t1\\t0',\n",
       " '!!!\\t12\\t182\\t67',\n",
       " '!!!Fuck You!!! And Then Some\\t13\\t1\\t0',\n",
       " '!!!Fuck You!!! and Then Some\\t14\\t6\\t0',\n",
       " '!!!Fuck You!!!\\t15\\t8\\t1',\n",
       " '!!\\t16\\t1\\t15',\n",
       " '!!Destroy-Oh-Boy!!\\t17\\t5\\t33',\n",
       " '!!Fuck you!!\\t18\\t0\\t2',\n",
       " '!!M\\t19\\t0\\t1',\n",
       " '!\\t20\\t35\\t0']"
      ]
     },
     "execution_count": 60,
     "metadata": {},
     "output_type": "execute_result"
    }
   ],
   "source": [
    "# view record from indexRDD (RUN THIS CELL AS IS)\n",
    "# title\\t indx\\t inDeg\\t outDeg\n",
    "indexRDD.take(20)"
   ]
  },
  {
   "cell_type": "code",
   "execution_count": 67,
   "metadata": {
    "application/vnd.databricks.v1+cell": {
     "inputWidgets": {},
     "nuid": "b263bfa5-7489-4efe-bc48-c6d094261fdc",
     "showTitle": false,
     "title": ""
    }
   },
   "outputs": [],
   "source": [
    "# map indexRDD to new format (index, name) (RUN THIS CELL AS IS)\n",
    "namesKV_RDD = indexRDD.map(lambda x: (int(x.split('\\t')[1]), x.split('\\t')[0]))"
   ]
  },
  {
   "cell_type": "code",
   "execution_count": 68,
   "metadata": {
    "application/vnd.databricks.v1+cell": {
     "inputWidgets": {},
     "nuid": "2599f841-1631-4052-afe6-adb736d17a66",
     "showTitle": false,
     "title": ""
    }
   },
   "outputs": [
    {
     "data": {
      "text/plain": [
       "[(1, '! $var = &quot;&quot;'), (2, '! (CONFIG.SYS directive)')]"
      ]
     },
     "execution_count": 68,
     "metadata": {},
     "output_type": "execute_result"
    }
   ],
   "source": [
    "# see new format (RUN THIS CELL AS IS)\n",
    "namesKV_RDD.take(2)"
   ]
  },
  {
   "cell_type": "code",
   "execution_count": 54,
   "metadata": {
    "application/vnd.databricks.v1+cell": {
     "inputWidgets": {},
     "nuid": "6e2f1bba-46eb-4d29-bdaf-55ca4ec1fa4d",
     "showTitle": false,
     "title": ""
    }
   },
   "outputs": [],
   "source": [
    "# We should have saved these above, but it takes too long to run in the cloud ($$$), so for expedience:\n",
    "top_20 = [(13455888, 0.0015447247129832947),\n",
    " (4695850, 0.0006710240718906518),\n",
    " (5051368, 0.0005983856809747697),\n",
    " (1184351, 0.0005982073536467391),\n",
    " (2437837, 0.0004624928928940748),\n",
    " (6076759, 0.00045509400641448284),\n",
    " (4196067, 0.0004423778888372447),\n",
    " (13425865, 0.00044155351714348035),\n",
    " (6172466, 0.0004224002001845032),\n",
    " (1384888, 0.0004012895604073632),\n",
    " (6113490, 0.00039578924771805474),\n",
    " (14112583, 0.0003943847283754762),\n",
    " (7902219, 0.000370098784735699),\n",
    " (10390714, 0.0003650264964328283),\n",
    " (12836211, 0.0003619948863114985),\n",
    " (6237129, 0.0003519555847625285),\n",
    " (6416278, 0.00034866235645266493),\n",
    " (13432150, 0.00033936510637418247),\n",
    " (1516699, 0.00033297500286244265),\n",
    " (7990491, 0.00030760906265869104)]"
   ]
  },
  {
   "cell_type": "code",
   "execution_count": 55,
   "metadata": {
    "application/vnd.databricks.v1+cell": {
     "inputWidgets": {},
     "nuid": "88c7ba4d-0ecc-43f3-9d37-61efeac666ad",
     "showTitle": false,
     "title": ""
    }
   },
   "outputs": [],
   "source": [
    "# (RUN THIS CELL AS IS)\n",
    "top_20_RDD = sc.parallelize(top_20)"
   ]
  },
  {
   "cell_type": "code",
   "execution_count": 56,
   "metadata": {
    "application/vnd.databricks.v1+cell": {
     "inputWidgets": {},
     "nuid": "16e9d1e2-1371-4c58-b8a4-5e96e700d550",
     "showTitle": false,
     "title": ""
    }
   },
   "outputs": [
    {
     "data": {
      "text/plain": [
       "[(13455888, 0.0015447247129832947)]"
      ]
     },
     "execution_count": 56,
     "metadata": {},
     "output_type": "execute_result"
    }
   ],
   "source": [
    "# (RUN THIS CELL AS IS)\n",
    "top_20_RDD.take(1)"
   ]
  },
  {
   "cell_type": "markdown",
   "metadata": {
    "application/vnd.databricks.v1+cell": {
     "inputWidgets": {},
     "nuid": "60a28998-2113-493e-bfe5-4e03f7ffc00d",
     "showTitle": false,
     "title": ""
    }
   },
   "source": [
    "# Question 9 - Pretty Print\n",
    "\n",
    "### Q9 Tasks\n",
    "The indexRDD we created earlier from the indices.txt file contains the titles of the pages and their IDs.\n",
    "\n",
    "* __a) code:__ Join this dataset with your top 20 results.\n",
    "* __b) code:__ Print the results"
   ]
  },
  {
   "cell_type": "markdown",
   "metadata": {
    "application/vnd.databricks.v1+cell": {
     "inputWidgets": {},
     "nuid": "214ae778-74f0-4a69-80f8-2f1c9f2ea457",
     "showTitle": false,
     "title": ""
    }
   },
   "source": [
    "Join with indexRDD and print pretty"
   ]
  },
  {
   "cell_type": "code",
   "execution_count": 76,
   "metadata": {
    "application/vnd.databricks.v1+cell": {
     "inputWidgets": {},
     "nuid": "dbd79f40-9e35-4681-b8b8-9f36131dfa24",
     "showTitle": false,
     "title": ""
    }
   },
   "outputs": [],
   "source": [
    "# part a\n",
    "joinedWithNames = None\n",
    "############## YOUR CODE HERE ###############\n",
    "joinedWithNames = top_20_RDD.join(namesKV_RDD)\n",
    "############## END YOUR CODE ###############"
   ]
  },
  {
   "cell_type": "code",
   "execution_count": 77,
   "metadata": {},
   "outputs": [
    {
     "name": "stderr",
     "output_type": "stream",
     "text": [
      "                                                                                \r"
     ]
    },
    {
     "data": {
      "text/plain": [
       "[(4196067, (0.0004423778888372447, 'England'))]"
      ]
     },
     "execution_count": 77,
     "metadata": {},
     "output_type": "execute_result"
    }
   ],
   "source": [
    "joinedWithNames.take(1)"
   ]
  },
  {
   "cell_type": "code",
   "execution_count": 82,
   "metadata": {},
   "outputs": [
    {
     "name": "stderr",
     "output_type": "stream",
     "text": [
      "                                                                                \r"
     ]
    }
   ],
   "source": [
    "joinedWithNames = joinedWithNames.collect()"
   ]
  },
  {
   "cell_type": "code",
   "execution_count": 87,
   "metadata": {
    "application/vnd.databricks.v1+cell": {
     "inputWidgets": {},
     "nuid": "2c12903a-ae73-439d-9436-b4a732570d48",
     "showTitle": false,
     "title": ""
    }
   },
   "outputs": [
    {
     "name": "stdout",
     "output_type": "stream",
     "text": [
      "Title     \t| PageRank  \t| Page id\n",
      "====================================================================================================\n",
      "England\t| 4196067.000000\t|   0.000442\n",
      "World War II\t| 14112583.000000\t|   0.000394\n",
      "Germany\t| 5051368.000000\t|   0.000598\n",
      "United Kingdom\t| 13425865.000000\t|   0.000442\n",
      "Italy\t| 6237129.000000\t|   0.000352\n",
      "France\t| 4695850.000000\t|   0.000671\n",
      "List of sovereign states\t| 7902219.000000\t|   0.000370\n",
      "Canada\t| 2437837.000000\t|   0.000462\n",
      "United States\t| 13455888.000000\t|   0.001545\n",
      "Iran\t| 6172466.000000\t|   0.000422\n",
      "Insect\t| 6113490.000000\t|   0.000396\n",
      "The New York Times\t| 12836211.000000\t|   0.000362\n",
      "Japan\t| 6416278.000000\t|   0.000349\n",
      "United States Census Bureau\t| 13432150.000000\t|   0.000339\n",
      "India\t| 6076759.000000\t|   0.000455\n",
      "Arthropod\t| 1384888.000000\t|   0.000401\n",
      "Poland\t| 10390714.000000\t|   0.000365\n",
      "Australia\t| 1516699.000000\t|   0.000333\n",
      "London\t| 7990491.000000\t|   0.000308\n",
      "Animal\t| 1184351.000000\t|   0.000598\n"
     ]
    }
   ],
   "source": [
    "# part b\n",
    "# Feel free to modify this cell to suit your implementation, but please keep the formatting and sort order.\n",
    "print(\"{:10s}\\t| {:10s}\\t| {}\".format(\"Title\",\"PageRank\",\"Page id\"))\n",
    "print(\"=\"*100)\n",
    "for r in joinedWithNames:\n",
    "    print (\"{}\\t| {:6f}\\t| {:10f}\".format(r[1][1],r[0],r[1][0]))"
   ]
  },
  {
   "cell_type": "markdown",
   "metadata": {
    "application/vnd.databricks.v1+cell": {
     "inputWidgets": {},
     "nuid": "c12a3c17-a607-4df0-bb19-5e567fea710d",
     "showTitle": false,
     "title": ""
    }
   },
   "source": [
    "# Question 10 - GraphFrames\n",
    "GraphFrames is a graph library which is built on top of the Spark DataFrames API.\n",
    "\n",
    "### Q10 Tasks\n",
    "* __a) code:__ Using the same dataset, run the graphframes implementation of pagerank.\n",
    "* __b) code:__ Join the top 20 results with indices.txt and display in the same format as above.\n",
    "* __c) short answer:__ Compare your results with the results from graphframes.\n",
    "\n",
    "__NOTE:__ Feel free to create as many code cells as you need. Code should be clear and concise - do not include your scratch work. Comment your code if it's not self annotating."
   ]
  },
  {
   "cell_type": "code",
   "execution_count": null,
   "metadata": {},
   "outputs": [],
   "source": [
    "!pip install graphframes"
   ]
  },
  {
   "cell_type": "code",
   "execution_count": null,
   "metadata": {
    "application/vnd.databricks.v1+cell": {
     "inputWidgets": {},
     "nuid": "dd1246ac-dbfe-419a-8a70-be63784964b2",
     "showTitle": false,
     "title": ""
    }
   },
   "outputs": [],
   "source": [
    "# imports\n",
    "import re\n",
    "import ast\n",
    "import time\n",
    "import numpy as np\n",
    "import pandas as pd\n",
    "import seaborn as sns\n",
    "import networkx as nx\n",
    "import matplotlib.pyplot as plt\n",
    "from graphframes import *\n",
    "from pyspark.sql import functions as F"
   ]
  },
  {
   "cell_type": "code",
   "execution_count": null,
   "metadata": {
    "application/vnd.databricks.v1+cell": {
     "inputWidgets": {},
     "nuid": "20fd8527-d7c3-4b0c-bc57-54fbb5ce9515",
     "showTitle": false,
     "title": ""
    }
   },
   "outputs": [],
   "source": [
    "# load the data into Spark RDDs for convenience of use later (RUN THIS CELL AS IS)\n",
    "testRDD = sc.textFile(HW5_FOLDER +'test_graph.txt')\n",
    "indexRDD = sc.textFile(HW5_FOLDER + '/indices/')\n",
    "wikiRDD = sc.textFile(HW5_FOLDER + '/all-pages-indexed-out/')"
   ]
  },
  {
   "cell_type": "code",
   "execution_count": null,
   "metadata": {
    "application/vnd.databricks.v1+cell": {
     "inputWidgets": {},
     "nuid": "cdcf35dd-6685-4c46-b952-0741a1445483",
     "showTitle": false,
     "title": ""
    }
   },
   "outputs": [],
   "source": [
    "DF = wikiRDD.map(lambda x: (x.split('\\t')[0], ast.literal_eval(x.split('\\t')[1]))).toDF()"
   ]
  },
  {
   "cell_type": "code",
   "execution_count": null,
   "metadata": {
    "application/vnd.databricks.v1+cell": {
     "inputWidgets": {},
     "nuid": "36901341-b8d5-4aef-a317-3f141623e258",
     "showTitle": false,
     "title": ""
    }
   },
   "outputs": [],
   "source": [
    "%%time\n",
    "DF.take(1)"
   ]
  },
  {
   "cell_type": "code",
   "execution_count": null,
   "metadata": {
    "application/vnd.databricks.v1+cell": {
     "inputWidgets": {},
     "nuid": "2a7cc69f-9255-4e66-b38e-4f220c19978b",
     "showTitle": false,
     "title": ""
    }
   },
   "outputs": [],
   "source": [
    "v = DF.select('_1').withColumnRenamed('_1','id').distinct().cache()"
   ]
  },
  {
   "cell_type": "code",
   "execution_count": null,
   "metadata": {
    "application/vnd.databricks.v1+cell": {
     "inputWidgets": {},
     "nuid": "3e0acb8d-549e-498e-8ee8-dde9f1bf9567",
     "showTitle": false,
     "title": ""
    }
   },
   "outputs": [],
   "source": [
    "%%time\n",
    "v.show(1)"
   ]
  },
  {
   "cell_type": "code",
   "execution_count": null,
   "metadata": {
    "application/vnd.databricks.v1+cell": {
     "inputWidgets": {},
     "nuid": "e6bb3e13-87f0-40eb-8f7d-3115a1260281",
     "showTitle": false,
     "title": ""
    }
   },
   "outputs": [],
   "source": [
    "import ast\n",
    "def getEdges(row):\n",
    "    node_id, nodes = row\n",
    "    for node in nodes: \n",
    "        yield int(node_id), int(node)"
   ]
  },
  {
   "cell_type": "code",
   "execution_count": null,
   "metadata": {
    "application/vnd.databricks.v1+cell": {
     "inputWidgets": {},
     "nuid": "30374f21-77b3-4eb7-bde9-bde759ba439a",
     "showTitle": false,
     "title": ""
    }
   },
   "outputs": [],
   "source": [
    "e = spark.createDataFrame(DF.rdd.flatMap(getEdges), [\"src\", \"dst\"]).cache()"
   ]
  },
  {
   "cell_type": "code",
   "execution_count": null,
   "metadata": {
    "application/vnd.databricks.v1+cell": {
     "inputWidgets": {},
     "nuid": "075775ec-3195-4693-8a43-ed34de1e4dd2",
     "showTitle": false,
     "title": ""
    }
   },
   "outputs": [],
   "source": [
    "%%time\n",
    "e.show(1)"
   ]
  },
  {
   "cell_type": "code",
   "execution_count": null,
   "metadata": {
    "application/vnd.databricks.v1+cell": {
     "inputWidgets": {},
     "nuid": "6c394bd5-f474-4246-8ca2-bcc963c48909",
     "showTitle": false,
     "title": ""
    }
   },
   "outputs": [],
   "source": [
    "# Create a GraphFrame\n",
    "# from graphframes import *\n",
    "g = GraphFrame(v, e)\n",
    "\n",
    "# Query: Get in-degree of each vertex.\n",
    "# g.inDegrees.show()"
   ]
  },
  {
   "cell_type": "code",
   "execution_count": null,
   "metadata": {
    "application/vnd.databricks.v1+cell": {
     "inputWidgets": {},
     "nuid": "f208aeea-dff7-476a-9f18-5b63b44f5351",
     "showTitle": false,
     "title": ""
    }
   },
   "outputs": [],
   "source": [
    "# Run PageRank algorithm, and show results.\n",
    "results = g.pageRank(resetProbability=0.15, maxIter=10)"
   ]
  },
  {
   "cell_type": "code",
   "execution_count": null,
   "metadata": {
    "application/vnd.databricks.v1+cell": {
     "inputWidgets": {},
     "nuid": "9cc1d995-e196-498d-b7fc-ba0890ddf733",
     "showTitle": false,
     "title": ""
    }
   },
   "outputs": [],
   "source": [
    "start = time.time()\n",
    "top_20 = results.vertices.orderBy(F.desc(\"pagerank\")).limit(20)\n",
    "print(f'... completed job in {time.time() - start} seconds.')"
   ]
  },
  {
   "cell_type": "code",
   "execution_count": null,
   "metadata": {
    "application/vnd.databricks.v1+cell": {
     "inputWidgets": {},
     "nuid": "b8d965cb-2ec0-4b5f-99d7-6314855b1ba9",
     "showTitle": false,
     "title": ""
    }
   },
   "outputs": [],
   "source": [
    "%%time\n",
    "top_20.show()"
   ]
  },
  {
   "cell_type": "code",
   "execution_count": null,
   "metadata": {
    "application/vnd.databricks.v1+cell": {
     "inputWidgets": {},
     "nuid": "a717f3e7-d981-4473-86a9-2a88ddb820e3",
     "showTitle": false,
     "title": ""
    }
   },
   "outputs": [],
   "source": [
    "namesKV_RDD = indexRDD.map(lambda x: (int(x.split('\\t')[1]), x.split('\\t')[0]))"
   ]
  },
  {
   "cell_type": "code",
   "execution_count": null,
   "metadata": {
    "application/vnd.databricks.v1+cell": {
     "inputWidgets": {},
     "nuid": "a1698115-d79c-4bfe-be56-5fd353cc90aa",
     "showTitle": false,
     "title": ""
    }
   },
   "outputs": [],
   "source": [
    "namesKV_DF = namesKV_RDD.toDF()"
   ]
  },
  {
   "cell_type": "code",
   "execution_count": null,
   "metadata": {
    "application/vnd.databricks.v1+cell": {
     "inputWidgets": {},
     "nuid": "54c22db5-9d66-4b73-a2bf-7d430f43dd07",
     "showTitle": false,
     "title": ""
    }
   },
   "outputs": [],
   "source": [
    "namesKV_DF = namesKV_DF.withColumnRenamed('_1','id')\n",
    "namesKV_DF = namesKV_DF.withColumnRenamed('_2','title')\n",
    "namesKV_DF.take(1)"
   ]
  },
  {
   "cell_type": "code",
   "execution_count": null,
   "metadata": {
    "application/vnd.databricks.v1+cell": {
     "inputWidgets": {},
     "nuid": "f1398367-eb38-47cb-aa64-d8d5cfddccfd",
     "showTitle": false,
     "title": ""
    }
   },
   "outputs": [],
   "source": [
    "resultsWithNames = namesKV_DF.join(top_20, namesKV_DF.id==top_20.id).orderBy(F.desc(\"pagerank\")).collect()"
   ]
  },
  {
   "cell_type": "code",
   "execution_count": null,
   "metadata": {
    "application/vnd.databricks.v1+cell": {
     "inputWidgets": {},
     "nuid": "54d805ab-bb38-4448-bd5a-12375f20f4ee",
     "showTitle": false,
     "title": ""
    }
   },
   "outputs": [],
   "source": [
    "# TODO: use f' for string formatting\n",
    "print(\"{:10s}\\t| {:10s}\\t| {}\".format(\"PageRank\",\"Page id\",\"Title\"))\n",
    "print(\"=\"*100)\n",
    "for r in resultsWithNames:\n",
    "    print (\"{:6f}\\t| {:10s}\\t| {}\".format(r[3],r[2],r[1]))"
   ]
  },
  {
   "cell_type": "markdown",
   "metadata": {
    "application/vnd.databricks.v1+cell": {
     "inputWidgets": {},
     "nuid": "98b2af00-56fb-40ff-b18d-05186ea2e18a",
     "showTitle": false,
     "title": ""
    }
   },
   "source": [
    "Our RDD implementaion takes about 35 minutes, whereas the GraphFrame one takes around 8 minutes. GraphFrames doesn't normalize the ranks."
   ]
  },
  {
   "cell_type": "markdown",
   "metadata": {
    "application/vnd.databricks.v1+cell": {
     "inputWidgets": {},
     "nuid": "283e566b-62ce-4cbf-a596-61af41a10cf4",
     "showTitle": false,
     "title": ""
    }
   },
   "source": [
    "### Congratulations, you have completed HW5! Please refer to the readme for submission instructions.\n",
    "\n",
    "If you would like to provide feedback regarding this homework, please use the survey at: https://docs.google.com/forms/d/e/1FAIpQLSce9feiQeSkdP43A0ZYui1tMGIBfLfzb0rmgToQeZD9bXXX8Q/viewform"
   ]
  },
  {
   "cell_type": "code",
   "execution_count": null,
   "metadata": {
    "application/vnd.databricks.v1+cell": {
     "inputWidgets": {},
     "nuid": "c8c9a12e-fe1e-4456-bcb2-001e3f673bbe",
     "showTitle": false,
     "title": ""
    }
   },
   "outputs": [],
   "source": []
  }
 ],
 "metadata": {
  "application/vnd.databricks.v1+notebook": {
   "dashboards": [],
   "language": "python",
   "notebookMetadata": {
    "pythonIndentUnit": 4
   },
   "notebookName": "hw5_workbook",
   "notebookOrigID": 2232281932179490,
   "widgets": {}
  },
  "kernelspec": {
   "display_name": "Python 3",
   "language": "python",
   "name": "python3"
  },
  "language_info": {
   "codemirror_mode": {
    "name": "ipython",
    "version": 3
   },
   "file_extension": ".py",
   "mimetype": "text/x-python",
   "name": "python",
   "nbconvert_exporter": "python",
   "pygments_lexer": "ipython3",
   "version": "3.8.13"
  },
  "toc-autonumbering": true
 },
 "nbformat": 4,
 "nbformat_minor": 4
}
